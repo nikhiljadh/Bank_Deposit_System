{
 "cells": [
  {
   "cell_type": "markdown",
   "id": "1f83e98b",
   "metadata": {},
   "source": [
    "## Problem Statement\n",
    "\n",
    "A Portuguese bank is rolling out term deposit for its customers. They have in the past connected to their customer base through phone calls. Results for these previous campaigns were recorded and have been provided to the current campaign manager to use the same in making this campaign more effective.\n",
    "\n",
    "Challenges that the manager faces are following:\n",
    "\n",
    "•  Customers have recently started to complain that bank’s marketing staff bothers them with irrelevant product calls and this should  immediately stop\n",
    "\n",
    "•  There is no prior framework for her decide and choose which customer to call and which one to leave alone\n",
    "\n",
    "She has decided to use past data to automate this decision, instead of manually choosing through each and every customer. Previous campaign data which has been made available to her; contains customer characteristics , campaign characteristics, previous campaign information as well as whether customer ended up subscribing to the product as a result of that campaign or not. Using this she plans to develop a statistical model which given this information predicts whether customer in question will subscribe to the product or not. A successful model which is able to do this, will make her campaign efficiently targeted and less bothering to uninterested customers.\n",
    "\n",
    "We have given you two datasets , bank-full_train.csv and bank-full_test.csv . You need to use data bank-full_train.csv to build predictive model for response variable “y”. bank-full_test.csv data contains all other factors except “y”, you need to predict that using the model that you developed and submit your predicted values in a csv files."
   ]
  },
  {
   "cell_type": "markdown",
   "id": "aee18b34",
   "metadata": {},
   "source": [
    "#### In solving this problem statement my notebook follow the below strategy"
   ]
  },
  {
   "cell_type": "markdown",
   "id": "7c466333",
   "metadata": {},
   "source": [
    "<center>\n",
    "\n",
    "| Sr. No | Strategies                                                      |\n",
    "|--------|:-----------------------------------------------------------------|\n",
    "| 1      | Imputing NA values in the datasets                               |\n",
    "| 2      | Data Preparation                                                |\n",
    "| 3      | Model Building                                                  |\n",
    "| 4      | Finding Cutoff value and Performance measurements of the model. |\n",
    "| 5      | Predict the final output on test dataset (whether the client subscribes or not to term deposit) |\n",
    "    \n",
    "</center>"
   ]
  },
  {
   "cell_type": "markdown",
   "id": "3ca297c1",
   "metadata": {},
   "source": [
    "### 1.Imputing NA values in the datasets."
   ]
  },
  {
   "cell_type": "code",
   "execution_count": 3,
   "id": "9553ad9a",
   "metadata": {},
   "outputs": [],
   "source": [
    "train = read.csv(\"bank-full_train.csv\",stringsAsFactors = F)\n",
    "test = read.csv(\"bank-full_test.csv\",stringsAsFactors = F)"
   ]
  },
  {
   "cell_type": "code",
   "execution_count": 4,
   "id": "67085d5d",
   "metadata": {},
   "outputs": [
    {
     "data": {
      "text/html": [
       "<table class=\"dataframe\">\n",
       "<caption>A data.frame: 6 × 18</caption>\n",
       "<thead>\n",
       "\t<tr><th></th><th scope=col>age</th><th scope=col>job</th><th scope=col>marital</th><th scope=col>education</th><th scope=col>default</th><th scope=col>balance</th><th scope=col>housing</th><th scope=col>loan</th><th scope=col>contact</th><th scope=col>day</th><th scope=col>month</th><th scope=col>duration</th><th scope=col>campaign</th><th scope=col>pdays</th><th scope=col>previous</th><th scope=col>poutcome</th><th scope=col>ID</th><th scope=col>y</th></tr>\n",
       "\t<tr><th></th><th scope=col>&lt;int&gt;</th><th scope=col>&lt;chr&gt;</th><th scope=col>&lt;chr&gt;</th><th scope=col>&lt;chr&gt;</th><th scope=col>&lt;chr&gt;</th><th scope=col>&lt;int&gt;</th><th scope=col>&lt;chr&gt;</th><th scope=col>&lt;chr&gt;</th><th scope=col>&lt;chr&gt;</th><th scope=col>&lt;int&gt;</th><th scope=col>&lt;chr&gt;</th><th scope=col>&lt;int&gt;</th><th scope=col>&lt;int&gt;</th><th scope=col>&lt;int&gt;</th><th scope=col>&lt;int&gt;</th><th scope=col>&lt;chr&gt;</th><th scope=col>&lt;int&gt;</th><th scope=col>&lt;chr&gt;</th></tr>\n",
       "</thead>\n",
       "<tbody>\n",
       "\t<tr><th scope=row>1</th><td>45</td><td>blue-collar  </td><td>married </td><td>secondary</td><td>no</td><td>   2</td><td>no </td><td>no </td><td>cellular</td><td>26</td><td>aug</td><td>105</td><td>10</td><td>-1</td><td>0</td><td>unknown</td><td>22944</td><td>no </td></tr>\n",
       "\t<tr><th scope=row>2</th><td>34</td><td>admin.       </td><td>divorced</td><td>secondary</td><td>no</td><td>   0</td><td>no </td><td>no </td><td>cellular</td><td>10</td><td>jul</td><td>268</td><td> 1</td><td>-1</td><td>0</td><td>unknown</td><td>13870</td><td>no </td></tr>\n",
       "\t<tr><th scope=row>3</th><td>40</td><td>technician   </td><td>divorced</td><td>secondary</td><td>no</td><td> 311</td><td>no </td><td>no </td><td>cellular</td><td> 6</td><td>aug</td><td>738</td><td> 2</td><td>-1</td><td>0</td><td>unknown</td><td>19301</td><td>yes</td></tr>\n",
       "\t<tr><th scope=row>4</th><td>58</td><td>self-employed</td><td>married </td><td>tertiary </td><td>no</td><td>5810</td><td>no </td><td>no </td><td>cellular</td><td>12</td><td>mar</td><td>139</td><td> 1</td><td>-1</td><td>0</td><td>unknown</td><td>31334</td><td>yes</td></tr>\n",
       "\t<tr><th scope=row>5</th><td>59</td><td>blue-collar  </td><td>married </td><td>secondary</td><td>no</td><td> 169</td><td>yes</td><td>no </td><td>unknown </td><td>16</td><td>may</td><td>181</td><td> 3</td><td>-1</td><td>0</td><td>unknown</td><td> 3849</td><td>no </td></tr>\n",
       "\t<tr><th scope=row>6</th><td>36</td><td>services     </td><td>married </td><td>secondary</td><td>no</td><td>  24</td><td>yes</td><td>yes</td><td>unknown </td><td>11</td><td>jun</td><td>100</td><td> 5</td><td>-1</td><td>0</td><td>unknown</td><td>10192</td><td>no </td></tr>\n",
       "</tbody>\n",
       "</table>\n"
      ],
      "text/latex": [
       "A data.frame: 6 × 18\n",
       "\\begin{tabular}{r|llllllllllllllllll}\n",
       "  & age & job & marital & education & default & balance & housing & loan & contact & day & month & duration & campaign & pdays & previous & poutcome & ID & y\\\\\n",
       "  & <int> & <chr> & <chr> & <chr> & <chr> & <int> & <chr> & <chr> & <chr> & <int> & <chr> & <int> & <int> & <int> & <int> & <chr> & <int> & <chr>\\\\\n",
       "\\hline\n",
       "\t1 & 45 & blue-collar   & married  & secondary & no &    2 & no  & no  & cellular & 26 & aug & 105 & 10 & -1 & 0 & unknown & 22944 & no \\\\\n",
       "\t2 & 34 & admin.        & divorced & secondary & no &    0 & no  & no  & cellular & 10 & jul & 268 &  1 & -1 & 0 & unknown & 13870 & no \\\\\n",
       "\t3 & 40 & technician    & divorced & secondary & no &  311 & no  & no  & cellular &  6 & aug & 738 &  2 & -1 & 0 & unknown & 19301 & yes\\\\\n",
       "\t4 & 58 & self-employed & married  & tertiary  & no & 5810 & no  & no  & cellular & 12 & mar & 139 &  1 & -1 & 0 & unknown & 31334 & yes\\\\\n",
       "\t5 & 59 & blue-collar   & married  & secondary & no &  169 & yes & no  & unknown  & 16 & may & 181 &  3 & -1 & 0 & unknown &  3849 & no \\\\\n",
       "\t6 & 36 & services      & married  & secondary & no &   24 & yes & yes & unknown  & 11 & jun & 100 &  5 & -1 & 0 & unknown & 10192 & no \\\\\n",
       "\\end{tabular}\n"
      ],
      "text/markdown": [
       "\n",
       "A data.frame: 6 × 18\n",
       "\n",
       "| <!--/--> | age &lt;int&gt; | job &lt;chr&gt; | marital &lt;chr&gt; | education &lt;chr&gt; | default &lt;chr&gt; | balance &lt;int&gt; | housing &lt;chr&gt; | loan &lt;chr&gt; | contact &lt;chr&gt; | day &lt;int&gt; | month &lt;chr&gt; | duration &lt;int&gt; | campaign &lt;int&gt; | pdays &lt;int&gt; | previous &lt;int&gt; | poutcome &lt;chr&gt; | ID &lt;int&gt; | y &lt;chr&gt; |\n",
       "|---|---|---|---|---|---|---|---|---|---|---|---|---|---|---|---|---|---|---|\n",
       "| 1 | 45 | blue-collar   | married  | secondary | no |    2 | no  | no  | cellular | 26 | aug | 105 | 10 | -1 | 0 | unknown | 22944 | no  |\n",
       "| 2 | 34 | admin.        | divorced | secondary | no |    0 | no  | no  | cellular | 10 | jul | 268 |  1 | -1 | 0 | unknown | 13870 | no  |\n",
       "| 3 | 40 | technician    | divorced | secondary | no |  311 | no  | no  | cellular |  6 | aug | 738 |  2 | -1 | 0 | unknown | 19301 | yes |\n",
       "| 4 | 58 | self-employed | married  | tertiary  | no | 5810 | no  | no  | cellular | 12 | mar | 139 |  1 | -1 | 0 | unknown | 31334 | yes |\n",
       "| 5 | 59 | blue-collar   | married  | secondary | no |  169 | yes | no  | unknown  | 16 | may | 181 |  3 | -1 | 0 | unknown |  3849 | no  |\n",
       "| 6 | 36 | services      | married  | secondary | no |   24 | yes | yes | unknown  | 11 | jun | 100 |  5 | -1 | 0 | unknown | 10192 | no  |\n",
       "\n"
      ],
      "text/plain": [
       "  age job           marital  education default balance housing loan contact \n",
       "1 45  blue-collar   married  secondary no         2    no      no   cellular\n",
       "2 34  admin.        divorced secondary no         0    no      no   cellular\n",
       "3 40  technician    divorced secondary no       311    no      no   cellular\n",
       "4 58  self-employed married  tertiary  no      5810    no      no   cellular\n",
       "5 59  blue-collar   married  secondary no       169    yes     no   unknown \n",
       "6 36  services      married  secondary no        24    yes     yes  unknown \n",
       "  day month duration campaign pdays previous poutcome ID    y  \n",
       "1 26  aug   105      10       -1    0        unknown  22944 no \n",
       "2 10  jul   268       1       -1    0        unknown  13870 no \n",
       "3  6  aug   738       2       -1    0        unknown  19301 yes\n",
       "4 12  mar   139       1       -1    0        unknown  31334 yes\n",
       "5 16  may   181       3       -1    0        unknown   3849 no \n",
       "6 11  jun   100       5       -1    0        unknown  10192 no "
      ]
     },
     "metadata": {},
     "output_type": "display_data"
    }
   ],
   "source": [
    "head(train)"
   ]
  },
  {
   "cell_type": "code",
   "execution_count": 5,
   "id": "9d6a46a1",
   "metadata": {},
   "outputs": [
    {
     "data": {
      "text/html": [
       "<table class=\"dataframe\">\n",
       "<caption>A data.frame: 6 × 17</caption>\n",
       "<thead>\n",
       "\t<tr><th></th><th scope=col>age</th><th scope=col>job</th><th scope=col>marital</th><th scope=col>education</th><th scope=col>default</th><th scope=col>balance</th><th scope=col>housing</th><th scope=col>loan</th><th scope=col>contact</th><th scope=col>day</th><th scope=col>month</th><th scope=col>duration</th><th scope=col>campaign</th><th scope=col>pdays</th><th scope=col>previous</th><th scope=col>poutcome</th><th scope=col>ID</th></tr>\n",
       "\t<tr><th></th><th scope=col>&lt;int&gt;</th><th scope=col>&lt;chr&gt;</th><th scope=col>&lt;chr&gt;</th><th scope=col>&lt;chr&gt;</th><th scope=col>&lt;chr&gt;</th><th scope=col>&lt;int&gt;</th><th scope=col>&lt;chr&gt;</th><th scope=col>&lt;chr&gt;</th><th scope=col>&lt;chr&gt;</th><th scope=col>&lt;int&gt;</th><th scope=col>&lt;chr&gt;</th><th scope=col>&lt;int&gt;</th><th scope=col>&lt;int&gt;</th><th scope=col>&lt;int&gt;</th><th scope=col>&lt;int&gt;</th><th scope=col>&lt;chr&gt;</th><th scope=col>&lt;int&gt;</th></tr>\n",
       "</thead>\n",
       "<tbody>\n",
       "\t<tr><th scope=row>1</th><td>33</td><td>entrepreneur</td><td>married</td><td>secondary</td><td>no</td><td>   2</td><td>yes</td><td>yes</td><td>unknown</td><td>5</td><td>may</td><td> 76</td><td>1</td><td>-1</td><td>0</td><td>unknown</td><td> 3</td></tr>\n",
       "\t<tr><th scope=row>2</th><td>47</td><td>blue-collar </td><td>married</td><td>unknown  </td><td>no</td><td>1506</td><td>yes</td><td>no </td><td>unknown</td><td>5</td><td>may</td><td> 92</td><td>1</td><td>-1</td><td>0</td><td>unknown</td><td> 4</td></tr>\n",
       "\t<tr><th scope=row>3</th><td>35</td><td>management  </td><td>married</td><td>tertiary </td><td>no</td><td> 231</td><td>yes</td><td>no </td><td>unknown</td><td>5</td><td>may</td><td>139</td><td>1</td><td>-1</td><td>0</td><td>unknown</td><td> 6</td></tr>\n",
       "\t<tr><th scope=row>4</th><td>28</td><td>management  </td><td>single </td><td>tertiary </td><td>no</td><td> 447</td><td>yes</td><td>yes</td><td>unknown</td><td>5</td><td>may</td><td>217</td><td>1</td><td>-1</td><td>0</td><td>unknown</td><td> 7</td></tr>\n",
       "\t<tr><th scope=row>5</th><td>58</td><td>technician  </td><td>married</td><td>unknown  </td><td>no</td><td>  71</td><td>yes</td><td>no </td><td>unknown</td><td>5</td><td>may</td><td> 71</td><td>1</td><td>-1</td><td>0</td><td>unknown</td><td>14</td></tr>\n",
       "\t<tr><th scope=row>6</th><td>32</td><td>blue-collar </td><td>single </td><td>primary  </td><td>no</td><td>  23</td><td>yes</td><td>yes</td><td>unknown</td><td>5</td><td>may</td><td>160</td><td>1</td><td>-1</td><td>0</td><td>unknown</td><td>23</td></tr>\n",
       "</tbody>\n",
       "</table>\n"
      ],
      "text/latex": [
       "A data.frame: 6 × 17\n",
       "\\begin{tabular}{r|lllllllllllllllll}\n",
       "  & age & job & marital & education & default & balance & housing & loan & contact & day & month & duration & campaign & pdays & previous & poutcome & ID\\\\\n",
       "  & <int> & <chr> & <chr> & <chr> & <chr> & <int> & <chr> & <chr> & <chr> & <int> & <chr> & <int> & <int> & <int> & <int> & <chr> & <int>\\\\\n",
       "\\hline\n",
       "\t1 & 33 & entrepreneur & married & secondary & no &    2 & yes & yes & unknown & 5 & may &  76 & 1 & -1 & 0 & unknown &  3\\\\\n",
       "\t2 & 47 & blue-collar  & married & unknown   & no & 1506 & yes & no  & unknown & 5 & may &  92 & 1 & -1 & 0 & unknown &  4\\\\\n",
       "\t3 & 35 & management   & married & tertiary  & no &  231 & yes & no  & unknown & 5 & may & 139 & 1 & -1 & 0 & unknown &  6\\\\\n",
       "\t4 & 28 & management   & single  & tertiary  & no &  447 & yes & yes & unknown & 5 & may & 217 & 1 & -1 & 0 & unknown &  7\\\\\n",
       "\t5 & 58 & technician   & married & unknown   & no &   71 & yes & no  & unknown & 5 & may &  71 & 1 & -1 & 0 & unknown & 14\\\\\n",
       "\t6 & 32 & blue-collar  & single  & primary   & no &   23 & yes & yes & unknown & 5 & may & 160 & 1 & -1 & 0 & unknown & 23\\\\\n",
       "\\end{tabular}\n"
      ],
      "text/markdown": [
       "\n",
       "A data.frame: 6 × 17\n",
       "\n",
       "| <!--/--> | age &lt;int&gt; | job &lt;chr&gt; | marital &lt;chr&gt; | education &lt;chr&gt; | default &lt;chr&gt; | balance &lt;int&gt; | housing &lt;chr&gt; | loan &lt;chr&gt; | contact &lt;chr&gt; | day &lt;int&gt; | month &lt;chr&gt; | duration &lt;int&gt; | campaign &lt;int&gt; | pdays &lt;int&gt; | previous &lt;int&gt; | poutcome &lt;chr&gt; | ID &lt;int&gt; |\n",
       "|---|---|---|---|---|---|---|---|---|---|---|---|---|---|---|---|---|---|\n",
       "| 1 | 33 | entrepreneur | married | secondary | no |    2 | yes | yes | unknown | 5 | may |  76 | 1 | -1 | 0 | unknown |  3 |\n",
       "| 2 | 47 | blue-collar  | married | unknown   | no | 1506 | yes | no  | unknown | 5 | may |  92 | 1 | -1 | 0 | unknown |  4 |\n",
       "| 3 | 35 | management   | married | tertiary  | no |  231 | yes | no  | unknown | 5 | may | 139 | 1 | -1 | 0 | unknown |  6 |\n",
       "| 4 | 28 | management   | single  | tertiary  | no |  447 | yes | yes | unknown | 5 | may | 217 | 1 | -1 | 0 | unknown |  7 |\n",
       "| 5 | 58 | technician   | married | unknown   | no |   71 | yes | no  | unknown | 5 | may |  71 | 1 | -1 | 0 | unknown | 14 |\n",
       "| 6 | 32 | blue-collar  | single  | primary   | no |   23 | yes | yes | unknown | 5 | may | 160 | 1 | -1 | 0 | unknown | 23 |\n",
       "\n"
      ],
      "text/plain": [
       "  age job          marital education default balance housing loan contact day\n",
       "1 33  entrepreneur married secondary no         2    yes     yes  unknown 5  \n",
       "2 47  blue-collar  married unknown   no      1506    yes     no   unknown 5  \n",
       "3 35  management   married tertiary  no       231    yes     no   unknown 5  \n",
       "4 28  management   single  tertiary  no       447    yes     yes  unknown 5  \n",
       "5 58  technician   married unknown   no        71    yes     no   unknown 5  \n",
       "6 32  blue-collar  single  primary   no        23    yes     yes  unknown 5  \n",
       "  month duration campaign pdays previous poutcome ID\n",
       "1 may    76      1        -1    0        unknown   3\n",
       "2 may    92      1        -1    0        unknown   4\n",
       "3 may   139      1        -1    0        unknown   6\n",
       "4 may   217      1        -1    0        unknown   7\n",
       "5 may    71      1        -1    0        unknown  14\n",
       "6 may   160      1        -1    0        unknown  23"
      ]
     },
     "metadata": {},
     "output_type": "display_data"
    }
   ],
   "source": [
    "head(test)"
   ]
  },
  {
   "cell_type": "code",
   "execution_count": 6,
   "id": "638b18cb",
   "metadata": {},
   "outputs": [
    {
     "data": {
      "text/html": [
       "<style>\n",
       ".dl-inline {width: auto; margin:0; padding: 0}\n",
       ".dl-inline>dt, .dl-inline>dd {float: none; width: auto; display: inline-block}\n",
       ".dl-inline>dt::after {content: \":\\0020\"; padding-right: .5ex}\n",
       ".dl-inline>dt:not(:first-of-type) {padding-left: .5ex}\n",
       "</style><dl class=dl-inline><dt>age</dt><dd>0</dd><dt>job</dt><dd>0</dd><dt>marital</dt><dd>0</dd><dt>education</dt><dd>0</dd><dt>default</dt><dd>0</dd><dt>balance</dt><dd>0</dd><dt>housing</dt><dd>0</dd><dt>loan</dt><dd>0</dd><dt>contact</dt><dd>0</dd><dt>day</dt><dd>0</dd><dt>month</dt><dd>0</dd><dt>duration</dt><dd>0</dd><dt>campaign</dt><dd>0</dd><dt>pdays</dt><dd>0</dd><dt>previous</dt><dd>0</dd><dt>poutcome</dt><dd>0</dd><dt>ID</dt><dd>0</dd><dt>y</dt><dd>0</dd></dl>\n"
      ],
      "text/latex": [
       "\\begin{description*}\n",
       "\\item[age] 0\n",
       "\\item[job] 0\n",
       "\\item[marital] 0\n",
       "\\item[education] 0\n",
       "\\item[default] 0\n",
       "\\item[balance] 0\n",
       "\\item[housing] 0\n",
       "\\item[loan] 0\n",
       "\\item[contact] 0\n",
       "\\item[day] 0\n",
       "\\item[month] 0\n",
       "\\item[duration] 0\n",
       "\\item[campaign] 0\n",
       "\\item[pdays] 0\n",
       "\\item[previous] 0\n",
       "\\item[poutcome] 0\n",
       "\\item[ID] 0\n",
       "\\item[y] 0\n",
       "\\end{description*}\n"
      ],
      "text/markdown": [
       "age\n",
       ":   0job\n",
       ":   0marital\n",
       ":   0education\n",
       ":   0default\n",
       ":   0balance\n",
       ":   0housing\n",
       ":   0loan\n",
       ":   0contact\n",
       ":   0day\n",
       ":   0month\n",
       ":   0duration\n",
       ":   0campaign\n",
       ":   0pdays\n",
       ":   0previous\n",
       ":   0poutcome\n",
       ":   0ID\n",
       ":   0y\n",
       ":   0\n",
       "\n"
      ],
      "text/plain": [
       "      age       job   marital education   default   balance   housing      loan \n",
       "        0         0         0         0         0         0         0         0 \n",
       "  contact       day     month  duration  campaign     pdays  previous  poutcome \n",
       "        0         0         0         0         0         0         0         0 \n",
       "       ID         y \n",
       "        0         0 "
      ]
     },
     "metadata": {},
     "output_type": "display_data"
    }
   ],
   "source": [
    "apply(train,2,function(x)sum(is.na(x)))"
   ]
  },
  {
   "cell_type": "code",
   "execution_count": 7,
   "id": "eed3bd46",
   "metadata": {},
   "outputs": [
    {
     "data": {
      "text/html": [
       "<style>\n",
       ".dl-inline {width: auto; margin:0; padding: 0}\n",
       ".dl-inline>dt, .dl-inline>dd {float: none; width: auto; display: inline-block}\n",
       ".dl-inline>dt::after {content: \":\\0020\"; padding-right: .5ex}\n",
       ".dl-inline>dt:not(:first-of-type) {padding-left: .5ex}\n",
       "</style><dl class=dl-inline><dt>age</dt><dd>0</dd><dt>job</dt><dd>0</dd><dt>marital</dt><dd>0</dd><dt>education</dt><dd>0</dd><dt>default</dt><dd>0</dd><dt>balance</dt><dd>0</dd><dt>housing</dt><dd>0</dd><dt>loan</dt><dd>0</dd><dt>contact</dt><dd>0</dd><dt>day</dt><dd>0</dd><dt>month</dt><dd>0</dd><dt>duration</dt><dd>0</dd><dt>campaign</dt><dd>0</dd><dt>pdays</dt><dd>0</dd><dt>previous</dt><dd>0</dd><dt>poutcome</dt><dd>0</dd><dt>ID</dt><dd>0</dd></dl>\n"
      ],
      "text/latex": [
       "\\begin{description*}\n",
       "\\item[age] 0\n",
       "\\item[job] 0\n",
       "\\item[marital] 0\n",
       "\\item[education] 0\n",
       "\\item[default] 0\n",
       "\\item[balance] 0\n",
       "\\item[housing] 0\n",
       "\\item[loan] 0\n",
       "\\item[contact] 0\n",
       "\\item[day] 0\n",
       "\\item[month] 0\n",
       "\\item[duration] 0\n",
       "\\item[campaign] 0\n",
       "\\item[pdays] 0\n",
       "\\item[previous] 0\n",
       "\\item[poutcome] 0\n",
       "\\item[ID] 0\n",
       "\\end{description*}\n"
      ],
      "text/markdown": [
       "age\n",
       ":   0job\n",
       ":   0marital\n",
       ":   0education\n",
       ":   0default\n",
       ":   0balance\n",
       ":   0housing\n",
       ":   0loan\n",
       ":   0contact\n",
       ":   0day\n",
       ":   0month\n",
       ":   0duration\n",
       ":   0campaign\n",
       ":   0pdays\n",
       ":   0previous\n",
       ":   0poutcome\n",
       ":   0ID\n",
       ":   0\n",
       "\n"
      ],
      "text/plain": [
       "      age       job   marital education   default   balance   housing      loan \n",
       "        0         0         0         0         0         0         0         0 \n",
       "  contact       day     month  duration  campaign     pdays  previous  poutcome \n",
       "        0         0         0         0         0         0         0         0 \n",
       "       ID \n",
       "        0 "
      ]
     },
     "metadata": {},
     "output_type": "display_data"
    }
   ],
   "source": [
    "apply(test,2,function(x)sum(is.na(x)))"
   ]
  },
  {
   "cell_type": "markdown",
   "id": "daa6be59",
   "metadata": {},
   "source": [
    "### 2.Data Preparation"
   ]
  },
  {
   "cell_type": "markdown",
   "id": "8b749a0c",
   "metadata": {},
   "source": [
    "Combining both train n test datasets prior to data preparation."
   ]
  },
  {
   "cell_type": "code",
   "execution_count": 8,
   "id": "118aef1a",
   "metadata": {},
   "outputs": [
    {
     "data": {
      "text/html": [
       "<style>\n",
       ".dl-inline {width: auto; margin:0; padding: 0}\n",
       ".dl-inline>dt, .dl-inline>dd {float: none; width: auto; display: inline-block}\n",
       ".dl-inline>dt::after {content: \":\\0020\"; padding-right: .5ex}\n",
       ".dl-inline>dt:not(:first-of-type) {padding-left: .5ex}\n",
       "</style><dl class=dl-inline><dt>age</dt><dd>0</dd><dt>job</dt><dd>0</dd><dt>marital</dt><dd>0</dd><dt>education</dt><dd>0</dd><dt>default</dt><dd>0</dd><dt>balance</dt><dd>0</dd><dt>housing</dt><dd>0</dd><dt>loan</dt><dd>0</dd><dt>contact</dt><dd>0</dd><dt>day</dt><dd>0</dd><dt>month</dt><dd>0</dd><dt>duration</dt><dd>0</dd><dt>campaign</dt><dd>0</dd><dt>pdays</dt><dd>0</dd><dt>previous</dt><dd>0</dd><dt>poutcome</dt><dd>0</dd><dt>ID</dt><dd>0</dd><dt>y</dt><dd>13564</dd><dt>data</dt><dd>0</dd></dl>\n"
      ],
      "text/latex": [
       "\\begin{description*}\n",
       "\\item[age] 0\n",
       "\\item[job] 0\n",
       "\\item[marital] 0\n",
       "\\item[education] 0\n",
       "\\item[default] 0\n",
       "\\item[balance] 0\n",
       "\\item[housing] 0\n",
       "\\item[loan] 0\n",
       "\\item[contact] 0\n",
       "\\item[day] 0\n",
       "\\item[month] 0\n",
       "\\item[duration] 0\n",
       "\\item[campaign] 0\n",
       "\\item[pdays] 0\n",
       "\\item[previous] 0\n",
       "\\item[poutcome] 0\n",
       "\\item[ID] 0\n",
       "\\item[y] 13564\n",
       "\\item[data] 0\n",
       "\\end{description*}\n"
      ],
      "text/markdown": [
       "age\n",
       ":   0job\n",
       ":   0marital\n",
       ":   0education\n",
       ":   0default\n",
       ":   0balance\n",
       ":   0housing\n",
       ":   0loan\n",
       ":   0contact\n",
       ":   0day\n",
       ":   0month\n",
       ":   0duration\n",
       ":   0campaign\n",
       ":   0pdays\n",
       ":   0previous\n",
       ":   0poutcome\n",
       ":   0ID\n",
       ":   0y\n",
       ":   13564data\n",
       ":   0\n",
       "\n"
      ],
      "text/plain": [
       "      age       job   marital education   default   balance   housing      loan \n",
       "        0         0         0         0         0         0         0         0 \n",
       "  contact       day     month  duration  campaign     pdays  previous  poutcome \n",
       "        0         0         0         0         0         0         0         0 \n",
       "       ID         y      data \n",
       "        0     13564         0 "
      ]
     },
     "metadata": {},
     "output_type": "display_data"
    }
   ],
   "source": [
    "test$y=NA\n",
    "train$data='train'\n",
    "test$data='test'\n",
    "all_data=rbind(train,test)\n",
    "apply(all_data,2,function(x)sum(is.na(x)))"
   ]
  },
  {
   "cell_type": "code",
   "execution_count": 10,
   "id": "910af918",
   "metadata": {},
   "outputs": [
    {
     "name": "stderr",
     "output_type": "stream",
     "text": [
      "Installing package into 'C:/Users/HomePC/AppData/Local/R/win-library/4.4'\n",
      "(as 'lib' is unspecified)\n",
      "\n"
     ]
    },
    {
     "name": "stdout",
     "output_type": "stream",
     "text": [
      "package 'dplyr' successfully unpacked and MD5 sums checked\n",
      "\n",
      "The downloaded binary packages are in\n",
      "\tC:\\Users\\HomePC\\AppData\\Local\\Temp\\RtmpMXhJFu\\downloaded_packages\n"
     ]
    }
   ],
   "source": [
    "install.packages(\"dplyr\")"
   ]
  },
  {
   "cell_type": "code",
   "execution_count": 11,
   "id": "c5ad73e8",
   "metadata": {},
   "outputs": [
    {
     "name": "stderr",
     "output_type": "stream",
     "text": [
      "\n",
      "Attaching package: 'dplyr'\n",
      "\n",
      "\n",
      "The following objects are masked from 'package:stats':\n",
      "\n",
      "    filter, lag\n",
      "\n",
      "\n",
      "The following objects are masked from 'package:base':\n",
      "\n",
      "    intersect, setdiff, setequal, union\n",
      "\n",
      "\n"
     ]
    }
   ],
   "source": [
    "library(dplyr)"
   ]
  },
  {
   "cell_type": "code",
   "execution_count": 12,
   "id": "0a23b96f",
   "metadata": {},
   "outputs": [
    {
     "name": "stdout",
     "output_type": "stream",
     "text": [
      "Rows: 45,211\n",
      "Columns: 19\n",
      "$ age       \u001b[3m\u001b[90m<int>\u001b[39m\u001b[23m 45, 34, 40, 58, 59, 36, 34, 38, 52, 48, 28, 43, 37, 52, 45, …\n",
      "$ job       \u001b[3m\u001b[90m<chr>\u001b[39m\u001b[23m \"blue-collar\", \"admin.\", \"technician\", \"self-employed\", \"blu…\n",
      "$ marital   \u001b[3m\u001b[90m<chr>\u001b[39m\u001b[23m \"married\", \"divorced\", \"divorced\", \"married\", \"married\", \"ma…\n",
      "$ education \u001b[3m\u001b[90m<chr>\u001b[39m\u001b[23m \"secondary\", \"secondary\", \"secondary\", \"tertiary\", \"secondar…\n",
      "$ default   \u001b[3m\u001b[90m<chr>\u001b[39m\u001b[23m \"no\", \"no\", \"no\", \"no\", \"no\", \"no\", \"yes\", \"no\", \"no\", \"no\",…\n",
      "$ balance   \u001b[3m\u001b[90m<int>\u001b[39m\u001b[23m 2, 0, 311, 5810, 169, 24, -868, -140, 98, 1203, 387, 1429, 2…\n",
      "$ housing   \u001b[3m\u001b[90m<chr>\u001b[39m\u001b[23m \"no\", \"no\", \"no\", \"no\", \"yes\", \"yes\", \"yes\", \"no\", \"yes\", \"n…\n",
      "$ loan      \u001b[3m\u001b[90m<chr>\u001b[39m\u001b[23m \"no\", \"no\", \"no\", \"no\", \"no\", \"yes\", \"no\", \"no\", \"no\", \"no\",…\n",
      "$ contact   \u001b[3m\u001b[90m<chr>\u001b[39m\u001b[23m \"cellular\", \"cellular\", \"cellular\", \"cellular\", \"unknown\", \"…\n",
      "$ day       \u001b[3m\u001b[90m<int>\u001b[39m\u001b[23m 26, 10, 6, 12, 16, 11, 30, 25, 28, 6, 3, 19, 21, 21, 22, 6, …\n",
      "$ month     \u001b[3m\u001b[90m<chr>\u001b[39m\u001b[23m \"aug\", \"jul\", \"aug\", \"mar\", \"may\", \"jun\", \"jun\", \"jun\", \"jan…\n",
      "$ duration  \u001b[3m\u001b[90m<int>\u001b[39m\u001b[23m 105, 268, 738, 139, 181, 100, 198, 456, 103, 61, 158, 1015, …\n",
      "$ campaign  \u001b[3m\u001b[90m<int>\u001b[39m\u001b[23m 10, 1, 2, 1, 3, 5, 2, 3, 1, 5, 5, 1, 4, 1, 2, 4, 1, 21, 2, 1…\n",
      "$ pdays     \u001b[3m\u001b[90m<int>\u001b[39m\u001b[23m -1, -1, -1, -1, -1, -1, -1, -1, 245, -1, -1, 198, -1, -1, -1…\n",
      "$ previous  \u001b[3m\u001b[90m<int>\u001b[39m\u001b[23m 0, 0, 0, 0, 0, 0, 0, 0, 2, 0, 0, 2, 0, 0, 0, 0, 0, 0, 0, 0, …\n",
      "$ poutcome  \u001b[3m\u001b[90m<chr>\u001b[39m\u001b[23m \"unknown\", \"unknown\", \"unknown\", \"unknown\", \"unknown\", \"unkn…\n",
      "$ ID        \u001b[3m\u001b[90m<int>\u001b[39m\u001b[23m 22944, 13870, 19301, 31334, 3849, 10192, 12411, 12310, 27838…\n",
      "$ y         \u001b[3m\u001b[90m<chr>\u001b[39m\u001b[23m \"no\", \"no\", \"yes\", \"yes\", \"no\", \"no\", \"no\", \"no\", \"no\", \"no\"…\n",
      "$ data      \u001b[3m\u001b[90m<chr>\u001b[39m\u001b[23m \"train\", \"train\", \"train\", \"train\", \"train\", \"train\", \"train…\n"
     ]
    }
   ],
   "source": [
    "glimpse(all_data)"
   ]
  },
  {
   "cell_type": "code",
   "execution_count": 13,
   "id": "7b5fb6c2",
   "metadata": {},
   "outputs": [
    {
     "data": {
      "text/plain": [
       "\n",
       "      unknown       student     housemaid    unemployed  entrepreneur \n",
       "          288           938          1240          1303          1487 \n",
       "self-employed       retired      services        admin.    technician \n",
       "         1579          2264          4154          5171          7597 \n",
       "   management   blue-collar \n",
       "         9458          9732 "
      ]
     },
     "metadata": {},
     "output_type": "display_data"
    }
   ],
   "source": [
    "t=table(all_data$job)\n",
    "sort(t)"
   ]
  },
  {
   "cell_type": "code",
   "execution_count": 14,
   "id": "0eb31881",
   "metadata": {},
   "outputs": [
    {
     "data": {
      "text/plain": [
       "               \n",
       "                  no  yes\n",
       "  admin.        87.9 12.1\n",
       "  blue-collar   92.8  7.2\n",
       "  entrepreneur  90.7  9.3\n",
       "  housemaid     92.4  7.6\n",
       "  management    86.3 13.7\n",
       "  retired       76.8 23.2\n",
       "  self-employed 87.9 12.1\n",
       "  services      91.0  9.0\n",
       "  student       70.8 29.2\n",
       "  technician    88.6 11.4\n",
       "  unemployed    85.1 14.9\n",
       "  unknown       88.2 11.8"
      ]
     },
     "metadata": {},
     "output_type": "display_data"
    }
   ],
   "source": [
    "final=round(prop.table(table(all_data$job,all_data$y),1)*100,1)\n",
    "final"
   ]
  },
  {
   "cell_type": "code",
   "execution_count": 15,
   "id": "30d3881f",
   "metadata": {},
   "outputs": [
    {
     "data": {
      "text/html": [
       "<style>\n",
       ".dl-inline {width: auto; margin:0; padding: 0}\n",
       ".dl-inline>dt, .dl-inline>dd {float: none; width: auto; display: inline-block}\n",
       ".dl-inline>dt::after {content: \":\\0020\"; padding-right: .5ex}\n",
       ".dl-inline>dt:not(:first-of-type) {padding-left: .5ex}\n",
       "</style><dl class=dl-inline><dt>student</dt><dd>70.8</dd><dt>retired</dt><dd>76.8</dd><dt>unemployed</dt><dd>85.1</dd><dt>management</dt><dd>86.3</dd><dt>admin.</dt><dd>87.9</dd><dt>self-employed</dt><dd>87.9</dd><dt>unknown</dt><dd>88.2</dd><dt>technician</dt><dd>88.6</dd><dt>entrepreneur</dt><dd>90.7</dd><dt>services</dt><dd>91</dd><dt>housemaid</dt><dd>92.4</dd><dt>blue-collar</dt><dd>92.8</dd></dl>\n"
      ],
      "text/latex": [
       "\\begin{description*}\n",
       "\\item[student] 70.8\n",
       "\\item[retired] 76.8\n",
       "\\item[unemployed] 85.1\n",
       "\\item[management] 86.3\n",
       "\\item[admin.] 87.9\n",
       "\\item[self-employed] 87.9\n",
       "\\item[unknown] 88.2\n",
       "\\item[technician] 88.6\n",
       "\\item[entrepreneur] 90.7\n",
       "\\item[services] 91\n",
       "\\item[housemaid] 92.4\n",
       "\\item[blue-collar] 92.8\n",
       "\\end{description*}\n"
      ],
      "text/markdown": [
       "student\n",
       ":   70.8retired\n",
       ":   76.8unemployed\n",
       ":   85.1management\n",
       ":   86.3admin.\n",
       ":   87.9self-employed\n",
       ":   87.9unknown\n",
       ":   88.2technician\n",
       ":   88.6entrepreneur\n",
       ":   90.7services\n",
       ":   91housemaid\n",
       ":   92.4blue-collar\n",
       ":   92.8\n",
       "\n"
      ],
      "text/plain": [
       "      student       retired    unemployed    management        admin. \n",
       "         70.8          76.8          85.1          86.3          87.9 \n",
       "self-employed       unknown    technician  entrepreneur      services \n",
       "         87.9          88.2          88.6          90.7          91.0 \n",
       "    housemaid   blue-collar \n",
       "         92.4          92.8 "
      ]
     },
     "metadata": {},
     "output_type": "display_data"
    }
   ],
   "source": [
    "s=addmargins(final,2) #add margin across Y\n",
    "sort(s[,1])"
   ]
  },
  {
   "cell_type": "code",
   "execution_count": 16,
   "id": "eaee217e",
   "metadata": {},
   "outputs": [
    {
     "data": {
      "text/html": [
       "<table class=\"dataframe\">\n",
       "<caption>A table: 12 × 3 of type dbl</caption>\n",
       "<thead>\n",
       "\t<tr><th></th><th scope=col>no</th><th scope=col>yes</th><th scope=col>Sum</th></tr>\n",
       "</thead>\n",
       "<tbody>\n",
       "\t<tr><th scope=row>admin.</th><td>87.9</td><td>12.1</td><td>100</td></tr>\n",
       "\t<tr><th scope=row>blue-collar</th><td>92.8</td><td> 7.2</td><td>100</td></tr>\n",
       "\t<tr><th scope=row>entrepreneur</th><td>90.7</td><td> 9.3</td><td>100</td></tr>\n",
       "\t<tr><th scope=row>housemaid</th><td>92.4</td><td> 7.6</td><td>100</td></tr>\n",
       "\t<tr><th scope=row>management</th><td>86.3</td><td>13.7</td><td>100</td></tr>\n",
       "\t<tr><th scope=row>retired</th><td>76.8</td><td>23.2</td><td>100</td></tr>\n",
       "\t<tr><th scope=row>self-employed</th><td>87.9</td><td>12.1</td><td>100</td></tr>\n",
       "\t<tr><th scope=row>services</th><td>91.0</td><td> 9.0</td><td>100</td></tr>\n",
       "\t<tr><th scope=row>student</th><td>70.8</td><td>29.2</td><td>100</td></tr>\n",
       "\t<tr><th scope=row>technician</th><td>88.6</td><td>11.4</td><td>100</td></tr>\n",
       "\t<tr><th scope=row>unemployed</th><td>85.1</td><td>14.9</td><td>100</td></tr>\n",
       "\t<tr><th scope=row>unknown</th><td>88.2</td><td>11.8</td><td>100</td></tr>\n",
       "</tbody>\n",
       "</table>\n"
      ],
      "text/latex": [
       "A table: 12 × 3 of type dbl\n",
       "\\begin{tabular}{r|lll}\n",
       "  & no & yes & Sum\\\\\n",
       "\\hline\n",
       "\tadmin. & 87.9 & 12.1 & 100\\\\\n",
       "\tblue-collar & 92.8 &  7.2 & 100\\\\\n",
       "\tentrepreneur & 90.7 &  9.3 & 100\\\\\n",
       "\thousemaid & 92.4 &  7.6 & 100\\\\\n",
       "\tmanagement & 86.3 & 13.7 & 100\\\\\n",
       "\tretired & 76.8 & 23.2 & 100\\\\\n",
       "\tself-employed & 87.9 & 12.1 & 100\\\\\n",
       "\tservices & 91.0 &  9.0 & 100\\\\\n",
       "\tstudent & 70.8 & 29.2 & 100\\\\\n",
       "\ttechnician & 88.6 & 11.4 & 100\\\\\n",
       "\tunemployed & 85.1 & 14.9 & 100\\\\\n",
       "\tunknown & 88.2 & 11.8 & 100\\\\\n",
       "\\end{tabular}\n"
      ],
      "text/markdown": [
       "\n",
       "A table: 12 × 3 of type dbl\n",
       "\n",
       "| <!--/--> | no | yes | Sum |\n",
       "|---|---|---|---|\n",
       "| admin. | 87.9 | 12.1 | 100 |\n",
       "| blue-collar | 92.8 |  7.2 | 100 |\n",
       "| entrepreneur | 90.7 |  9.3 | 100 |\n",
       "| housemaid | 92.4 |  7.6 | 100 |\n",
       "| management | 86.3 | 13.7 | 100 |\n",
       "| retired | 76.8 | 23.2 | 100 |\n",
       "| self-employed | 87.9 | 12.1 | 100 |\n",
       "| services | 91.0 |  9.0 | 100 |\n",
       "| student | 70.8 | 29.2 | 100 |\n",
       "| technician | 88.6 | 11.4 | 100 |\n",
       "| unemployed | 85.1 | 14.9 | 100 |\n",
       "| unknown | 88.2 | 11.8 | 100 |\n",
       "\n"
      ],
      "text/plain": [
       "               \n",
       "                no   yes  Sum\n",
       "  admin.        87.9 12.1 100\n",
       "  blue-collar   92.8  7.2 100\n",
       "  entrepreneur  90.7  9.3 100\n",
       "  housemaid     92.4  7.6 100\n",
       "  management    86.3 13.7 100\n",
       "  retired       76.8 23.2 100\n",
       "  self-employed 87.9 12.1 100\n",
       "  services      91.0  9.0 100\n",
       "  student       70.8 29.2 100\n",
       "  technician    88.6 11.4 100\n",
       "  unemployed    85.1 14.9 100\n",
       "  unknown       88.2 11.8 100"
      ]
     },
     "metadata": {},
     "output_type": "display_data"
    }
   ],
   "source": [
    "View(s)"
   ]
  },
  {
   "cell_type": "code",
   "execution_count": 17,
   "id": "7a7a2f79",
   "metadata": {},
   "outputs": [
    {
     "name": "stdout",
     "output_type": "stream",
     "text": [
      "Rows: 45,211\n",
      "Columns: 24\n",
      "$ age       \u001b[3m\u001b[90m<int>\u001b[39m\u001b[23m 45, 34, 40, 58, 59, 36, 34, 38, 52, 48, 28, 43, 37, 52, 45, …\n",
      "$ marital   \u001b[3m\u001b[90m<chr>\u001b[39m\u001b[23m \"married\", \"divorced\", \"divorced\", \"married\", \"married\", \"ma…\n",
      "$ education \u001b[3m\u001b[90m<chr>\u001b[39m\u001b[23m \"secondary\", \"secondary\", \"secondary\", \"tertiary\", \"secondar…\n",
      "$ default   \u001b[3m\u001b[90m<chr>\u001b[39m\u001b[23m \"no\", \"no\", \"no\", \"no\", \"no\", \"no\", \"yes\", \"no\", \"no\", \"no\",…\n",
      "$ balance   \u001b[3m\u001b[90m<int>\u001b[39m\u001b[23m 2, 0, 311, 5810, 169, 24, -868, -140, 98, 1203, 387, 1429, 2…\n",
      "$ housing   \u001b[3m\u001b[90m<chr>\u001b[39m\u001b[23m \"no\", \"no\", \"no\", \"no\", \"yes\", \"yes\", \"yes\", \"no\", \"yes\", \"n…\n",
      "$ loan      \u001b[3m\u001b[90m<chr>\u001b[39m\u001b[23m \"no\", \"no\", \"no\", \"no\", \"no\", \"yes\", \"no\", \"no\", \"no\", \"no\",…\n",
      "$ contact   \u001b[3m\u001b[90m<chr>\u001b[39m\u001b[23m \"cellular\", \"cellular\", \"cellular\", \"cellular\", \"unknown\", \"…\n",
      "$ day       \u001b[3m\u001b[90m<int>\u001b[39m\u001b[23m 26, 10, 6, 12, 16, 11, 30, 25, 28, 6, 3, 19, 21, 21, 22, 6, …\n",
      "$ month     \u001b[3m\u001b[90m<chr>\u001b[39m\u001b[23m \"aug\", \"jul\", \"aug\", \"mar\", \"may\", \"jun\", \"jun\", \"jun\", \"jan…\n",
      "$ duration  \u001b[3m\u001b[90m<int>\u001b[39m\u001b[23m 105, 268, 738, 139, 181, 100, 198, 456, 103, 61, 158, 1015, …\n",
      "$ campaign  \u001b[3m\u001b[90m<int>\u001b[39m\u001b[23m 10, 1, 2, 1, 3, 5, 2, 3, 1, 5, 5, 1, 4, 1, 2, 4, 1, 21, 2, 1…\n",
      "$ pdays     \u001b[3m\u001b[90m<int>\u001b[39m\u001b[23m -1, -1, -1, -1, -1, -1, -1, -1, 245, -1, -1, 198, -1, -1, -1…\n",
      "$ previous  \u001b[3m\u001b[90m<int>\u001b[39m\u001b[23m 0, 0, 0, 0, 0, 0, 0, 0, 2, 0, 0, 2, 0, 0, 0, 0, 0, 0, 0, 0, …\n",
      "$ poutcome  \u001b[3m\u001b[90m<chr>\u001b[39m\u001b[23m \"unknown\", \"unknown\", \"unknown\", \"unknown\", \"unknown\", \"unkn…\n",
      "$ ID        \u001b[3m\u001b[90m<int>\u001b[39m\u001b[23m 22944, 13870, 19301, 31334, 3849, 10192, 12411, 12310, 27838…\n",
      "$ y         \u001b[3m\u001b[90m<chr>\u001b[39m\u001b[23m \"no\", \"no\", \"yes\", \"yes\", \"no\", \"no\", \"no\", \"no\", \"no\", \"no\"…\n",
      "$ data      \u001b[3m\u001b[90m<chr>\u001b[39m\u001b[23m \"train\", \"train\", \"train\", \"train\", \"train\", \"train\", \"train…\n",
      "$ job_1     \u001b[3m\u001b[90m<dbl>\u001b[39m\u001b[23m 0, 0, 1, 1, 0, 0, 0, 0, 1, 0, 0, 0, 0, 0, 0, 1, 0, 1, 1, 0, …\n",
      "$ job_2     \u001b[3m\u001b[90m<dbl>\u001b[39m\u001b[23m 0, 0, 0, 0, 0, 1, 1, 1, 0, 0, 1, 0, 0, 0, 0, 0, 1, 0, 0, 0, …\n",
      "$ job_3     \u001b[3m\u001b[90m<dbl>\u001b[39m\u001b[23m 0, 0, 0, 0, 0, 0, 0, 0, 0, 0, 0, 1, 1, 1, 0, 0, 0, 0, 0, 0, …\n",
      "$ job_4     \u001b[3m\u001b[90m<dbl>\u001b[39m\u001b[23m 0, 0, 0, 0, 0, 0, 0, 0, 0, 0, 0, 0, 0, 0, 0, 0, 0, 0, 0, 0, …\n",
      "$ job_5     \u001b[3m\u001b[90m<dbl>\u001b[39m\u001b[23m 0, 0, 0, 0, 0, 0, 0, 0, 0, 0, 0, 0, 0, 0, 0, 0, 0, 0, 0, 0, …\n",
      "$ job_6     \u001b[3m\u001b[90m<dbl>\u001b[39m\u001b[23m 0, 0, 0, 0, 0, 0, 0, 0, 0, 0, 0, 0, 0, 0, 0, 0, 0, 0, 0, 0, …\n"
     ]
    }
   ],
   "source": [
    "all_data=all_data %>% \n",
    "  mutate(job_1=as.numeric(job %in% c(\"self-employed\",\"unknown\",\"technician\")), \n",
    "         job_2=as.numeric(job %in% c(\"services\",\"housemaid\",\"entrepreneur\")),\n",
    "         job_3=as.numeric(job %in% c(\"management\",\"admin\")),\n",
    "         job_4=as.numeric(job==\"student\"),\n",
    "         job_5=as.numeric(job==\"retired\"),\n",
    "         job_6=as.numeric(job==\"unemployed\")) %>% \n",
    "  select(-job)\n",
    "\n",
    "glimpse(all_data)"
   ]
  },
  {
   "cell_type": "markdown",
   "id": "c5fd968f",
   "metadata": {},
   "source": [
    "Making dummies for variable marital"
   ]
  },
  {
   "cell_type": "code",
   "execution_count": 20,
   "id": "8a67f810",
   "metadata": {},
   "outputs": [
    {
     "data": {
      "text/plain": [
       "\n",
       "divorced   single  married \n",
       "    5207    12790    27214 "
      ]
     },
     "metadata": {},
     "output_type": "display_data"
    }
   ],
   "source": [
    "t=table(all_data$marital)\n",
    "sort(t)"
   ]
  },
  {
   "cell_type": "code",
   "execution_count": 21,
   "id": "11270679",
   "metadata": {},
   "outputs": [
    {
     "name": "stdout",
     "output_type": "stream",
     "text": [
      "Rows: 45,211\n",
      "Columns: 25\n",
      "$ age       \u001b[3m\u001b[90m<int>\u001b[39m\u001b[23m 45, 34, 40, 58, 59, 36, 34, 38, 52, 48, 28, 43, 37, 52, 45, …\n",
      "$ education \u001b[3m\u001b[90m<chr>\u001b[39m\u001b[23m \"secondary\", \"secondary\", \"secondary\", \"tertiary\", \"secondar…\n",
      "$ default   \u001b[3m\u001b[90m<chr>\u001b[39m\u001b[23m \"no\", \"no\", \"no\", \"no\", \"no\", \"no\", \"yes\", \"no\", \"no\", \"no\",…\n",
      "$ balance   \u001b[3m\u001b[90m<int>\u001b[39m\u001b[23m 2, 0, 311, 5810, 169, 24, -868, -140, 98, 1203, 387, 1429, 2…\n",
      "$ housing   \u001b[3m\u001b[90m<chr>\u001b[39m\u001b[23m \"no\", \"no\", \"no\", \"no\", \"yes\", \"yes\", \"yes\", \"no\", \"yes\", \"n…\n",
      "$ loan      \u001b[3m\u001b[90m<chr>\u001b[39m\u001b[23m \"no\", \"no\", \"no\", \"no\", \"no\", \"yes\", \"no\", \"no\", \"no\", \"no\",…\n",
      "$ contact   \u001b[3m\u001b[90m<chr>\u001b[39m\u001b[23m \"cellular\", \"cellular\", \"cellular\", \"cellular\", \"unknown\", \"…\n",
      "$ day       \u001b[3m\u001b[90m<int>\u001b[39m\u001b[23m 26, 10, 6, 12, 16, 11, 30, 25, 28, 6, 3, 19, 21, 21, 22, 6, …\n",
      "$ month     \u001b[3m\u001b[90m<chr>\u001b[39m\u001b[23m \"aug\", \"jul\", \"aug\", \"mar\", \"may\", \"jun\", \"jun\", \"jun\", \"jan…\n",
      "$ duration  \u001b[3m\u001b[90m<int>\u001b[39m\u001b[23m 105, 268, 738, 139, 181, 100, 198, 456, 103, 61, 158, 1015, …\n",
      "$ campaign  \u001b[3m\u001b[90m<int>\u001b[39m\u001b[23m 10, 1, 2, 1, 3, 5, 2, 3, 1, 5, 5, 1, 4, 1, 2, 4, 1, 21, 2, 1…\n",
      "$ pdays     \u001b[3m\u001b[90m<int>\u001b[39m\u001b[23m -1, -1, -1, -1, -1, -1, -1, -1, 245, -1, -1, 198, -1, -1, -1…\n",
      "$ previous  \u001b[3m\u001b[90m<int>\u001b[39m\u001b[23m 0, 0, 0, 0, 0, 0, 0, 0, 2, 0, 0, 2, 0, 0, 0, 0, 0, 0, 0, 0, …\n",
      "$ poutcome  \u001b[3m\u001b[90m<chr>\u001b[39m\u001b[23m \"unknown\", \"unknown\", \"unknown\", \"unknown\", \"unknown\", \"unkn…\n",
      "$ ID        \u001b[3m\u001b[90m<int>\u001b[39m\u001b[23m 22944, 13870, 19301, 31334, 3849, 10192, 12411, 12310, 27838…\n",
      "$ y         \u001b[3m\u001b[90m<chr>\u001b[39m\u001b[23m \"no\", \"no\", \"yes\", \"yes\", \"no\", \"no\", \"no\", \"no\", \"no\", \"no\"…\n",
      "$ data      \u001b[3m\u001b[90m<chr>\u001b[39m\u001b[23m \"train\", \"train\", \"train\", \"train\", \"train\", \"train\", \"train…\n",
      "$ job_1     \u001b[3m\u001b[90m<dbl>\u001b[39m\u001b[23m 0, 0, 1, 1, 0, 0, 0, 0, 1, 0, 0, 0, 0, 0, 0, 1, 0, 1, 1, 0, …\n",
      "$ job_2     \u001b[3m\u001b[90m<dbl>\u001b[39m\u001b[23m 0, 0, 0, 0, 0, 1, 1, 1, 0, 0, 1, 0, 0, 0, 0, 0, 1, 0, 0, 0, …\n",
      "$ job_3     \u001b[3m\u001b[90m<dbl>\u001b[39m\u001b[23m 0, 0, 0, 0, 0, 0, 0, 0, 0, 0, 0, 1, 1, 1, 0, 0, 0, 0, 0, 0, …\n",
      "$ job_4     \u001b[3m\u001b[90m<dbl>\u001b[39m\u001b[23m 0, 0, 0, 0, 0, 0, 0, 0, 0, 0, 0, 0, 0, 0, 0, 0, 0, 0, 0, 0, …\n",
      "$ job_5     \u001b[3m\u001b[90m<dbl>\u001b[39m\u001b[23m 0, 0, 0, 0, 0, 0, 0, 0, 0, 0, 0, 0, 0, 0, 0, 0, 0, 0, 0, 0, …\n",
      "$ job_6     \u001b[3m\u001b[90m<dbl>\u001b[39m\u001b[23m 0, 0, 0, 0, 0, 0, 0, 0, 0, 0, 0, 0, 0, 0, 0, 0, 0, 0, 0, 0, …\n",
      "$ divorced  \u001b[3m\u001b[90m<dbl>\u001b[39m\u001b[23m 0, 1, 1, 0, 0, 0, 0, 0, 0, 0, 0, 0, 0, 1, 0, 0, 0, 0, 0, 0, …\n",
      "$ single    \u001b[3m\u001b[90m<dbl>\u001b[39m\u001b[23m 0, 0, 0, 0, 0, 0, 0, 0, 0, 0, 1, 0, 0, 0, 0, 1, 0, 0, 0, 0, …\n"
     ]
    }
   ],
   "source": [
    "all_data=all_data %>% \n",
    "  mutate(divorced=as.numeric(marital %in% c(\"divorced\")),\n",
    "         single=as.numeric(marital %in% c(\"single\"))\n",
    "         ) %>% \n",
    "  select(-marital)\n",
    "glimpse(all_data)"
   ]
  },
  {
   "cell_type": "markdown",
   "id": "2e32995b",
   "metadata": {},
   "source": [
    "Making dummies for variable education"
   ]
  },
  {
   "cell_type": "code",
   "execution_count": 22,
   "id": "a69bbadf",
   "metadata": {},
   "outputs": [
    {
     "data": {
      "text/plain": [
       "\n",
       "  unknown   primary  tertiary secondary \n",
       "     1857      6851     13301     23202 "
      ]
     },
     "metadata": {},
     "output_type": "display_data"
    }
   ],
   "source": [
    "t=table(all_data$education)\n",
    "sort(t)"
   ]
  },
  {
   "cell_type": "code",
   "execution_count": 23,
   "id": "44ab7f38",
   "metadata": {},
   "outputs": [
    {
     "name": "stdout",
     "output_type": "stream",
     "text": [
      "Rows: 45,211\n",
      "Columns: 27\n",
      "$ age         \u001b[3m\u001b[90m<int>\u001b[39m\u001b[23m 45, 34, 40, 58, 59, 36, 34, 38, 52, 48, 28, 43, 37, 52, 45…\n",
      "$ default     \u001b[3m\u001b[90m<chr>\u001b[39m\u001b[23m \"no\", \"no\", \"no\", \"no\", \"no\", \"no\", \"yes\", \"no\", \"no\", \"no…\n",
      "$ balance     \u001b[3m\u001b[90m<int>\u001b[39m\u001b[23m 2, 0, 311, 5810, 169, 24, -868, -140, 98, 1203, 387, 1429,…\n",
      "$ housing     \u001b[3m\u001b[90m<chr>\u001b[39m\u001b[23m \"no\", \"no\", \"no\", \"no\", \"yes\", \"yes\", \"yes\", \"no\", \"yes\", …\n",
      "$ loan        \u001b[3m\u001b[90m<chr>\u001b[39m\u001b[23m \"no\", \"no\", \"no\", \"no\", \"no\", \"yes\", \"no\", \"no\", \"no\", \"no…\n",
      "$ contact     \u001b[3m\u001b[90m<chr>\u001b[39m\u001b[23m \"cellular\", \"cellular\", \"cellular\", \"cellular\", \"unknown\",…\n",
      "$ day         \u001b[3m\u001b[90m<int>\u001b[39m\u001b[23m 26, 10, 6, 12, 16, 11, 30, 25, 28, 6, 3, 19, 21, 21, 22, 6…\n",
      "$ month       \u001b[3m\u001b[90m<chr>\u001b[39m\u001b[23m \"aug\", \"jul\", \"aug\", \"mar\", \"may\", \"jun\", \"jun\", \"jun\", \"j…\n",
      "$ duration    \u001b[3m\u001b[90m<int>\u001b[39m\u001b[23m 105, 268, 738, 139, 181, 100, 198, 456, 103, 61, 158, 1015…\n",
      "$ campaign    \u001b[3m\u001b[90m<int>\u001b[39m\u001b[23m 10, 1, 2, 1, 3, 5, 2, 3, 1, 5, 5, 1, 4, 1, 2, 4, 1, 21, 2,…\n",
      "$ pdays       \u001b[3m\u001b[90m<int>\u001b[39m\u001b[23m -1, -1, -1, -1, -1, -1, -1, -1, 245, -1, -1, 198, -1, -1, …\n",
      "$ previous    \u001b[3m\u001b[90m<int>\u001b[39m\u001b[23m 0, 0, 0, 0, 0, 0, 0, 0, 2, 0, 0, 2, 0, 0, 0, 0, 0, 0, 0, 0…\n",
      "$ poutcome    \u001b[3m\u001b[90m<chr>\u001b[39m\u001b[23m \"unknown\", \"unknown\", \"unknown\", \"unknown\", \"unknown\", \"un…\n",
      "$ ID          \u001b[3m\u001b[90m<int>\u001b[39m\u001b[23m 22944, 13870, 19301, 31334, 3849, 10192, 12411, 12310, 278…\n",
      "$ y           \u001b[3m\u001b[90m<chr>\u001b[39m\u001b[23m \"no\", \"no\", \"yes\", \"yes\", \"no\", \"no\", \"no\", \"no\", \"no\", \"n…\n",
      "$ data        \u001b[3m\u001b[90m<chr>\u001b[39m\u001b[23m \"train\", \"train\", \"train\", \"train\", \"train\", \"train\", \"tra…\n",
      "$ job_1       \u001b[3m\u001b[90m<dbl>\u001b[39m\u001b[23m 0, 0, 1, 1, 0, 0, 0, 0, 1, 0, 0, 0, 0, 0, 0, 1, 0, 1, 1, 0…\n",
      "$ job_2       \u001b[3m\u001b[90m<dbl>\u001b[39m\u001b[23m 0, 0, 0, 0, 0, 1, 1, 1, 0, 0, 1, 0, 0, 0, 0, 0, 1, 0, 0, 0…\n",
      "$ job_3       \u001b[3m\u001b[90m<dbl>\u001b[39m\u001b[23m 0, 0, 0, 0, 0, 0, 0, 0, 0, 0, 0, 1, 1, 1, 0, 0, 0, 0, 0, 0…\n",
      "$ job_4       \u001b[3m\u001b[90m<dbl>\u001b[39m\u001b[23m 0, 0, 0, 0, 0, 0, 0, 0, 0, 0, 0, 0, 0, 0, 0, 0, 0, 0, 0, 0…\n",
      "$ job_5       \u001b[3m\u001b[90m<dbl>\u001b[39m\u001b[23m 0, 0, 0, 0, 0, 0, 0, 0, 0, 0, 0, 0, 0, 0, 0, 0, 0, 0, 0, 0…\n",
      "$ job_6       \u001b[3m\u001b[90m<dbl>\u001b[39m\u001b[23m 0, 0, 0, 0, 0, 0, 0, 0, 0, 0, 0, 0, 0, 0, 0, 0, 0, 0, 0, 0…\n",
      "$ divorced    \u001b[3m\u001b[90m<dbl>\u001b[39m\u001b[23m 0, 1, 1, 0, 0, 0, 0, 0, 0, 0, 0, 0, 0, 1, 0, 0, 0, 0, 0, 0…\n",
      "$ single      \u001b[3m\u001b[90m<dbl>\u001b[39m\u001b[23m 0, 0, 0, 0, 0, 0, 0, 0, 0, 0, 1, 0, 0, 0, 0, 1, 0, 0, 0, 0…\n",
      "$ edu_primary \u001b[3m\u001b[90m<dbl>\u001b[39m\u001b[23m 0, 0, 0, 0, 0, 0, 0, 0, 0, 1, 0, 0, 0, 0, 0, 0, 0, 0, 0, 0…\n",
      "$ edu_sec     \u001b[3m\u001b[90m<dbl>\u001b[39m\u001b[23m 1, 1, 1, 0, 1, 1, 1, 1, 1, 0, 1, 0, 0, 0, 1, 0, 1, 1, 1, 1…\n",
      "$ edu_tert    \u001b[3m\u001b[90m<dbl>\u001b[39m\u001b[23m 0, 0, 0, 1, 0, 0, 0, 0, 0, 0, 0, 1, 1, 1, 0, 1, 0, 0, 0, 0…\n"
     ]
    }
   ],
   "source": [
    "all_data=all_data %>% \n",
    "  mutate(edu_primary=as.numeric(education %in% c(\"primary\")),\n",
    "         edu_sec=as.numeric(education %in% c(\"secondary\")),\n",
    "         edu_tert=as.numeric(education %in% c(\"tertiary\"))\n",
    "  ) %>% \n",
    "  select(-education)\n",
    "glimpse(all_data)"
   ]
  },
  {
   "cell_type": "markdown",
   "id": "4ca35971",
   "metadata": {},
   "source": [
    "Making dummies for varible default"
   ]
  },
  {
   "cell_type": "code",
   "execution_count": 24,
   "id": "b6f7b7df",
   "metadata": {},
   "outputs": [
    {
     "data": {
      "text/plain": [
       "\n",
       "   no   yes \n",
       "44396   815 "
      ]
     },
     "metadata": {},
     "output_type": "display_data"
    }
   ],
   "source": [
    "table(all_data$default)"
   ]
  },
  {
   "cell_type": "code",
   "execution_count": 25,
   "id": "2fd2a827",
   "metadata": {},
   "outputs": [],
   "source": [
    "all_data$default=as.numeric(all_data$default==\"yes\")"
   ]
  },
  {
   "cell_type": "markdown",
   "id": "93d910b0",
   "metadata": {},
   "source": [
    "Making dummies for variable housing"
   ]
  },
  {
   "cell_type": "code",
   "execution_count": 26,
   "id": "c777d3b2",
   "metadata": {},
   "outputs": [
    {
     "data": {
      "text/plain": [
       "\n",
       "   no   yes \n",
       "20081 25130 "
      ]
     },
     "metadata": {},
     "output_type": "display_data"
    }
   ],
   "source": [
    "table(all_data$housing)"
   ]
  },
  {
   "cell_type": "code",
   "execution_count": 27,
   "id": "0db4174c",
   "metadata": {},
   "outputs": [
    {
     "name": "stdout",
     "output_type": "stream",
     "text": [
      "Rows: 45,211\n",
      "Columns: 27\n",
      "$ age         \u001b[3m\u001b[90m<int>\u001b[39m\u001b[23m 45, 34, 40, 58, 59, 36, 34, 38, 52, 48, 28, 43, 37, 52, 45…\n",
      "$ default     \u001b[3m\u001b[90m<dbl>\u001b[39m\u001b[23m 0, 0, 0, 0, 0, 0, 1, 0, 0, 0, 0, 0, 0, 0, 0, 0, 0, 0, 0, 0…\n",
      "$ balance     \u001b[3m\u001b[90m<int>\u001b[39m\u001b[23m 2, 0, 311, 5810, 169, 24, -868, -140, 98, 1203, 387, 1429,…\n",
      "$ housing     \u001b[3m\u001b[90m<dbl>\u001b[39m\u001b[23m 0, 0, 0, 0, 1, 1, 1, 0, 1, 0, 0, 1, 0, 0, 0, 0, 1, 1, 0, 1…\n",
      "$ loan        \u001b[3m\u001b[90m<chr>\u001b[39m\u001b[23m \"no\", \"no\", \"no\", \"no\", \"no\", \"yes\", \"no\", \"no\", \"no\", \"no…\n",
      "$ contact     \u001b[3m\u001b[90m<chr>\u001b[39m\u001b[23m \"cellular\", \"cellular\", \"cellular\", \"cellular\", \"unknown\",…\n",
      "$ day         \u001b[3m\u001b[90m<int>\u001b[39m\u001b[23m 26, 10, 6, 12, 16, 11, 30, 25, 28, 6, 3, 19, 21, 21, 22, 6…\n",
      "$ month       \u001b[3m\u001b[90m<chr>\u001b[39m\u001b[23m \"aug\", \"jul\", \"aug\", \"mar\", \"may\", \"jun\", \"jun\", \"jun\", \"j…\n",
      "$ duration    \u001b[3m\u001b[90m<int>\u001b[39m\u001b[23m 105, 268, 738, 139, 181, 100, 198, 456, 103, 61, 158, 1015…\n",
      "$ campaign    \u001b[3m\u001b[90m<int>\u001b[39m\u001b[23m 10, 1, 2, 1, 3, 5, 2, 3, 1, 5, 5, 1, 4, 1, 2, 4, 1, 21, 2,…\n",
      "$ pdays       \u001b[3m\u001b[90m<int>\u001b[39m\u001b[23m -1, -1, -1, -1, -1, -1, -1, -1, 245, -1, -1, 198, -1, -1, …\n",
      "$ previous    \u001b[3m\u001b[90m<int>\u001b[39m\u001b[23m 0, 0, 0, 0, 0, 0, 0, 0, 2, 0, 0, 2, 0, 0, 0, 0, 0, 0, 0, 0…\n",
      "$ poutcome    \u001b[3m\u001b[90m<chr>\u001b[39m\u001b[23m \"unknown\", \"unknown\", \"unknown\", \"unknown\", \"unknown\", \"un…\n",
      "$ ID          \u001b[3m\u001b[90m<int>\u001b[39m\u001b[23m 22944, 13870, 19301, 31334, 3849, 10192, 12411, 12310, 278…\n",
      "$ y           \u001b[3m\u001b[90m<chr>\u001b[39m\u001b[23m \"no\", \"no\", \"yes\", \"yes\", \"no\", \"no\", \"no\", \"no\", \"no\", \"n…\n",
      "$ data        \u001b[3m\u001b[90m<chr>\u001b[39m\u001b[23m \"train\", \"train\", \"train\", \"train\", \"train\", \"train\", \"tra…\n",
      "$ job_1       \u001b[3m\u001b[90m<dbl>\u001b[39m\u001b[23m 0, 0, 1, 1, 0, 0, 0, 0, 1, 0, 0, 0, 0, 0, 0, 1, 0, 1, 1, 0…\n",
      "$ job_2       \u001b[3m\u001b[90m<dbl>\u001b[39m\u001b[23m 0, 0, 0, 0, 0, 1, 1, 1, 0, 0, 1, 0, 0, 0, 0, 0, 1, 0, 0, 0…\n",
      "$ job_3       \u001b[3m\u001b[90m<dbl>\u001b[39m\u001b[23m 0, 0, 0, 0, 0, 0, 0, 0, 0, 0, 0, 1, 1, 1, 0, 0, 0, 0, 0, 0…\n",
      "$ job_4       \u001b[3m\u001b[90m<dbl>\u001b[39m\u001b[23m 0, 0, 0, 0, 0, 0, 0, 0, 0, 0, 0, 0, 0, 0, 0, 0, 0, 0, 0, 0…\n",
      "$ job_5       \u001b[3m\u001b[90m<dbl>\u001b[39m\u001b[23m 0, 0, 0, 0, 0, 0, 0, 0, 0, 0, 0, 0, 0, 0, 0, 0, 0, 0, 0, 0…\n",
      "$ job_6       \u001b[3m\u001b[90m<dbl>\u001b[39m\u001b[23m 0, 0, 0, 0, 0, 0, 0, 0, 0, 0, 0, 0, 0, 0, 0, 0, 0, 0, 0, 0…\n",
      "$ divorced    \u001b[3m\u001b[90m<dbl>\u001b[39m\u001b[23m 0, 1, 1, 0, 0, 0, 0, 0, 0, 0, 0, 0, 0, 1, 0, 0, 0, 0, 0, 0…\n",
      "$ single      \u001b[3m\u001b[90m<dbl>\u001b[39m\u001b[23m 0, 0, 0, 0, 0, 0, 0, 0, 0, 0, 1, 0, 0, 0, 0, 1, 0, 0, 0, 0…\n",
      "$ edu_primary \u001b[3m\u001b[90m<dbl>\u001b[39m\u001b[23m 0, 0, 0, 0, 0, 0, 0, 0, 0, 1, 0, 0, 0, 0, 0, 0, 0, 0, 0, 0…\n",
      "$ edu_sec     \u001b[3m\u001b[90m<dbl>\u001b[39m\u001b[23m 1, 1, 1, 0, 1, 1, 1, 1, 1, 0, 1, 0, 0, 0, 1, 0, 1, 1, 1, 1…\n",
      "$ edu_tert    \u001b[3m\u001b[90m<dbl>\u001b[39m\u001b[23m 0, 0, 0, 1, 0, 0, 0, 0, 0, 0, 0, 1, 1, 1, 0, 1, 0, 0, 0, 0…\n"
     ]
    }
   ],
   "source": [
    "all_data$housing=as.numeric(all_data$housing==\"yes\")\n",
    "glimpse(all_data)"
   ]
  },
  {
   "cell_type": "markdown",
   "id": "2f84f5f2",
   "metadata": {},
   "source": [
    "Making dummies for variable loan"
   ]
  },
  {
   "cell_type": "code",
   "execution_count": 28,
   "id": "3336c993",
   "metadata": {},
   "outputs": [
    {
     "data": {
      "text/plain": [
       "\n",
       "   no   yes \n",
       "37967  7244 "
      ]
     },
     "metadata": {},
     "output_type": "display_data"
    }
   ],
   "source": [
    "table(all_data$loan)"
   ]
  },
  {
   "cell_type": "code",
   "execution_count": 29,
   "id": "d72e6fca",
   "metadata": {},
   "outputs": [
    {
     "name": "stdout",
     "output_type": "stream",
     "text": [
      "Rows: 45,211\n",
      "Columns: 27\n",
      "$ age         \u001b[3m\u001b[90m<int>\u001b[39m\u001b[23m 45, 34, 40, 58, 59, 36, 34, 38, 52, 48, 28, 43, 37, 52, 45…\n",
      "$ default     \u001b[3m\u001b[90m<dbl>\u001b[39m\u001b[23m 0, 0, 0, 0, 0, 0, 1, 0, 0, 0, 0, 0, 0, 0, 0, 0, 0, 0, 0, 0…\n",
      "$ balance     \u001b[3m\u001b[90m<int>\u001b[39m\u001b[23m 2, 0, 311, 5810, 169, 24, -868, -140, 98, 1203, 387, 1429,…\n",
      "$ housing     \u001b[3m\u001b[90m<dbl>\u001b[39m\u001b[23m 0, 0, 0, 0, 1, 1, 1, 0, 1, 0, 0, 1, 0, 0, 0, 0, 1, 1, 0, 1…\n",
      "$ loan        \u001b[3m\u001b[90m<dbl>\u001b[39m\u001b[23m 0, 0, 0, 0, 0, 1, 0, 0, 0, 0, 0, 0, 0, 0, 1, 0, 0, 0, 1, 0…\n",
      "$ contact     \u001b[3m\u001b[90m<chr>\u001b[39m\u001b[23m \"cellular\", \"cellular\", \"cellular\", \"cellular\", \"unknown\",…\n",
      "$ day         \u001b[3m\u001b[90m<int>\u001b[39m\u001b[23m 26, 10, 6, 12, 16, 11, 30, 25, 28, 6, 3, 19, 21, 21, 22, 6…\n",
      "$ month       \u001b[3m\u001b[90m<chr>\u001b[39m\u001b[23m \"aug\", \"jul\", \"aug\", \"mar\", \"may\", \"jun\", \"jun\", \"jun\", \"j…\n",
      "$ duration    \u001b[3m\u001b[90m<int>\u001b[39m\u001b[23m 105, 268, 738, 139, 181, 100, 198, 456, 103, 61, 158, 1015…\n",
      "$ campaign    \u001b[3m\u001b[90m<int>\u001b[39m\u001b[23m 10, 1, 2, 1, 3, 5, 2, 3, 1, 5, 5, 1, 4, 1, 2, 4, 1, 21, 2,…\n",
      "$ pdays       \u001b[3m\u001b[90m<int>\u001b[39m\u001b[23m -1, -1, -1, -1, -1, -1, -1, -1, 245, -1, -1, 198, -1, -1, …\n",
      "$ previous    \u001b[3m\u001b[90m<int>\u001b[39m\u001b[23m 0, 0, 0, 0, 0, 0, 0, 0, 2, 0, 0, 2, 0, 0, 0, 0, 0, 0, 0, 0…\n",
      "$ poutcome    \u001b[3m\u001b[90m<chr>\u001b[39m\u001b[23m \"unknown\", \"unknown\", \"unknown\", \"unknown\", \"unknown\", \"un…\n",
      "$ ID          \u001b[3m\u001b[90m<int>\u001b[39m\u001b[23m 22944, 13870, 19301, 31334, 3849, 10192, 12411, 12310, 278…\n",
      "$ y           \u001b[3m\u001b[90m<chr>\u001b[39m\u001b[23m \"no\", \"no\", \"yes\", \"yes\", \"no\", \"no\", \"no\", \"no\", \"no\", \"n…\n",
      "$ data        \u001b[3m\u001b[90m<chr>\u001b[39m\u001b[23m \"train\", \"train\", \"train\", \"train\", \"train\", \"train\", \"tra…\n",
      "$ job_1       \u001b[3m\u001b[90m<dbl>\u001b[39m\u001b[23m 0, 0, 1, 1, 0, 0, 0, 0, 1, 0, 0, 0, 0, 0, 0, 1, 0, 1, 1, 0…\n",
      "$ job_2       \u001b[3m\u001b[90m<dbl>\u001b[39m\u001b[23m 0, 0, 0, 0, 0, 1, 1, 1, 0, 0, 1, 0, 0, 0, 0, 0, 1, 0, 0, 0…\n",
      "$ job_3       \u001b[3m\u001b[90m<dbl>\u001b[39m\u001b[23m 0, 0, 0, 0, 0, 0, 0, 0, 0, 0, 0, 1, 1, 1, 0, 0, 0, 0, 0, 0…\n",
      "$ job_4       \u001b[3m\u001b[90m<dbl>\u001b[39m\u001b[23m 0, 0, 0, 0, 0, 0, 0, 0, 0, 0, 0, 0, 0, 0, 0, 0, 0, 0, 0, 0…\n",
      "$ job_5       \u001b[3m\u001b[90m<dbl>\u001b[39m\u001b[23m 0, 0, 0, 0, 0, 0, 0, 0, 0, 0, 0, 0, 0, 0, 0, 0, 0, 0, 0, 0…\n",
      "$ job_6       \u001b[3m\u001b[90m<dbl>\u001b[39m\u001b[23m 0, 0, 0, 0, 0, 0, 0, 0, 0, 0, 0, 0, 0, 0, 0, 0, 0, 0, 0, 0…\n",
      "$ divorced    \u001b[3m\u001b[90m<dbl>\u001b[39m\u001b[23m 0, 1, 1, 0, 0, 0, 0, 0, 0, 0, 0, 0, 0, 1, 0, 0, 0, 0, 0, 0…\n",
      "$ single      \u001b[3m\u001b[90m<dbl>\u001b[39m\u001b[23m 0, 0, 0, 0, 0, 0, 0, 0, 0, 0, 1, 0, 0, 0, 0, 1, 0, 0, 0, 0…\n",
      "$ edu_primary \u001b[3m\u001b[90m<dbl>\u001b[39m\u001b[23m 0, 0, 0, 0, 0, 0, 0, 0, 0, 1, 0, 0, 0, 0, 0, 0, 0, 0, 0, 0…\n",
      "$ edu_sec     \u001b[3m\u001b[90m<dbl>\u001b[39m\u001b[23m 1, 1, 1, 0, 1, 1, 1, 1, 1, 0, 1, 0, 0, 0, 1, 0, 1, 1, 1, 1…\n",
      "$ edu_tert    \u001b[3m\u001b[90m<dbl>\u001b[39m\u001b[23m 0, 0, 0, 1, 0, 0, 0, 0, 0, 0, 0, 1, 1, 1, 0, 1, 0, 0, 0, 0…\n"
     ]
    }
   ],
   "source": [
    "all_data$loan=as.numeric(all_data$loan==\"yes\")\n",
    "glimpse(all_data)"
   ]
  },
  {
   "cell_type": "markdown",
   "id": "f0fffc1c",
   "metadata": {},
   "source": [
    "Making dummies for variable contact"
   ]
  },
  {
   "cell_type": "code",
   "execution_count": 31,
   "id": "37641305",
   "metadata": {},
   "outputs": [
    {
     "data": {
      "text/plain": [
       "\n",
       "telephone   unknown  cellular \n",
       "     2906     13020     29285 "
      ]
     },
     "metadata": {},
     "output_type": "display_data"
    }
   ],
   "source": [
    "t=table(all_data$contact)\n",
    "sort(t)"
   ]
  },
  {
   "cell_type": "code",
   "execution_count": 32,
   "id": "aa335f5c",
   "metadata": {},
   "outputs": [
    {
     "name": "stdout",
     "output_type": "stream",
     "text": [
      "Rows: 45,211\n",
      "Columns: 28\n",
      "$ age         \u001b[3m\u001b[90m<int>\u001b[39m\u001b[23m 45, 34, 40, 58, 59, 36, 34, 38, 52, 48, 28, 43, 37, 52, 45…\n",
      "$ default     \u001b[3m\u001b[90m<dbl>\u001b[39m\u001b[23m 0, 0, 0, 0, 0, 0, 1, 0, 0, 0, 0, 0, 0, 0, 0, 0, 0, 0, 0, 0…\n",
      "$ balance     \u001b[3m\u001b[90m<int>\u001b[39m\u001b[23m 2, 0, 311, 5810, 169, 24, -868, -140, 98, 1203, 387, 1429,…\n",
      "$ housing     \u001b[3m\u001b[90m<dbl>\u001b[39m\u001b[23m 0, 0, 0, 0, 1, 1, 1, 0, 1, 0, 0, 1, 0, 0, 0, 0, 1, 1, 0, 1…\n",
      "$ loan        \u001b[3m\u001b[90m<dbl>\u001b[39m\u001b[23m 0, 0, 0, 0, 0, 1, 0, 0, 0, 0, 0, 0, 0, 0, 1, 0, 0, 0, 1, 0…\n",
      "$ day         \u001b[3m\u001b[90m<int>\u001b[39m\u001b[23m 26, 10, 6, 12, 16, 11, 30, 25, 28, 6, 3, 19, 21, 21, 22, 6…\n",
      "$ month       \u001b[3m\u001b[90m<chr>\u001b[39m\u001b[23m \"aug\", \"jul\", \"aug\", \"mar\", \"may\", \"jun\", \"jun\", \"jun\", \"j…\n",
      "$ duration    \u001b[3m\u001b[90m<int>\u001b[39m\u001b[23m 105, 268, 738, 139, 181, 100, 198, 456, 103, 61, 158, 1015…\n",
      "$ campaign    \u001b[3m\u001b[90m<int>\u001b[39m\u001b[23m 10, 1, 2, 1, 3, 5, 2, 3, 1, 5, 5, 1, 4, 1, 2, 4, 1, 21, 2,…\n",
      "$ pdays       \u001b[3m\u001b[90m<int>\u001b[39m\u001b[23m -1, -1, -1, -1, -1, -1, -1, -1, 245, -1, -1, 198, -1, -1, …\n",
      "$ previous    \u001b[3m\u001b[90m<int>\u001b[39m\u001b[23m 0, 0, 0, 0, 0, 0, 0, 0, 2, 0, 0, 2, 0, 0, 0, 0, 0, 0, 0, 0…\n",
      "$ poutcome    \u001b[3m\u001b[90m<chr>\u001b[39m\u001b[23m \"unknown\", \"unknown\", \"unknown\", \"unknown\", \"unknown\", \"un…\n",
      "$ ID          \u001b[3m\u001b[90m<int>\u001b[39m\u001b[23m 22944, 13870, 19301, 31334, 3849, 10192, 12411, 12310, 278…\n",
      "$ y           \u001b[3m\u001b[90m<chr>\u001b[39m\u001b[23m \"no\", \"no\", \"yes\", \"yes\", \"no\", \"no\", \"no\", \"no\", \"no\", \"n…\n",
      "$ data        \u001b[3m\u001b[90m<chr>\u001b[39m\u001b[23m \"train\", \"train\", \"train\", \"train\", \"train\", \"train\", \"tra…\n",
      "$ job_1       \u001b[3m\u001b[90m<dbl>\u001b[39m\u001b[23m 0, 0, 1, 1, 0, 0, 0, 0, 1, 0, 0, 0, 0, 0, 0, 1, 0, 1, 1, 0…\n",
      "$ job_2       \u001b[3m\u001b[90m<dbl>\u001b[39m\u001b[23m 0, 0, 0, 0, 0, 1, 1, 1, 0, 0, 1, 0, 0, 0, 0, 0, 1, 0, 0, 0…\n",
      "$ job_3       \u001b[3m\u001b[90m<dbl>\u001b[39m\u001b[23m 0, 0, 0, 0, 0, 0, 0, 0, 0, 0, 0, 1, 1, 1, 0, 0, 0, 0, 0, 0…\n",
      "$ job_4       \u001b[3m\u001b[90m<dbl>\u001b[39m\u001b[23m 0, 0, 0, 0, 0, 0, 0, 0, 0, 0, 0, 0, 0, 0, 0, 0, 0, 0, 0, 0…\n",
      "$ job_5       \u001b[3m\u001b[90m<dbl>\u001b[39m\u001b[23m 0, 0, 0, 0, 0, 0, 0, 0, 0, 0, 0, 0, 0, 0, 0, 0, 0, 0, 0, 0…\n",
      "$ job_6       \u001b[3m\u001b[90m<dbl>\u001b[39m\u001b[23m 0, 0, 0, 0, 0, 0, 0, 0, 0, 0, 0, 0, 0, 0, 0, 0, 0, 0, 0, 0…\n",
      "$ divorced    \u001b[3m\u001b[90m<dbl>\u001b[39m\u001b[23m 0, 1, 1, 0, 0, 0, 0, 0, 0, 0, 0, 0, 0, 1, 0, 0, 0, 0, 0, 0…\n",
      "$ single      \u001b[3m\u001b[90m<dbl>\u001b[39m\u001b[23m 0, 0, 0, 0, 0, 0, 0, 0, 0, 0, 1, 0, 0, 0, 0, 1, 0, 0, 0, 0…\n",
      "$ edu_primary \u001b[3m\u001b[90m<dbl>\u001b[39m\u001b[23m 0, 0, 0, 0, 0, 0, 0, 0, 0, 1, 0, 0, 0, 0, 0, 0, 0, 0, 0, 0…\n",
      "$ edu_sec     \u001b[3m\u001b[90m<dbl>\u001b[39m\u001b[23m 1, 1, 1, 0, 1, 1, 1, 1, 1, 0, 1, 0, 0, 0, 1, 0, 1, 1, 1, 1…\n",
      "$ edu_tert    \u001b[3m\u001b[90m<dbl>\u001b[39m\u001b[23m 0, 0, 0, 1, 0, 0, 0, 0, 0, 0, 0, 1, 1, 1, 0, 1, 0, 0, 0, 0…\n",
      "$ co_cellular \u001b[3m\u001b[90m<dbl>\u001b[39m\u001b[23m 1, 1, 1, 1, 0, 0, 0, 0, 1, 1, 1, 1, 0, 1, 0, 1, 0, 0, 1, 1…\n",
      "$ co_tel      \u001b[3m\u001b[90m<dbl>\u001b[39m\u001b[23m 0, 0, 0, 0, 0, 0, 0, 0, 0, 0, 0, 0, 0, 0, 1, 0, 0, 0, 0, 0…\n"
     ]
    }
   ],
   "source": [
    "all_data=all_data %>% \n",
    "  mutate(co_cellular=as.numeric(contact %in% c(\"cellular\")),\n",
    "         co_tel=as.numeric(contact %in% c(\"telephone\"))\n",
    "  ) %>% \n",
    "  select(-contact)\n",
    "glimpse(all_data)"
   ]
  },
  {
   "cell_type": "markdown",
   "id": "72da0bdf",
   "metadata": {},
   "source": [
    "Making dummies for variable month\n"
   ]
  },
  {
   "cell_type": "code",
   "execution_count": 34,
   "id": "7c6df596",
   "metadata": {},
   "outputs": [
    {
     "data": {
      "text/plain": [
       "\n",
       "  apr   aug   dec   feb   jan   jul   jun   mar   may   nov   oct   sep \n",
       " 2932  6247   214  2649  1403  6895  5341   477 13766  3970   738   579 "
      ]
     },
     "metadata": {},
     "output_type": "display_data"
    }
   ],
   "source": [
    "table(all_data$month)"
   ]
  },
  {
   "cell_type": "code",
   "execution_count": 35,
   "id": "46dec356",
   "metadata": {},
   "outputs": [
    {
     "data": {
      "text/html": [
       "<style>\n",
       ".dl-inline {width: auto; margin:0; padding: 0}\n",
       ".dl-inline>dt, .dl-inline>dd {float: none; width: auto; display: inline-block}\n",
       ".dl-inline>dt::after {content: \":\\0020\"; padding-right: .5ex}\n",
       ".dl-inline>dt:not(:first-of-type) {padding-left: .5ex}\n",
       "</style><dl class=dl-inline><dt>mar</dt><dd>46.7</dd><dt>oct</dt><dd>55</dd><dt>sep</dt><dd>57.8</dd><dt>dec</dt><dd>58</dd><dt>apr</dt><dd>80.1</dd><dt>feb</dt><dd>83.1</dd><dt>aug</dt><dd>88.7</dd><dt>jan</dt><dd>89.1</dd><dt>nov</dt><dd>89.3</dd><dt>jun</dt><dd>90.1</dd><dt>jul</dt><dd>91</dd><dt>may</dt><dd>93.2</dd></dl>\n"
      ],
      "text/latex": [
       "\\begin{description*}\n",
       "\\item[mar] 46.7\n",
       "\\item[oct] 55\n",
       "\\item[sep] 57.8\n",
       "\\item[dec] 58\n",
       "\\item[apr] 80.1\n",
       "\\item[feb] 83.1\n",
       "\\item[aug] 88.7\n",
       "\\item[jan] 89.1\n",
       "\\item[nov] 89.3\n",
       "\\item[jun] 90.1\n",
       "\\item[jul] 91\n",
       "\\item[may] 93.2\n",
       "\\end{description*}\n"
      ],
      "text/markdown": [
       "mar\n",
       ":   46.7oct\n",
       ":   55sep\n",
       ":   57.8dec\n",
       ":   58apr\n",
       ":   80.1feb\n",
       ":   83.1aug\n",
       ":   88.7jan\n",
       ":   89.1nov\n",
       ":   89.3jun\n",
       ":   90.1jul\n",
       ":   91may\n",
       ":   93.2\n",
       "\n"
      ],
      "text/plain": [
       " mar  oct  sep  dec  apr  feb  aug  jan  nov  jun  jul  may \n",
       "46.7 55.0 57.8 58.0 80.1 83.1 88.7 89.1 89.3 90.1 91.0 93.2 "
      ]
     },
     "metadata": {},
     "output_type": "display_data"
    }
   ],
   "source": [
    "#lets convert into percentage across months.\n",
    "finalmnth=round(prop.table(table(all_data$month,all_data$y),1)*100,1)\n",
    "sss=addmargins(finalmnth,2) #adding margin across Y\n",
    "sort(sss[,1])"
   ]
  },
  {
   "cell_type": "code",
   "execution_count": 36,
   "id": "a5329e6f",
   "metadata": {},
   "outputs": [
    {
     "name": "stdout",
     "output_type": "stream",
     "text": [
      "Rows: 45,211\n",
      "Columns: 33\n",
      "$ age         \u001b[3m\u001b[90m<int>\u001b[39m\u001b[23m 45, 34, 40, 58, 59, 36, 34, 38, 52, 48, 28, 43, 37, 52, 45…\n",
      "$ default     \u001b[3m\u001b[90m<dbl>\u001b[39m\u001b[23m 0, 0, 0, 0, 0, 0, 1, 0, 0, 0, 0, 0, 0, 0, 0, 0, 0, 0, 0, 0…\n",
      "$ balance     \u001b[3m\u001b[90m<int>\u001b[39m\u001b[23m 2, 0, 311, 5810, 169, 24, -868, -140, 98, 1203, 387, 1429,…\n",
      "$ housing     \u001b[3m\u001b[90m<dbl>\u001b[39m\u001b[23m 0, 0, 0, 0, 1, 1, 1, 0, 1, 0, 0, 1, 0, 0, 0, 0, 1, 1, 0, 1…\n",
      "$ loan        \u001b[3m\u001b[90m<dbl>\u001b[39m\u001b[23m 0, 0, 0, 0, 0, 1, 0, 0, 0, 0, 0, 0, 0, 0, 1, 0, 0, 0, 1, 0…\n",
      "$ day         \u001b[3m\u001b[90m<int>\u001b[39m\u001b[23m 26, 10, 6, 12, 16, 11, 30, 25, 28, 6, 3, 19, 21, 21, 22, 6…\n",
      "$ duration    \u001b[3m\u001b[90m<int>\u001b[39m\u001b[23m 105, 268, 738, 139, 181, 100, 198, 456, 103, 61, 158, 1015…\n",
      "$ campaign    \u001b[3m\u001b[90m<int>\u001b[39m\u001b[23m 10, 1, 2, 1, 3, 5, 2, 3, 1, 5, 5, 1, 4, 1, 2, 4, 1, 21, 2,…\n",
      "$ pdays       \u001b[3m\u001b[90m<int>\u001b[39m\u001b[23m -1, -1, -1, -1, -1, -1, -1, -1, 245, -1, -1, 198, -1, -1, …\n",
      "$ previous    \u001b[3m\u001b[90m<int>\u001b[39m\u001b[23m 0, 0, 0, 0, 0, 0, 0, 0, 2, 0, 0, 2, 0, 0, 0, 0, 0, 0, 0, 0…\n",
      "$ poutcome    \u001b[3m\u001b[90m<chr>\u001b[39m\u001b[23m \"unknown\", \"unknown\", \"unknown\", \"unknown\", \"unknown\", \"un…\n",
      "$ ID          \u001b[3m\u001b[90m<int>\u001b[39m\u001b[23m 22944, 13870, 19301, 31334, 3849, 10192, 12411, 12310, 278…\n",
      "$ y           \u001b[3m\u001b[90m<chr>\u001b[39m\u001b[23m \"no\", \"no\", \"yes\", \"yes\", \"no\", \"no\", \"no\", \"no\", \"no\", \"n…\n",
      "$ data        \u001b[3m\u001b[90m<chr>\u001b[39m\u001b[23m \"train\", \"train\", \"train\", \"train\", \"train\", \"train\", \"tra…\n",
      "$ job_1       \u001b[3m\u001b[90m<dbl>\u001b[39m\u001b[23m 0, 0, 1, 1, 0, 0, 0, 0, 1, 0, 0, 0, 0, 0, 0, 1, 0, 1, 1, 0…\n",
      "$ job_2       \u001b[3m\u001b[90m<dbl>\u001b[39m\u001b[23m 0, 0, 0, 0, 0, 1, 1, 1, 0, 0, 1, 0, 0, 0, 0, 0, 1, 0, 0, 0…\n",
      "$ job_3       \u001b[3m\u001b[90m<dbl>\u001b[39m\u001b[23m 0, 0, 0, 0, 0, 0, 0, 0, 0, 0, 0, 1, 1, 1, 0, 0, 0, 0, 0, 0…\n",
      "$ job_4       \u001b[3m\u001b[90m<dbl>\u001b[39m\u001b[23m 0, 0, 0, 0, 0, 0, 0, 0, 0, 0, 0, 0, 0, 0, 0, 0, 0, 0, 0, 0…\n",
      "$ job_5       \u001b[3m\u001b[90m<dbl>\u001b[39m\u001b[23m 0, 0, 0, 0, 0, 0, 0, 0, 0, 0, 0, 0, 0, 0, 0, 0, 0, 0, 0, 0…\n",
      "$ job_6       \u001b[3m\u001b[90m<dbl>\u001b[39m\u001b[23m 0, 0, 0, 0, 0, 0, 0, 0, 0, 0, 0, 0, 0, 0, 0, 0, 0, 0, 0, 0…\n",
      "$ divorced    \u001b[3m\u001b[90m<dbl>\u001b[39m\u001b[23m 0, 1, 1, 0, 0, 0, 0, 0, 0, 0, 0, 0, 0, 1, 0, 0, 0, 0, 0, 0…\n",
      "$ single      \u001b[3m\u001b[90m<dbl>\u001b[39m\u001b[23m 0, 0, 0, 0, 0, 0, 0, 0, 0, 0, 1, 0, 0, 0, 0, 1, 0, 0, 0, 0…\n",
      "$ edu_primary \u001b[3m\u001b[90m<dbl>\u001b[39m\u001b[23m 0, 0, 0, 0, 0, 0, 0, 0, 0, 1, 0, 0, 0, 0, 0, 0, 0, 0, 0, 0…\n",
      "$ edu_sec     \u001b[3m\u001b[90m<dbl>\u001b[39m\u001b[23m 1, 1, 1, 0, 1, 1, 1, 1, 1, 0, 1, 0, 0, 0, 1, 0, 1, 1, 1, 1…\n",
      "$ edu_tert    \u001b[3m\u001b[90m<dbl>\u001b[39m\u001b[23m 0, 0, 0, 1, 0, 0, 0, 0, 0, 0, 0, 1, 1, 1, 0, 1, 0, 0, 0, 0…\n",
      "$ co_cellular \u001b[3m\u001b[90m<dbl>\u001b[39m\u001b[23m 1, 1, 1, 1, 0, 0, 0, 0, 1, 1, 1, 1, 0, 1, 0, 1, 0, 0, 1, 1…\n",
      "$ co_tel      \u001b[3m\u001b[90m<dbl>\u001b[39m\u001b[23m 0, 0, 0, 0, 0, 0, 0, 0, 0, 0, 0, 0, 0, 0, 1, 0, 0, 0, 0, 0…\n",
      "$ month_1     \u001b[3m\u001b[90m<dbl>\u001b[39m\u001b[23m 1, 1, 1, 0, 0, 1, 1, 1, 1, 1, 0, 1, 0, 1, 1, 1, 0, 1, 1, 0…\n",
      "$ month_2     \u001b[3m\u001b[90m<dbl>\u001b[39m\u001b[23m 0, 0, 0, 0, 0, 0, 0, 0, 0, 0, 0, 0, 0, 0, 0, 0, 0, 0, 0, 0…\n",
      "$ month_3     \u001b[3m\u001b[90m<dbl>\u001b[39m\u001b[23m 0, 0, 0, 1, 0, 0, 0, 0, 0, 0, 0, 0, 0, 0, 0, 0, 0, 0, 0, 0…\n",
      "$ month_4     \u001b[3m\u001b[90m<dbl>\u001b[39m\u001b[23m 0, 0, 0, 0, 0, 0, 0, 0, 0, 0, 0, 0, 0, 0, 0, 0, 0, 0, 0, 0…\n",
      "$ month_5     \u001b[3m\u001b[90m<dbl>\u001b[39m\u001b[23m 0, 0, 0, 0, 0, 0, 0, 0, 0, 0, 0, 0, 0, 0, 0, 0, 0, 0, 0, 0…\n",
      "$ month_6     \u001b[3m\u001b[90m<dbl>\u001b[39m\u001b[23m 0, 0, 0, 0, 0, 0, 0, 0, 0, 0, 1, 0, 0, 0, 0, 0, 0, 0, 0, 0…\n"
     ]
    }
   ],
   "source": [
    "#may taken as base var\n",
    "all_data=all_data %>% \n",
    "  mutate(month_1=as.numeric(month %in% c(\"aug\",\"jun\",\"nov\",\"jan\",\"jul\")), \n",
    "         month_2=as.numeric(month %in% c(\"dec\",\"sep\")),\n",
    "         month_3=as.numeric(month==\"mar\"),\n",
    "         month_4=as.numeric(month==\"oct\"),\n",
    "         month_5=as.numeric(month==\"apr\"),\n",
    "         month_6=as.numeric(month==\"feb\")) %>% \n",
    "select(-month)\n",
    "glimpse(all_data)"
   ]
  },
  {
   "cell_type": "markdown",
   "id": "a163d979",
   "metadata": {},
   "source": [
    "Making dummies for variable outcome\n"
   ]
  },
  {
   "cell_type": "code",
   "execution_count": 37,
   "id": "1471e66e",
   "metadata": {},
   "outputs": [
    {
     "data": {
      "text/plain": [
       "\n",
       "success   other failure unknown \n",
       "   1511    1840    4901   36959 "
      ]
     },
     "metadata": {},
     "output_type": "display_data"
    }
   ],
   "source": [
    "t=table(all_data$poutcome)\n",
    "sort(t)"
   ]
  },
  {
   "cell_type": "code",
   "execution_count": 38,
   "id": "917fc8b4",
   "metadata": {},
   "outputs": [
    {
     "name": "stdout",
     "output_type": "stream",
     "text": [
      "Rows: 45,211\n",
      "Columns: 35\n",
      "$ age         \u001b[3m\u001b[90m<int>\u001b[39m\u001b[23m 45, 34, 40, 58, 59, 36, 34, 38, 52, 48, 28, 43, 37, 52, 45…\n",
      "$ default     \u001b[3m\u001b[90m<dbl>\u001b[39m\u001b[23m 0, 0, 0, 0, 0, 0, 1, 0, 0, 0, 0, 0, 0, 0, 0, 0, 0, 0, 0, 0…\n",
      "$ balance     \u001b[3m\u001b[90m<int>\u001b[39m\u001b[23m 2, 0, 311, 5810, 169, 24, -868, -140, 98, 1203, 387, 1429,…\n",
      "$ housing     \u001b[3m\u001b[90m<dbl>\u001b[39m\u001b[23m 0, 0, 0, 0, 1, 1, 1, 0, 1, 0, 0, 1, 0, 0, 0, 0, 1, 1, 0, 1…\n",
      "$ loan        \u001b[3m\u001b[90m<dbl>\u001b[39m\u001b[23m 0, 0, 0, 0, 0, 1, 0, 0, 0, 0, 0, 0, 0, 0, 1, 0, 0, 0, 1, 0…\n",
      "$ day         \u001b[3m\u001b[90m<int>\u001b[39m\u001b[23m 26, 10, 6, 12, 16, 11, 30, 25, 28, 6, 3, 19, 21, 21, 22, 6…\n",
      "$ duration    \u001b[3m\u001b[90m<int>\u001b[39m\u001b[23m 105, 268, 738, 139, 181, 100, 198, 456, 103, 61, 158, 1015…\n",
      "$ campaign    \u001b[3m\u001b[90m<int>\u001b[39m\u001b[23m 10, 1, 2, 1, 3, 5, 2, 3, 1, 5, 5, 1, 4, 1, 2, 4, 1, 21, 2,…\n",
      "$ pdays       \u001b[3m\u001b[90m<int>\u001b[39m\u001b[23m -1, -1, -1, -1, -1, -1, -1, -1, 245, -1, -1, 198, -1, -1, …\n",
      "$ previous    \u001b[3m\u001b[90m<int>\u001b[39m\u001b[23m 0, 0, 0, 0, 0, 0, 0, 0, 2, 0, 0, 2, 0, 0, 0, 0, 0, 0, 0, 0…\n",
      "$ ID          \u001b[3m\u001b[90m<int>\u001b[39m\u001b[23m 22944, 13870, 19301, 31334, 3849, 10192, 12411, 12310, 278…\n",
      "$ y           \u001b[3m\u001b[90m<chr>\u001b[39m\u001b[23m \"no\", \"no\", \"yes\", \"yes\", \"no\", \"no\", \"no\", \"no\", \"no\", \"n…\n",
      "$ data        \u001b[3m\u001b[90m<chr>\u001b[39m\u001b[23m \"train\", \"train\", \"train\", \"train\", \"train\", \"train\", \"tra…\n",
      "$ job_1       \u001b[3m\u001b[90m<dbl>\u001b[39m\u001b[23m 0, 0, 1, 1, 0, 0, 0, 0, 1, 0, 0, 0, 0, 0, 0, 1, 0, 1, 1, 0…\n",
      "$ job_2       \u001b[3m\u001b[90m<dbl>\u001b[39m\u001b[23m 0, 0, 0, 0, 0, 1, 1, 1, 0, 0, 1, 0, 0, 0, 0, 0, 1, 0, 0, 0…\n",
      "$ job_3       \u001b[3m\u001b[90m<dbl>\u001b[39m\u001b[23m 0, 0, 0, 0, 0, 0, 0, 0, 0, 0, 0, 1, 1, 1, 0, 0, 0, 0, 0, 0…\n",
      "$ job_4       \u001b[3m\u001b[90m<dbl>\u001b[39m\u001b[23m 0, 0, 0, 0, 0, 0, 0, 0, 0, 0, 0, 0, 0, 0, 0, 0, 0, 0, 0, 0…\n",
      "$ job_5       \u001b[3m\u001b[90m<dbl>\u001b[39m\u001b[23m 0, 0, 0, 0, 0, 0, 0, 0, 0, 0, 0, 0, 0, 0, 0, 0, 0, 0, 0, 0…\n",
      "$ job_6       \u001b[3m\u001b[90m<dbl>\u001b[39m\u001b[23m 0, 0, 0, 0, 0, 0, 0, 0, 0, 0, 0, 0, 0, 0, 0, 0, 0, 0, 0, 0…\n",
      "$ divorced    \u001b[3m\u001b[90m<dbl>\u001b[39m\u001b[23m 0, 1, 1, 0, 0, 0, 0, 0, 0, 0, 0, 0, 0, 1, 0, 0, 0, 0, 0, 0…\n",
      "$ single      \u001b[3m\u001b[90m<dbl>\u001b[39m\u001b[23m 0, 0, 0, 0, 0, 0, 0, 0, 0, 0, 1, 0, 0, 0, 0, 1, 0, 0, 0, 0…\n",
      "$ edu_primary \u001b[3m\u001b[90m<dbl>\u001b[39m\u001b[23m 0, 0, 0, 0, 0, 0, 0, 0, 0, 1, 0, 0, 0, 0, 0, 0, 0, 0, 0, 0…\n",
      "$ edu_sec     \u001b[3m\u001b[90m<dbl>\u001b[39m\u001b[23m 1, 1, 1, 0, 1, 1, 1, 1, 1, 0, 1, 0, 0, 0, 1, 0, 1, 1, 1, 1…\n",
      "$ edu_tert    \u001b[3m\u001b[90m<dbl>\u001b[39m\u001b[23m 0, 0, 0, 1, 0, 0, 0, 0, 0, 0, 0, 1, 1, 1, 0, 1, 0, 0, 0, 0…\n",
      "$ co_cellular \u001b[3m\u001b[90m<dbl>\u001b[39m\u001b[23m 1, 1, 1, 1, 0, 0, 0, 0, 1, 1, 1, 1, 0, 1, 0, 1, 0, 0, 1, 1…\n",
      "$ co_tel      \u001b[3m\u001b[90m<dbl>\u001b[39m\u001b[23m 0, 0, 0, 0, 0, 0, 0, 0, 0, 0, 0, 0, 0, 0, 1, 0, 0, 0, 0, 0…\n",
      "$ month_1     \u001b[3m\u001b[90m<dbl>\u001b[39m\u001b[23m 1, 1, 1, 0, 0, 1, 1, 1, 1, 1, 0, 1, 0, 1, 1, 1, 0, 1, 1, 0…\n",
      "$ month_2     \u001b[3m\u001b[90m<dbl>\u001b[39m\u001b[23m 0, 0, 0, 0, 0, 0, 0, 0, 0, 0, 0, 0, 0, 0, 0, 0, 0, 0, 0, 0…\n",
      "$ month_3     \u001b[3m\u001b[90m<dbl>\u001b[39m\u001b[23m 0, 0, 0, 1, 0, 0, 0, 0, 0, 0, 0, 0, 0, 0, 0, 0, 0, 0, 0, 0…\n",
      "$ month_4     \u001b[3m\u001b[90m<dbl>\u001b[39m\u001b[23m 0, 0, 0, 0, 0, 0, 0, 0, 0, 0, 0, 0, 0, 0, 0, 0, 0, 0, 0, 0…\n",
      "$ month_5     \u001b[3m\u001b[90m<dbl>\u001b[39m\u001b[23m 0, 0, 0, 0, 0, 0, 0, 0, 0, 0, 0, 0, 0, 0, 0, 0, 0, 0, 0, 0…\n",
      "$ month_6     \u001b[3m\u001b[90m<dbl>\u001b[39m\u001b[23m 0, 0, 0, 0, 0, 0, 0, 0, 0, 0, 1, 0, 0, 0, 0, 0, 0, 0, 0, 0…\n",
      "$ poc_success \u001b[3m\u001b[90m<dbl>\u001b[39m\u001b[23m 0, 0, 0, 0, 0, 0, 0, 0, 0, 0, 0, 0, 0, 0, 0, 0, 0, 0, 0, 0…\n",
      "$ poc_failure \u001b[3m\u001b[90m<dbl>\u001b[39m\u001b[23m 0, 0, 0, 0, 0, 0, 0, 0, 1, 0, 0, 0, 0, 0, 0, 0, 0, 0, 0, 0…\n",
      "$ poc_other   \u001b[3m\u001b[90m<dbl>\u001b[39m\u001b[23m 0, 0, 0, 0, 0, 0, 0, 0, 0, 0, 0, 1, 0, 0, 0, 0, 0, 0, 0, 0…\n"
     ]
    }
   ],
   "source": [
    "#unknown as base var\n",
    "all_data=all_data %>% \n",
    "  mutate(poc_success=as.numeric(poutcome %in% c(\"success\")),\n",
    "         poc_failure=as.numeric(poutcome %in% c(\"failure\")),\n",
    "         poc_other=as.numeric(poutcome %in% c(\"other\"))\n",
    "         )%>% \n",
    "           select(-poutcome)\n",
    "glimpse(all_data)\n"
   ]
  },
  {
   "cell_type": "markdown",
   "id": "a8878546",
   "metadata": {},
   "source": [
    "Thus data preparation is done and we will now seperate both test n train data."
   ]
  },
  {
   "cell_type": "code",
   "execution_count": 39,
   "id": "5792fd0b",
   "metadata": {},
   "outputs": [
    {
     "name": "stdout",
     "output_type": "stream",
     "text": [
      "Rows: 45,211\n",
      "Columns: 35\n",
      "$ age         \u001b[3m\u001b[90m<int>\u001b[39m\u001b[23m 45, 34, 40, 58, 59, 36, 34, 38, 52, 48, 28, 43, 37, 52, 45…\n",
      "$ default     \u001b[3m\u001b[90m<dbl>\u001b[39m\u001b[23m 0, 0, 0, 0, 0, 0, 1, 0, 0, 0, 0, 0, 0, 0, 0, 0, 0, 0, 0, 0…\n",
      "$ balance     \u001b[3m\u001b[90m<int>\u001b[39m\u001b[23m 2, 0, 311, 5810, 169, 24, -868, -140, 98, 1203, 387, 1429,…\n",
      "$ housing     \u001b[3m\u001b[90m<dbl>\u001b[39m\u001b[23m 0, 0, 0, 0, 1, 1, 1, 0, 1, 0, 0, 1, 0, 0, 0, 0, 1, 1, 0, 1…\n",
      "$ loan        \u001b[3m\u001b[90m<dbl>\u001b[39m\u001b[23m 0, 0, 0, 0, 0, 1, 0, 0, 0, 0, 0, 0, 0, 0, 1, 0, 0, 0, 1, 0…\n",
      "$ day         \u001b[3m\u001b[90m<int>\u001b[39m\u001b[23m 26, 10, 6, 12, 16, 11, 30, 25, 28, 6, 3, 19, 21, 21, 22, 6…\n",
      "$ duration    \u001b[3m\u001b[90m<int>\u001b[39m\u001b[23m 105, 268, 738, 139, 181, 100, 198, 456, 103, 61, 158, 1015…\n",
      "$ campaign    \u001b[3m\u001b[90m<int>\u001b[39m\u001b[23m 10, 1, 2, 1, 3, 5, 2, 3, 1, 5, 5, 1, 4, 1, 2, 4, 1, 21, 2,…\n",
      "$ pdays       \u001b[3m\u001b[90m<int>\u001b[39m\u001b[23m -1, -1, -1, -1, -1, -1, -1, -1, 245, -1, -1, 198, -1, -1, …\n",
      "$ previous    \u001b[3m\u001b[90m<int>\u001b[39m\u001b[23m 0, 0, 0, 0, 0, 0, 0, 0, 2, 0, 0, 2, 0, 0, 0, 0, 0, 0, 0, 0…\n",
      "$ ID          \u001b[3m\u001b[90m<int>\u001b[39m\u001b[23m 22944, 13870, 19301, 31334, 3849, 10192, 12411, 12310, 278…\n",
      "$ y           \u001b[3m\u001b[90m<chr>\u001b[39m\u001b[23m \"no\", \"no\", \"yes\", \"yes\", \"no\", \"no\", \"no\", \"no\", \"no\", \"n…\n",
      "$ data        \u001b[3m\u001b[90m<chr>\u001b[39m\u001b[23m \"train\", \"train\", \"train\", \"train\", \"train\", \"train\", \"tra…\n",
      "$ job_1       \u001b[3m\u001b[90m<dbl>\u001b[39m\u001b[23m 0, 0, 1, 1, 0, 0, 0, 0, 1, 0, 0, 0, 0, 0, 0, 1, 0, 1, 1, 0…\n",
      "$ job_2       \u001b[3m\u001b[90m<dbl>\u001b[39m\u001b[23m 0, 0, 0, 0, 0, 1, 1, 1, 0, 0, 1, 0, 0, 0, 0, 0, 1, 0, 0, 0…\n",
      "$ job_3       \u001b[3m\u001b[90m<dbl>\u001b[39m\u001b[23m 0, 0, 0, 0, 0, 0, 0, 0, 0, 0, 0, 1, 1, 1, 0, 0, 0, 0, 0, 0…\n",
      "$ job_4       \u001b[3m\u001b[90m<dbl>\u001b[39m\u001b[23m 0, 0, 0, 0, 0, 0, 0, 0, 0, 0, 0, 0, 0, 0, 0, 0, 0, 0, 0, 0…\n",
      "$ job_5       \u001b[3m\u001b[90m<dbl>\u001b[39m\u001b[23m 0, 0, 0, 0, 0, 0, 0, 0, 0, 0, 0, 0, 0, 0, 0, 0, 0, 0, 0, 0…\n",
      "$ job_6       \u001b[3m\u001b[90m<dbl>\u001b[39m\u001b[23m 0, 0, 0, 0, 0, 0, 0, 0, 0, 0, 0, 0, 0, 0, 0, 0, 0, 0, 0, 0…\n",
      "$ divorced    \u001b[3m\u001b[90m<dbl>\u001b[39m\u001b[23m 0, 1, 1, 0, 0, 0, 0, 0, 0, 0, 0, 0, 0, 1, 0, 0, 0, 0, 0, 0…\n",
      "$ single      \u001b[3m\u001b[90m<dbl>\u001b[39m\u001b[23m 0, 0, 0, 0, 0, 0, 0, 0, 0, 0, 1, 0, 0, 0, 0, 1, 0, 0, 0, 0…\n",
      "$ edu_primary \u001b[3m\u001b[90m<dbl>\u001b[39m\u001b[23m 0, 0, 0, 0, 0, 0, 0, 0, 0, 1, 0, 0, 0, 0, 0, 0, 0, 0, 0, 0…\n",
      "$ edu_sec     \u001b[3m\u001b[90m<dbl>\u001b[39m\u001b[23m 1, 1, 1, 0, 1, 1, 1, 1, 1, 0, 1, 0, 0, 0, 1, 0, 1, 1, 1, 1…\n",
      "$ edu_tert    \u001b[3m\u001b[90m<dbl>\u001b[39m\u001b[23m 0, 0, 0, 1, 0, 0, 0, 0, 0, 0, 0, 1, 1, 1, 0, 1, 0, 0, 0, 0…\n",
      "$ co_cellular \u001b[3m\u001b[90m<dbl>\u001b[39m\u001b[23m 1, 1, 1, 1, 0, 0, 0, 0, 1, 1, 1, 1, 0, 1, 0, 1, 0, 0, 1, 1…\n",
      "$ co_tel      \u001b[3m\u001b[90m<dbl>\u001b[39m\u001b[23m 0, 0, 0, 0, 0, 0, 0, 0, 0, 0, 0, 0, 0, 0, 1, 0, 0, 0, 0, 0…\n",
      "$ month_1     \u001b[3m\u001b[90m<dbl>\u001b[39m\u001b[23m 1, 1, 1, 0, 0, 1, 1, 1, 1, 1, 0, 1, 0, 1, 1, 1, 0, 1, 1, 0…\n",
      "$ month_2     \u001b[3m\u001b[90m<dbl>\u001b[39m\u001b[23m 0, 0, 0, 0, 0, 0, 0, 0, 0, 0, 0, 0, 0, 0, 0, 0, 0, 0, 0, 0…\n",
      "$ month_3     \u001b[3m\u001b[90m<dbl>\u001b[39m\u001b[23m 0, 0, 0, 1, 0, 0, 0, 0, 0, 0, 0, 0, 0, 0, 0, 0, 0, 0, 0, 0…\n",
      "$ month_4     \u001b[3m\u001b[90m<dbl>\u001b[39m\u001b[23m 0, 0, 0, 0, 0, 0, 0, 0, 0, 0, 0, 0, 0, 0, 0, 0, 0, 0, 0, 0…\n",
      "$ month_5     \u001b[3m\u001b[90m<dbl>\u001b[39m\u001b[23m 0, 0, 0, 0, 0, 0, 0, 0, 0, 0, 0, 0, 0, 0, 0, 0, 0, 0, 0, 0…\n",
      "$ month_6     \u001b[3m\u001b[90m<dbl>\u001b[39m\u001b[23m 0, 0, 0, 0, 0, 0, 0, 0, 0, 0, 1, 0, 0, 0, 0, 0, 0, 0, 0, 0…\n",
      "$ poc_success \u001b[3m\u001b[90m<dbl>\u001b[39m\u001b[23m 0, 0, 0, 0, 0, 0, 0, 0, 0, 0, 0, 0, 0, 0, 0, 0, 0, 0, 0, 0…\n",
      "$ poc_failure \u001b[3m\u001b[90m<dbl>\u001b[39m\u001b[23m 0, 0, 0, 0, 0, 0, 0, 0, 1, 0, 0, 0, 0, 0, 0, 0, 0, 0, 0, 0…\n",
      "$ poc_other   \u001b[3m\u001b[90m<dbl>\u001b[39m\u001b[23m 0, 0, 0, 0, 0, 0, 0, 0, 0, 0, 0, 1, 0, 0, 0, 0, 0, 0, 0, 0…\n"
     ]
    }
   ],
   "source": [
    "glimpse(all_data)"
   ]
  },
  {
   "cell_type": "code",
   "execution_count": 40,
   "id": "05a38de3",
   "metadata": {},
   "outputs": [
    {
     "data": {
      "text/plain": [
       "\n",
       "   no   yes \n",
       "27927  3720 "
      ]
     },
     "metadata": {},
     "output_type": "display_data"
    }
   ],
   "source": [
    "table(all_data$y)"
   ]
  },
  {
   "cell_type": "code",
   "execution_count": 41,
   "id": "cb899fcd",
   "metadata": {},
   "outputs": [
    {
     "data": {
      "text/plain": [
       "\n",
       "   no   yes \n",
       "27927  3720 "
      ]
     },
     "metadata": {},
     "output_type": "display_data"
    }
   ],
   "source": [
    "table(train$y)"
   ]
  },
  {
   "cell_type": "code",
   "execution_count": 42,
   "id": "2c85c0e2",
   "metadata": {},
   "outputs": [
    {
     "data": {
      "text/plain": [
       "\n",
       "    0     1 \n",
       "27927  3720 "
      ]
     },
     "metadata": {},
     "output_type": "display_data"
    }
   ],
   "source": [
    "all_data$y=as.numeric(all_data$y==\"yes\")\n",
    "table(all_data$y)"
   ]
  },
  {
   "cell_type": "code",
   "execution_count": 44,
   "id": "5df1f03f",
   "metadata": {},
   "outputs": [
    {
     "name": "stdout",
     "output_type": "stream",
     "text": [
      "Rows: 45,211\n",
      "Columns: 35\n",
      "$ age         \u001b[3m\u001b[90m<int>\u001b[39m\u001b[23m 45, 34, 40, 58, 59, 36, 34, 38, 52, 48, 28, 43, 37, 52, 45…\n",
      "$ default     \u001b[3m\u001b[90m<dbl>\u001b[39m\u001b[23m 0, 0, 0, 0, 0, 0, 1, 0, 0, 0, 0, 0, 0, 0, 0, 0, 0, 0, 0, 0…\n",
      "$ balance     \u001b[3m\u001b[90m<int>\u001b[39m\u001b[23m 2, 0, 311, 5810, 169, 24, -868, -140, 98, 1203, 387, 1429,…\n",
      "$ housing     \u001b[3m\u001b[90m<dbl>\u001b[39m\u001b[23m 0, 0, 0, 0, 1, 1, 1, 0, 1, 0, 0, 1, 0, 0, 0, 0, 1, 1, 0, 1…\n",
      "$ loan        \u001b[3m\u001b[90m<dbl>\u001b[39m\u001b[23m 0, 0, 0, 0, 0, 1, 0, 0, 0, 0, 0, 0, 0, 0, 1, 0, 0, 0, 1, 0…\n",
      "$ day         \u001b[3m\u001b[90m<int>\u001b[39m\u001b[23m 26, 10, 6, 12, 16, 11, 30, 25, 28, 6, 3, 19, 21, 21, 22, 6…\n",
      "$ duration    \u001b[3m\u001b[90m<int>\u001b[39m\u001b[23m 105, 268, 738, 139, 181, 100, 198, 456, 103, 61, 158, 1015…\n",
      "$ campaign    \u001b[3m\u001b[90m<int>\u001b[39m\u001b[23m 10, 1, 2, 1, 3, 5, 2, 3, 1, 5, 5, 1, 4, 1, 2, 4, 1, 21, 2,…\n",
      "$ pdays       \u001b[3m\u001b[90m<int>\u001b[39m\u001b[23m -1, -1, -1, -1, -1, -1, -1, -1, 245, -1, -1, 198, -1, -1, …\n",
      "$ previous    \u001b[3m\u001b[90m<int>\u001b[39m\u001b[23m 0, 0, 0, 0, 0, 0, 0, 0, 2, 0, 0, 2, 0, 0, 0, 0, 0, 0, 0, 0…\n",
      "$ ID          \u001b[3m\u001b[90m<int>\u001b[39m\u001b[23m 22944, 13870, 19301, 31334, 3849, 10192, 12411, 12310, 278…\n",
      "$ y           \u001b[3m\u001b[90m<dbl>\u001b[39m\u001b[23m 0, 0, 1, 1, 0, 0, 0, 0, 0, 0, 0, 1, 0, 0, 0, 0, 0, 0, 0, 0…\n",
      "$ data        \u001b[3m\u001b[90m<chr>\u001b[39m\u001b[23m \"train\", \"train\", \"train\", \"train\", \"train\", \"train\", \"tra…\n",
      "$ job_1       \u001b[3m\u001b[90m<dbl>\u001b[39m\u001b[23m 0, 0, 1, 1, 0, 0, 0, 0, 1, 0, 0, 0, 0, 0, 0, 1, 0, 1, 1, 0…\n",
      "$ job_2       \u001b[3m\u001b[90m<dbl>\u001b[39m\u001b[23m 0, 0, 0, 0, 0, 1, 1, 1, 0, 0, 1, 0, 0, 0, 0, 0, 1, 0, 0, 0…\n",
      "$ job_3       \u001b[3m\u001b[90m<dbl>\u001b[39m\u001b[23m 0, 0, 0, 0, 0, 0, 0, 0, 0, 0, 0, 1, 1, 1, 0, 0, 0, 0, 0, 0…\n",
      "$ job_4       \u001b[3m\u001b[90m<dbl>\u001b[39m\u001b[23m 0, 0, 0, 0, 0, 0, 0, 0, 0, 0, 0, 0, 0, 0, 0, 0, 0, 0, 0, 0…\n",
      "$ job_5       \u001b[3m\u001b[90m<dbl>\u001b[39m\u001b[23m 0, 0, 0, 0, 0, 0, 0, 0, 0, 0, 0, 0, 0, 0, 0, 0, 0, 0, 0, 0…\n",
      "$ job_6       \u001b[3m\u001b[90m<dbl>\u001b[39m\u001b[23m 0, 0, 0, 0, 0, 0, 0, 0, 0, 0, 0, 0, 0, 0, 0, 0, 0, 0, 0, 0…\n",
      "$ divorced    \u001b[3m\u001b[90m<dbl>\u001b[39m\u001b[23m 0, 1, 1, 0, 0, 0, 0, 0, 0, 0, 0, 0, 0, 1, 0, 0, 0, 0, 0, 0…\n",
      "$ single      \u001b[3m\u001b[90m<dbl>\u001b[39m\u001b[23m 0, 0, 0, 0, 0, 0, 0, 0, 0, 0, 1, 0, 0, 0, 0, 1, 0, 0, 0, 0…\n",
      "$ edu_primary \u001b[3m\u001b[90m<dbl>\u001b[39m\u001b[23m 0, 0, 0, 0, 0, 0, 0, 0, 0, 1, 0, 0, 0, 0, 0, 0, 0, 0, 0, 0…\n",
      "$ edu_sec     \u001b[3m\u001b[90m<dbl>\u001b[39m\u001b[23m 1, 1, 1, 0, 1, 1, 1, 1, 1, 0, 1, 0, 0, 0, 1, 0, 1, 1, 1, 1…\n",
      "$ edu_tert    \u001b[3m\u001b[90m<dbl>\u001b[39m\u001b[23m 0, 0, 0, 1, 0, 0, 0, 0, 0, 0, 0, 1, 1, 1, 0, 1, 0, 0, 0, 0…\n",
      "$ co_cellular \u001b[3m\u001b[90m<dbl>\u001b[39m\u001b[23m 1, 1, 1, 1, 0, 0, 0, 0, 1, 1, 1, 1, 0, 1, 0, 1, 0, 0, 1, 1…\n",
      "$ co_tel      \u001b[3m\u001b[90m<dbl>\u001b[39m\u001b[23m 0, 0, 0, 0, 0, 0, 0, 0, 0, 0, 0, 0, 0, 0, 1, 0, 0, 0, 0, 0…\n",
      "$ month_1     \u001b[3m\u001b[90m<dbl>\u001b[39m\u001b[23m 1, 1, 1, 0, 0, 1, 1, 1, 1, 1, 0, 1, 0, 1, 1, 1, 0, 1, 1, 0…\n",
      "$ month_2     \u001b[3m\u001b[90m<dbl>\u001b[39m\u001b[23m 0, 0, 0, 0, 0, 0, 0, 0, 0, 0, 0, 0, 0, 0, 0, 0, 0, 0, 0, 0…\n",
      "$ month_3     \u001b[3m\u001b[90m<dbl>\u001b[39m\u001b[23m 0, 0, 0, 1, 0, 0, 0, 0, 0, 0, 0, 0, 0, 0, 0, 0, 0, 0, 0, 0…\n",
      "$ month_4     \u001b[3m\u001b[90m<dbl>\u001b[39m\u001b[23m 0, 0, 0, 0, 0, 0, 0, 0, 0, 0, 0, 0, 0, 0, 0, 0, 0, 0, 0, 0…\n",
      "$ month_5     \u001b[3m\u001b[90m<dbl>\u001b[39m\u001b[23m 0, 0, 0, 0, 0, 0, 0, 0, 0, 0, 0, 0, 0, 0, 0, 0, 0, 0, 0, 0…\n",
      "$ month_6     \u001b[3m\u001b[90m<dbl>\u001b[39m\u001b[23m 0, 0, 0, 0, 0, 0, 0, 0, 0, 0, 1, 0, 0, 0, 0, 0, 0, 0, 0, 0…\n",
      "$ poc_success \u001b[3m\u001b[90m<dbl>\u001b[39m\u001b[23m 0, 0, 0, 0, 0, 0, 0, 0, 0, 0, 0, 0, 0, 0, 0, 0, 0, 0, 0, 0…\n",
      "$ poc_failure \u001b[3m\u001b[90m<dbl>\u001b[39m\u001b[23m 0, 0, 0, 0, 0, 0, 0, 0, 1, 0, 0, 0, 0, 0, 0, 0, 0, 0, 0, 0…\n",
      "$ poc_other   \u001b[3m\u001b[90m<dbl>\u001b[39m\u001b[23m 0, 0, 0, 0, 0, 0, 0, 0, 0, 0, 0, 1, 0, 0, 0, 0, 0, 0, 0, 0…\n"
     ]
    }
   ],
   "source": [
    "glimpse(all_data)"
   ]
  },
  {
   "cell_type": "markdown",
   "id": "7f7ffc9e",
   "metadata": {},
   "source": [
    "Separating test and train"
   ]
  },
  {
   "cell_type": "code",
   "execution_count": 45,
   "id": "bff14daf",
   "metadata": {},
   "outputs": [],
   "source": [
    "train=all_data %>% \n",
    "  filter(data=='train') %>% \n",
    "  select(-data) #31647,34\n",
    "\n",
    "test=all_data %>% \n",
    "  filter(data=='test') %>% \n",
    "  select(-data,-y)"
   ]
  },
  {
   "cell_type": "markdown",
   "id": "e2d8e076",
   "metadata": {},
   "source": [
    "Lets view the structure of test n train datasets"
   ]
  },
  {
   "cell_type": "code",
   "execution_count": 46,
   "id": "0b23e4cc",
   "metadata": {},
   "outputs": [
    {
     "name": "stdout",
     "output_type": "stream",
     "text": [
      "Rows: 31,647\n",
      "Columns: 34\n",
      "$ age         \u001b[3m\u001b[90m<int>\u001b[39m\u001b[23m 45, 34, 40, 58, 59, 36, 34, 38, 52, 48, 28, 43, 37, 52, 45…\n",
      "$ default     \u001b[3m\u001b[90m<dbl>\u001b[39m\u001b[23m 0, 0, 0, 0, 0, 0, 1, 0, 0, 0, 0, 0, 0, 0, 0, 0, 0, 0, 0, 0…\n",
      "$ balance     \u001b[3m\u001b[90m<int>\u001b[39m\u001b[23m 2, 0, 311, 5810, 169, 24, -868, -140, 98, 1203, 387, 1429,…\n",
      "$ housing     \u001b[3m\u001b[90m<dbl>\u001b[39m\u001b[23m 0, 0, 0, 0, 1, 1, 1, 0, 1, 0, 0, 1, 0, 0, 0, 0, 1, 1, 0, 1…\n",
      "$ loan        \u001b[3m\u001b[90m<dbl>\u001b[39m\u001b[23m 0, 0, 0, 0, 0, 1, 0, 0, 0, 0, 0, 0, 0, 0, 1, 0, 0, 0, 1, 0…\n",
      "$ day         \u001b[3m\u001b[90m<int>\u001b[39m\u001b[23m 26, 10, 6, 12, 16, 11, 30, 25, 28, 6, 3, 19, 21, 21, 22, 6…\n",
      "$ duration    \u001b[3m\u001b[90m<int>\u001b[39m\u001b[23m 105, 268, 738, 139, 181, 100, 198, 456, 103, 61, 158, 1015…\n",
      "$ campaign    \u001b[3m\u001b[90m<int>\u001b[39m\u001b[23m 10, 1, 2, 1, 3, 5, 2, 3, 1, 5, 5, 1, 4, 1, 2, 4, 1, 21, 2,…\n",
      "$ pdays       \u001b[3m\u001b[90m<int>\u001b[39m\u001b[23m -1, -1, -1, -1, -1, -1, -1, -1, 245, -1, -1, 198, -1, -1, …\n",
      "$ previous    \u001b[3m\u001b[90m<int>\u001b[39m\u001b[23m 0, 0, 0, 0, 0, 0, 0, 0, 2, 0, 0, 2, 0, 0, 0, 0, 0, 0, 0, 0…\n",
      "$ ID          \u001b[3m\u001b[90m<int>\u001b[39m\u001b[23m 22944, 13870, 19301, 31334, 3849, 10192, 12411, 12310, 278…\n",
      "$ y           \u001b[3m\u001b[90m<dbl>\u001b[39m\u001b[23m 0, 0, 1, 1, 0, 0, 0, 0, 0, 0, 0, 1, 0, 0, 0, 0, 0, 0, 0, 0…\n",
      "$ job_1       \u001b[3m\u001b[90m<dbl>\u001b[39m\u001b[23m 0, 0, 1, 1, 0, 0, 0, 0, 1, 0, 0, 0, 0, 0, 0, 1, 0, 1, 1, 0…\n",
      "$ job_2       \u001b[3m\u001b[90m<dbl>\u001b[39m\u001b[23m 0, 0, 0, 0, 0, 1, 1, 1, 0, 0, 1, 0, 0, 0, 0, 0, 1, 0, 0, 0…\n",
      "$ job_3       \u001b[3m\u001b[90m<dbl>\u001b[39m\u001b[23m 0, 0, 0, 0, 0, 0, 0, 0, 0, 0, 0, 1, 1, 1, 0, 0, 0, 0, 0, 0…\n",
      "$ job_4       \u001b[3m\u001b[90m<dbl>\u001b[39m\u001b[23m 0, 0, 0, 0, 0, 0, 0, 0, 0, 0, 0, 0, 0, 0, 0, 0, 0, 0, 0, 0…\n",
      "$ job_5       \u001b[3m\u001b[90m<dbl>\u001b[39m\u001b[23m 0, 0, 0, 0, 0, 0, 0, 0, 0, 0, 0, 0, 0, 0, 0, 0, 0, 0, 0, 0…\n",
      "$ job_6       \u001b[3m\u001b[90m<dbl>\u001b[39m\u001b[23m 0, 0, 0, 0, 0, 0, 0, 0, 0, 0, 0, 0, 0, 0, 0, 0, 0, 0, 0, 0…\n",
      "$ divorced    \u001b[3m\u001b[90m<dbl>\u001b[39m\u001b[23m 0, 1, 1, 0, 0, 0, 0, 0, 0, 0, 0, 0, 0, 1, 0, 0, 0, 0, 0, 0…\n",
      "$ single      \u001b[3m\u001b[90m<dbl>\u001b[39m\u001b[23m 0, 0, 0, 0, 0, 0, 0, 0, 0, 0, 1, 0, 0, 0, 0, 1, 0, 0, 0, 0…\n",
      "$ edu_primary \u001b[3m\u001b[90m<dbl>\u001b[39m\u001b[23m 0, 0, 0, 0, 0, 0, 0, 0, 0, 1, 0, 0, 0, 0, 0, 0, 0, 0, 0, 0…\n",
      "$ edu_sec     \u001b[3m\u001b[90m<dbl>\u001b[39m\u001b[23m 1, 1, 1, 0, 1, 1, 1, 1, 1, 0, 1, 0, 0, 0, 1, 0, 1, 1, 1, 1…\n",
      "$ edu_tert    \u001b[3m\u001b[90m<dbl>\u001b[39m\u001b[23m 0, 0, 0, 1, 0, 0, 0, 0, 0, 0, 0, 1, 1, 1, 0, 1, 0, 0, 0, 0…\n",
      "$ co_cellular \u001b[3m\u001b[90m<dbl>\u001b[39m\u001b[23m 1, 1, 1, 1, 0, 0, 0, 0, 1, 1, 1, 1, 0, 1, 0, 1, 0, 0, 1, 1…\n",
      "$ co_tel      \u001b[3m\u001b[90m<dbl>\u001b[39m\u001b[23m 0, 0, 0, 0, 0, 0, 0, 0, 0, 0, 0, 0, 0, 0, 1, 0, 0, 0, 0, 0…\n",
      "$ month_1     \u001b[3m\u001b[90m<dbl>\u001b[39m\u001b[23m 1, 1, 1, 0, 0, 1, 1, 1, 1, 1, 0, 1, 0, 1, 1, 1, 0, 1, 1, 0…\n",
      "$ month_2     \u001b[3m\u001b[90m<dbl>\u001b[39m\u001b[23m 0, 0, 0, 0, 0, 0, 0, 0, 0, 0, 0, 0, 0, 0, 0, 0, 0, 0, 0, 0…\n",
      "$ month_3     \u001b[3m\u001b[90m<dbl>\u001b[39m\u001b[23m 0, 0, 0, 1, 0, 0, 0, 0, 0, 0, 0, 0, 0, 0, 0, 0, 0, 0, 0, 0…\n",
      "$ month_4     \u001b[3m\u001b[90m<dbl>\u001b[39m\u001b[23m 0, 0, 0, 0, 0, 0, 0, 0, 0, 0, 0, 0, 0, 0, 0, 0, 0, 0, 0, 0…\n",
      "$ month_5     \u001b[3m\u001b[90m<dbl>\u001b[39m\u001b[23m 0, 0, 0, 0, 0, 0, 0, 0, 0, 0, 0, 0, 0, 0, 0, 0, 0, 0, 0, 0…\n",
      "$ month_6     \u001b[3m\u001b[90m<dbl>\u001b[39m\u001b[23m 0, 0, 0, 0, 0, 0, 0, 0, 0, 0, 1, 0, 0, 0, 0, 0, 0, 0, 0, 0…\n",
      "$ poc_success \u001b[3m\u001b[90m<dbl>\u001b[39m\u001b[23m 0, 0, 0, 0, 0, 0, 0, 0, 0, 0, 0, 0, 0, 0, 0, 0, 0, 0, 0, 0…\n",
      "$ poc_failure \u001b[3m\u001b[90m<dbl>\u001b[39m\u001b[23m 0, 0, 0, 0, 0, 0, 0, 0, 1, 0, 0, 0, 0, 0, 0, 0, 0, 0, 0, 0…\n",
      "$ poc_other   \u001b[3m\u001b[90m<dbl>\u001b[39m\u001b[23m 0, 0, 0, 0, 0, 0, 0, 0, 0, 0, 0, 1, 0, 0, 0, 0, 0, 0, 0, 0…\n"
     ]
    }
   ],
   "source": [
    "glimpse(train)"
   ]
  },
  {
   "cell_type": "code",
   "execution_count": 47,
   "id": "bb2f77a2",
   "metadata": {},
   "outputs": [
    {
     "name": "stdout",
     "output_type": "stream",
     "text": [
      "Rows: 13,564\n",
      "Columns: 33\n",
      "$ age         \u001b[3m\u001b[90m<int>\u001b[39m\u001b[23m 33, 47, 35, 28, 58, 32, 46, 36, 37, 58, 55, 54, 38, 40, 32…\n",
      "$ default     \u001b[3m\u001b[90m<dbl>\u001b[39m\u001b[23m 0, 0, 0, 0, 0, 0, 0, 0, 0, 0, 0, 0, 0, 0, 0, 0, 0, 0, 0, 0…\n",
      "$ balance     \u001b[3m\u001b[90m<int>\u001b[39m\u001b[23m 2, 1506, 231, 447, 71, 23, -246, 265, 0, -364, 0, 1291, 24…\n",
      "$ housing     \u001b[3m\u001b[90m<dbl>\u001b[39m\u001b[23m 1, 1, 1, 1, 1, 1, 1, 1, 1, 1, 0, 1, 0, 1, 1, 1, 1, 1, 0, 1…\n",
      "$ loan        \u001b[3m\u001b[90m<dbl>\u001b[39m\u001b[23m 1, 0, 0, 1, 0, 1, 0, 1, 0, 0, 0, 0, 1, 0, 0, 0, 0, 0, 0, 1…\n",
      "$ day         \u001b[3m\u001b[90m<int>\u001b[39m\u001b[23m 5, 5, 5, 5, 5, 5, 5, 5, 5, 5, 5, 5, 5, 5, 5, 5, 5, 5, 5, 5…\n",
      "$ duration    \u001b[3m\u001b[90m<int>\u001b[39m\u001b[23m 76, 92, 139, 217, 71, 160, 255, 348, 137, 355, 160, 266, 1…\n",
      "$ campaign    \u001b[3m\u001b[90m<int>\u001b[39m\u001b[23m 1, 1, 1, 1, 1, 1, 2, 1, 1, 1, 1, 1, 1, 1, 1, 1, 1, 1, 1, 1…\n",
      "$ pdays       \u001b[3m\u001b[90m<int>\u001b[39m\u001b[23m -1, -1, -1, -1, -1, -1, -1, -1, -1, -1, -1, -1, -1, -1, -1…\n",
      "$ previous    \u001b[3m\u001b[90m<int>\u001b[39m\u001b[23m 0, 0, 0, 0, 0, 0, 0, 0, 0, 0, 0, 0, 0, 0, 0, 0, 0, 0, 0, 0…\n",
      "$ ID          \u001b[3m\u001b[90m<int>\u001b[39m\u001b[23m 3, 4, 6, 7, 14, 23, 29, 30, 40, 47, 49, 51, 56, 59, 61, 63…\n",
      "$ job_1       \u001b[3m\u001b[90m<dbl>\u001b[39m\u001b[23m 0, 0, 0, 0, 1, 0, 0, 1, 0, 1, 1, 0, 0, 0, 0, 0, 0, 0, 0, 0…\n",
      "$ job_2       \u001b[3m\u001b[90m<dbl>\u001b[39m\u001b[23m 1, 0, 0, 0, 0, 0, 0, 0, 0, 0, 0, 0, 1, 0, 0, 0, 1, 0, 0, 0…\n",
      "$ job_3       \u001b[3m\u001b[90m<dbl>\u001b[39m\u001b[23m 0, 0, 1, 1, 0, 0, 1, 0, 0, 0, 0, 0, 0, 0, 0, 0, 0, 0, 0, 1…\n",
      "$ job_4       \u001b[3m\u001b[90m<dbl>\u001b[39m\u001b[23m 0, 0, 0, 0, 0, 0, 0, 0, 0, 0, 0, 0, 0, 0, 0, 0, 0, 0, 0, 0…\n",
      "$ job_5       \u001b[3m\u001b[90m<dbl>\u001b[39m\u001b[23m 0, 0, 0, 0, 0, 0, 0, 0, 0, 0, 0, 0, 0, 0, 0, 0, 0, 0, 1, 0…\n",
      "$ job_6       \u001b[3m\u001b[90m<dbl>\u001b[39m\u001b[23m 0, 0, 0, 0, 0, 0, 0, 0, 0, 0, 0, 0, 0, 0, 0, 0, 0, 0, 0, 0…\n",
      "$ divorced    \u001b[3m\u001b[90m<dbl>\u001b[39m\u001b[23m 0, 0, 0, 0, 0, 0, 0, 0, 0, 0, 1, 0, 0, 0, 0, 0, 0, 0, 0, 0…\n",
      "$ single      \u001b[3m\u001b[90m<dbl>\u001b[39m\u001b[23m 0, 0, 0, 1, 0, 1, 1, 1, 1, 0, 0, 0, 1, 1, 0, 0, 0, 0, 0, 0…\n",
      "$ edu_primary \u001b[3m\u001b[90m<dbl>\u001b[39m\u001b[23m 0, 0, 0, 0, 0, 1, 0, 0, 0, 0, 0, 0, 0, 0, 0, 1, 0, 0, 0, 0…\n",
      "$ edu_sec     \u001b[3m\u001b[90m<dbl>\u001b[39m\u001b[23m 1, 0, 0, 0, 0, 0, 1, 1, 1, 0, 1, 1, 0, 0, 0, 0, 1, 0, 0, 1…\n",
      "$ edu_tert    \u001b[3m\u001b[90m<dbl>\u001b[39m\u001b[23m 0, 0, 1, 1, 0, 0, 0, 0, 0, 1, 0, 0, 1, 0, 1, 0, 0, 0, 1, 0…\n",
      "$ co_cellular \u001b[3m\u001b[90m<dbl>\u001b[39m\u001b[23m 0, 0, 0, 0, 0, 0, 0, 0, 0, 0, 0, 0, 0, 0, 0, 0, 0, 0, 0, 0…\n",
      "$ co_tel      \u001b[3m\u001b[90m<dbl>\u001b[39m\u001b[23m 0, 0, 0, 0, 0, 0, 0, 0, 0, 0, 0, 0, 0, 0, 0, 0, 0, 0, 0, 0…\n",
      "$ month_1     \u001b[3m\u001b[90m<dbl>\u001b[39m\u001b[23m 0, 0, 0, 0, 0, 0, 0, 0, 0, 0, 0, 0, 0, 0, 0, 0, 0, 0, 0, 0…\n",
      "$ month_2     \u001b[3m\u001b[90m<dbl>\u001b[39m\u001b[23m 0, 0, 0, 0, 0, 0, 0, 0, 0, 0, 0, 0, 0, 0, 0, 0, 0, 0, 0, 0…\n",
      "$ month_3     \u001b[3m\u001b[90m<dbl>\u001b[39m\u001b[23m 0, 0, 0, 0, 0, 0, 0, 0, 0, 0, 0, 0, 0, 0, 0, 0, 0, 0, 0, 0…\n",
      "$ month_4     \u001b[3m\u001b[90m<dbl>\u001b[39m\u001b[23m 0, 0, 0, 0, 0, 0, 0, 0, 0, 0, 0, 0, 0, 0, 0, 0, 0, 0, 0, 0…\n",
      "$ month_5     \u001b[3m\u001b[90m<dbl>\u001b[39m\u001b[23m 0, 0, 0, 0, 0, 0, 0, 0, 0, 0, 0, 0, 0, 0, 0, 0, 0, 0, 0, 0…\n",
      "$ month_6     \u001b[3m\u001b[90m<dbl>\u001b[39m\u001b[23m 0, 0, 0, 0, 0, 0, 0, 0, 0, 0, 0, 0, 0, 0, 0, 0, 0, 0, 0, 0…\n",
      "$ poc_success \u001b[3m\u001b[90m<dbl>\u001b[39m\u001b[23m 0, 0, 0, 0, 0, 0, 0, 0, 0, 0, 0, 0, 0, 0, 0, 0, 0, 0, 0, 0…\n",
      "$ poc_failure \u001b[3m\u001b[90m<dbl>\u001b[39m\u001b[23m 0, 0, 0, 0, 0, 0, 0, 0, 0, 0, 0, 0, 0, 0, 0, 0, 0, 0, 0, 0…\n",
      "$ poc_other   \u001b[3m\u001b[90m<dbl>\u001b[39m\u001b[23m 0, 0, 0, 0, 0, 0, 0, 0, 0, 0, 0, 0, 0, 0, 0, 0, 0, 0, 0, 0…\n"
     ]
    }
   ],
   "source": [
    "glimpse(test)"
   ]
  },
  {
   "cell_type": "markdown",
   "id": "0a8433d1",
   "metadata": {},
   "source": [
    "#### now lets divide the train dataset in the ratio 75:25."
   ]
  },
  {
   "cell_type": "code",
   "execution_count": 48,
   "id": "e824a0f9",
   "metadata": {},
   "outputs": [],
   "source": [
    "set.seed(5)\n",
    "s=sample(1:nrow(train),0.75*nrow(train))\n",
    "train_75=train[s,] #23735,34\n",
    "test_25=train[-s,]#7912,34"
   ]
  },
  {
   "cell_type": "markdown",
   "id": "160fb65d",
   "metadata": {},
   "source": [
    "### 3.Model Building"
   ]
  },
  {
   "cell_type": "markdown",
   "id": "7f0beefd",
   "metadata": {},
   "source": [
    "I will use train for logistic regression model building and use train_25 to test the performance of the model thus built.\n",
    "\n",
    "Lets build logistic regression model on train dataset."
   ]
  },
  {
   "cell_type": "code",
   "execution_count": 50,
   "id": "cf261eff",
   "metadata": {},
   "outputs": [
    {
     "name": "stderr",
     "output_type": "stream",
     "text": [
      "Installing package into 'C:/Users/HomePC/AppData/Local/R/win-library/4.4'\n",
      "(as 'lib' is unspecified)\n",
      "\n",
      "also installing the dependencies 'backports', 'tidyr', 'colorspace', 'broom', 'numDeriv', 'SparseM', 'MatrixModels', 'minqa', 'nloptr', 'RcppEigen', 'farver', 'labeling', 'munsell', 'RColorBrewer', 'viridisLite', 'carData', 'abind', 'pbkrtest', 'quantreg', 'lme4', 'scales'\n",
      "\n",
      "\n"
     ]
    },
    {
     "name": "stdout",
     "output_type": "stream",
     "text": [
      "\n",
      "  There is a binary version available but the source version is later:\n",
      "          binary source needs_compilation\n",
      "backports  1.4.1  1.5.0              TRUE\n",
      "\n",
      "  Binaries will be installed\n",
      "package 'backports' successfully unpacked and MD5 sums checked\n",
      "package 'tidyr' successfully unpacked and MD5 sums checked\n",
      "package 'colorspace' successfully unpacked and MD5 sums checked\n",
      "package 'broom' successfully unpacked and MD5 sums checked\n",
      "package 'numDeriv' successfully unpacked and MD5 sums checked\n",
      "package 'SparseM' successfully unpacked and MD5 sums checked\n",
      "package 'MatrixModels' successfully unpacked and MD5 sums checked\n",
      "package 'minqa' successfully unpacked and MD5 sums checked\n",
      "package 'nloptr' successfully unpacked and MD5 sums checked\n",
      "package 'RcppEigen' successfully unpacked and MD5 sums checked\n",
      "package 'farver' successfully unpacked and MD5 sums checked\n",
      "package 'labeling' successfully unpacked and MD5 sums checked\n",
      "package 'munsell' successfully unpacked and MD5 sums checked\n",
      "package 'RColorBrewer' successfully unpacked and MD5 sums checked\n",
      "package 'viridisLite' successfully unpacked and MD5 sums checked\n",
      "package 'carData' successfully unpacked and MD5 sums checked\n",
      "package 'abind' successfully unpacked and MD5 sums checked\n",
      "package 'pbkrtest' successfully unpacked and MD5 sums checked\n",
      "package 'quantreg' successfully unpacked and MD5 sums checked\n",
      "package 'lme4' successfully unpacked and MD5 sums checked\n",
      "package 'scales' successfully unpacked and MD5 sums checked\n",
      "package 'car' successfully unpacked and MD5 sums checked\n",
      "\n",
      "The downloaded binary packages are in\n",
      "\tC:\\Users\\HomePC\\AppData\\Local\\Temp\\RtmpMXhJFu\\downloaded_packages\n"
     ]
    }
   ],
   "source": [
    "install.packages(\"car\")"
   ]
  },
  {
   "cell_type": "code",
   "execution_count": 51,
   "id": "01d22272",
   "metadata": {},
   "outputs": [
    {
     "name": "stderr",
     "output_type": "stream",
     "text": [
      "Loading required package: carData\n",
      "\n",
      "\n",
      "Attaching package: 'car'\n",
      "\n",
      "\n",
      "The following object is masked from 'package:dplyr':\n",
      "\n",
      "    recode\n",
      "\n",
      "\n"
     ]
    }
   ],
   "source": [
    "library(car)"
   ]
  },
  {
   "cell_type": "code",
   "execution_count": 53,
   "id": "0a8bc24c",
   "metadata": {},
   "outputs": [
    {
     "data": {
      "text/plain": [
       "\n",
       "Call:\n",
       "lm(formula = y ~ ., data = train)\n",
       "\n",
       "Residuals:\n",
       "     Min       1Q   Median       3Q      Max \n",
       "-2.06429 -0.11770 -0.03423  0.03642  1.04121 \n",
       "\n",
       "Coefficients:\n",
       "              Estimate Std. Error t value Pr(>|t|)    \n",
       "(Intercept) -1.505e-01  1.283e-02 -11.729  < 2e-16 ***\n",
       "age          3.015e-04  1.837e-04   1.641 0.100800    \n",
       "default      4.211e-03  1.143e-02   0.368 0.712674    \n",
       "balance      1.054e-06  5.003e-07   2.106 0.035204 *  \n",
       "housing     -3.438e-02  3.555e-03  -9.672  < 2e-16 ***\n",
       "loan        -1.291e-02  4.153e-03  -3.110 0.001874 ** \n",
       "day          4.884e-04  1.926e-04   2.536 0.011233 *  \n",
       "duration     4.797e-04  5.887e-06  81.488  < 2e-16 ***\n",
       "campaign    -2.866e-04  5.015e-04  -0.571 0.567727    \n",
       "pdays       -7.456e-05  3.220e-05  -2.316 0.020582 *  \n",
       "previous     4.162e-04  7.179e-04   0.580 0.562084    \n",
       "ID           7.404e-06  2.186e-07  33.867  < 2e-16 ***\n",
       "job_1        3.799e-03  4.439e-03   0.856 0.392043    \n",
       "job_2       -4.361e-03  4.689e-03  -0.930 0.352264    \n",
       "job_3        1.029e-02  5.398e-03   1.907 0.056592 .  \n",
       "job_4        5.558e-02  1.129e-02   4.924 8.52e-07 ***\n",
       "job_5        2.802e-02  8.136e-03   3.444 0.000574 ***\n",
       "job_6       -4.295e-03  9.344e-03  -0.460 0.645792    \n",
       "divorced     1.394e-02  4.858e-03   2.870 0.004103 ** \n",
       "single       1.722e-02  3.834e-03   4.492 7.08e-06 ***\n",
       "edu_primary -6.400e-03  8.419e-03  -0.760 0.447196    \n",
       "edu_sec      4.772e-03  7.748e-03   0.616 0.538009    \n",
       "edu_tert     1.072e-02  8.298e-03   1.292 0.196520    \n",
       "co_cellular -9.688e-02  5.808e-03 -16.682  < 2e-16 ***\n",
       "co_tel      -1.092e-01  8.066e-03 -13.535  < 2e-16 ***\n",
       "month_1      2.368e-02  4.220e-03   5.610 2.04e-08 ***\n",
       "month_2      1.007e-01  1.240e-02   8.115 5.03e-16 ***\n",
       "month_3      3.088e-01  1.525e-02  20.248  < 2e-16 ***\n",
       "month_4      1.630e-01  1.257e-02  12.967  < 2e-16 ***\n",
       "month_5      3.982e-02  6.821e-03   5.837 5.35e-09 ***\n",
       "month_6      3.573e-02  7.516e-03   4.754 2.00e-06 ***\n",
       "poc_success  3.651e-01  1.063e-02  34.353  < 2e-16 ***\n",
       "poc_failure -2.516e-02  9.567e-03  -2.630 0.008552 ** \n",
       "poc_other   -7.933e-03  1.110e-02  -0.715 0.474773    \n",
       "---\n",
       "Signif. codes:  0 '***' 0.001 '**' 0.01 '*' 0.05 '.' 0.1 ' ' 1\n",
       "\n",
       "Residual standard error: 0.2656 on 31613 degrees of freedom\n",
       "Multiple R-squared:  0.3205,\tAdjusted R-squared:  0.3198 \n",
       "F-statistic: 451.9 on 33 and 31613 DF,  p-value: < 2.2e-16\n"
      ]
     },
     "metadata": {},
     "output_type": "display_data"
    }
   ],
   "source": [
    "for_vif=lm(y~.,data=train)\n",
    "summary(for_vif)"
   ]
  },
  {
   "cell_type": "markdown",
   "id": "dd8bb553",
   "metadata": {},
   "source": [
    "In order to take care of multi collinearity,we remove variables whose VIF>5,as follows:\n",
    "\n"
   ]
  },
  {
   "cell_type": "code",
   "execution_count": 54,
   "id": "ab2ff5cf",
   "metadata": {},
   "outputs": [
    {
     "data": {
      "text/html": [
       "<style>\n",
       ".dl-inline {width: auto; margin:0; padding: 0}\n",
       ".dl-inline>dt, .dl-inline>dd {float: none; width: auto; display: inline-block}\n",
       ".dl-inline>dt::after {content: \":\\0020\"; padding-right: .5ex}\n",
       ".dl-inline>dt:not(:first-of-type) {padding-left: .5ex}\n",
       "</style><dl class=dl-inline><dt>edu_sec</dt><dd>6.72526290109606</dd><dt>edu_tert</dt><dd>6.37665267789354</dd><dt>pdays</dt><dd>4.65862432175225</dd><dt>edu_primary</dt><dd>4.09590249485325</dd><dt>poc_failure</dt><dd>3.92961608883674</dd></dl>\n"
      ],
      "text/latex": [
       "\\begin{description*}\n",
       "\\item[edu\\textbackslash{}\\_sec] 6.72526290109606\n",
       "\\item[edu\\textbackslash{}\\_tert] 6.37665267789354\n",
       "\\item[pdays] 4.65862432175225\n",
       "\\item[edu\\textbackslash{}\\_primary] 4.09590249485325\n",
       "\\item[poc\\textbackslash{}\\_failure] 3.92961608883674\n",
       "\\end{description*}\n"
      ],
      "text/markdown": [
       "edu_sec\n",
       ":   6.72526290109606edu_tert\n",
       ":   6.37665267789354pdays\n",
       ":   4.65862432175225edu_primary\n",
       ":   4.09590249485325poc_failure\n",
       ":   3.92961608883674\n",
       "\n"
      ],
      "text/plain": [
       "    edu_sec    edu_tert       pdays edu_primary poc_failure \n",
       "   6.725263    6.376653    4.658624    4.095902    3.929616 "
      ]
     },
     "metadata": {},
     "output_type": "display_data"
    }
   ],
   "source": [
    "t=vif(for_vif)\n",
    "sort(t,decreasing = T)[1:5]"
   ]
  },
  {
   "cell_type": "markdown",
   "id": "6706e48d",
   "metadata": {},
   "source": [
    "Removing variable edu_sec\n",
    "\n"
   ]
  },
  {
   "cell_type": "code",
   "execution_count": 55,
   "id": "7420eadd",
   "metadata": {},
   "outputs": [
    {
     "data": {
      "text/html": [
       "<style>\n",
       ".dl-inline {width: auto; margin:0; padding: 0}\n",
       ".dl-inline>dt, .dl-inline>dd {float: none; width: auto; display: inline-block}\n",
       ".dl-inline>dt::after {content: \":\\0020\"; padding-right: .5ex}\n",
       ".dl-inline>dt:not(:first-of-type) {padding-left: .5ex}\n",
       "</style><dl class=dl-inline><dt>pdays</dt><dd>4.65856480575815</dd><dt>poc_failure</dt><dd>3.92952473500649</dd><dt>ID</dt><dd>3.659703065233</dd><dt>co_cellular</dt><dd>3.45318736417315</dd><dt>poc_other</dt><dd>2.18606668826125</dd></dl>\n"
      ],
      "text/latex": [
       "\\begin{description*}\n",
       "\\item[pdays] 4.65856480575815\n",
       "\\item[poc\\textbackslash{}\\_failure] 3.92952473500649\n",
       "\\item[ID] 3.659703065233\n",
       "\\item[co\\textbackslash{}\\_cellular] 3.45318736417315\n",
       "\\item[poc\\textbackslash{}\\_other] 2.18606668826125\n",
       "\\end{description*}\n"
      ],
      "text/markdown": [
       "pdays\n",
       ":   4.65856480575815poc_failure\n",
       ":   3.92952473500649ID\n",
       ":   3.659703065233co_cellular\n",
       ":   3.45318736417315poc_other\n",
       ":   2.18606668826125\n",
       "\n"
      ],
      "text/plain": [
       "      pdays poc_failure          ID co_cellular   poc_other \n",
       "   4.658565    3.929525    3.659703    3.453187    2.186067 "
      ]
     },
     "metadata": {},
     "output_type": "display_data"
    }
   ],
   "source": [
    "for_vif=lm(y~.-edu_sec,data=train)\n",
    "t=vif(for_vif)\n",
    "sort(t,decreasing = T)[1:5]"
   ]
  },
  {
   "cell_type": "code",
   "execution_count": 56,
   "id": "e088635e",
   "metadata": {},
   "outputs": [
    {
     "data": {
      "text/plain": [
       "\n",
       "Call:\n",
       "lm(formula = y ~ . - edu_sec, data = train)\n",
       "\n",
       "Residuals:\n",
       "     Min       1Q   Median       3Q      Max \n",
       "-2.06369 -0.11762 -0.03423  0.03654  1.04150 \n",
       "\n",
       "Coefficients:\n",
       "              Estimate Std. Error t value Pr(>|t|)    \n",
       "(Intercept) -1.458e-01  1.027e-02 -14.198  < 2e-16 ***\n",
       "age          2.911e-04  1.829e-04   1.591 0.111552    \n",
       "default      4.193e-03  1.143e-02   0.367 0.713794    \n",
       "balance      1.054e-06  5.003e-07   2.107 0.035125 *  \n",
       "housing     -3.431e-02  3.553e-03  -9.656  < 2e-16 ***\n",
       "loan        -1.279e-02  4.148e-03  -3.083 0.002048 ** \n",
       "day          4.882e-04  1.926e-04   2.534 0.011271 *  \n",
       "duration     4.797e-04  5.887e-06  81.488  < 2e-16 ***\n",
       "campaign    -2.863e-04  5.015e-04  -0.571 0.568116    \n",
       "pdays       -7.464e-05  3.220e-05  -2.318 0.020460 *  \n",
       "previous     4.169e-04  7.179e-04   0.581 0.561378    \n",
       "ID           7.402e-06  2.186e-07  33.863  < 2e-16 ***\n",
       "job_1        3.789e-03  4.439e-03   0.854 0.393337    \n",
       "job_2       -4.341e-03  4.688e-03  -0.926 0.354497    \n",
       "job_3        1.016e-02  5.393e-03   1.884 0.059612 .  \n",
       "job_4        5.490e-02  1.123e-02   4.887 1.03e-06 ***\n",
       "job_5        2.817e-02  8.132e-03   3.464 0.000532 ***\n",
       "job_6       -4.206e-03  9.343e-03  -0.450 0.652607    \n",
       "divorced     1.404e-02  4.855e-03   2.891 0.003844 ** \n",
       "single       1.719e-02  3.834e-03   4.484 7.35e-06 ***\n",
       "edu_primary -1.078e-02  4.507e-03  -2.391 0.016789 *  \n",
       "edu_tert     6.368e-03  4.357e-03   1.462 0.143829    \n",
       "co_cellular -9.676e-02  5.804e-03 -16.671  < 2e-16 ***\n",
       "co_tel      -1.091e-01  8.066e-03 -13.528  < 2e-16 ***\n",
       "month_1      2.367e-02  4.220e-03   5.609 2.05e-08 ***\n",
       "month_2      1.006e-01  1.240e-02   8.109 5.31e-16 ***\n",
       "month_3      3.088e-01  1.525e-02  20.246  < 2e-16 ***\n",
       "month_4      1.630e-01  1.257e-02  12.964  < 2e-16 ***\n",
       "month_5      3.982e-02  6.821e-03   5.837 5.36e-09 ***\n",
       "month_6      3.572e-02  7.516e-03   4.752 2.02e-06 ***\n",
       "poc_success  3.651e-01  1.063e-02  34.356  < 2e-16 ***\n",
       "poc_failure -2.513e-02  9.567e-03  -2.627 0.008626 ** \n",
       "poc_other   -7.876e-03  1.110e-02  -0.710 0.477961    \n",
       "---\n",
       "Signif. codes:  0 '***' 0.001 '**' 0.01 '*' 0.05 '.' 0.1 ' ' 1\n",
       "\n",
       "Residual standard error: 0.2656 on 31614 degrees of freedom\n",
       "Multiple R-squared:  0.3205,\tAdjusted R-squared:  0.3198 \n",
       "F-statistic:   466 on 32 and 31614 DF,  p-value: < 2.2e-16\n"
      ]
     },
     "metadata": {},
     "output_type": "display_data"
    }
   ],
   "source": [
    "summary(for_vif)"
   ]
  },
  {
   "cell_type": "markdown",
   "id": "329a9c1a",
   "metadata": {},
   "source": [
    "Now lets remove edu-sec from train dataset"
   ]
  },
  {
   "cell_type": "code",
   "execution_count": 57,
   "id": "48780c39",
   "metadata": {},
   "outputs": [
    {
     "data": {
      "text/html": [
       "<style>\n",
       ".list-inline {list-style: none; margin:0; padding: 0}\n",
       ".list-inline>li {display: inline-block}\n",
       ".list-inline>li:not(:last-child)::after {content: \"\\00b7\"; padding: 0 .5ex}\n",
       "</style>\n",
       "<ol class=list-inline><li>'age'</li><li>'default'</li><li>'balance'</li><li>'housing'</li><li>'loan'</li><li>'day'</li><li>'duration'</li><li>'campaign'</li><li>'pdays'</li><li>'previous'</li><li>'ID'</li><li>'y'</li><li>'job_1'</li><li>'job_2'</li><li>'job_3'</li><li>'job_4'</li><li>'job_5'</li><li>'job_6'</li><li>'divorced'</li><li>'single'</li><li>'edu_primary'</li><li>'edu_sec'</li><li>'edu_tert'</li><li>'co_cellular'</li><li>'co_tel'</li><li>'month_1'</li><li>'month_2'</li><li>'month_3'</li><li>'month_4'</li><li>'month_5'</li><li>'month_6'</li><li>'poc_success'</li><li>'poc_failure'</li><li>'poc_other'</li></ol>\n"
      ],
      "text/latex": [
       "\\begin{enumerate*}\n",
       "\\item 'age'\n",
       "\\item 'default'\n",
       "\\item 'balance'\n",
       "\\item 'housing'\n",
       "\\item 'loan'\n",
       "\\item 'day'\n",
       "\\item 'duration'\n",
       "\\item 'campaign'\n",
       "\\item 'pdays'\n",
       "\\item 'previous'\n",
       "\\item 'ID'\n",
       "\\item 'y'\n",
       "\\item 'job\\_1'\n",
       "\\item 'job\\_2'\n",
       "\\item 'job\\_3'\n",
       "\\item 'job\\_4'\n",
       "\\item 'job\\_5'\n",
       "\\item 'job\\_6'\n",
       "\\item 'divorced'\n",
       "\\item 'single'\n",
       "\\item 'edu\\_primary'\n",
       "\\item 'edu\\_sec'\n",
       "\\item 'edu\\_tert'\n",
       "\\item 'co\\_cellular'\n",
       "\\item 'co\\_tel'\n",
       "\\item 'month\\_1'\n",
       "\\item 'month\\_2'\n",
       "\\item 'month\\_3'\n",
       "\\item 'month\\_4'\n",
       "\\item 'month\\_5'\n",
       "\\item 'month\\_6'\n",
       "\\item 'poc\\_success'\n",
       "\\item 'poc\\_failure'\n",
       "\\item 'poc\\_other'\n",
       "\\end{enumerate*}\n"
      ],
      "text/markdown": [
       "1. 'age'\n",
       "2. 'default'\n",
       "3. 'balance'\n",
       "4. 'housing'\n",
       "5. 'loan'\n",
       "6. 'day'\n",
       "7. 'duration'\n",
       "8. 'campaign'\n",
       "9. 'pdays'\n",
       "10. 'previous'\n",
       "11. 'ID'\n",
       "12. 'y'\n",
       "13. 'job_1'\n",
       "14. 'job_2'\n",
       "15. 'job_3'\n",
       "16. 'job_4'\n",
       "17. 'job_5'\n",
       "18. 'job_6'\n",
       "19. 'divorced'\n",
       "20. 'single'\n",
       "21. 'edu_primary'\n",
       "22. 'edu_sec'\n",
       "23. 'edu_tert'\n",
       "24. 'co_cellular'\n",
       "25. 'co_tel'\n",
       "26. 'month_1'\n",
       "27. 'month_2'\n",
       "28. 'month_3'\n",
       "29. 'month_4'\n",
       "30. 'month_5'\n",
       "31. 'month_6'\n",
       "32. 'poc_success'\n",
       "33. 'poc_failure'\n",
       "34. 'poc_other'\n",
       "\n",
       "\n"
      ],
      "text/plain": [
       " [1] \"age\"         \"default\"     \"balance\"     \"housing\"     \"loan\"       \n",
       " [6] \"day\"         \"duration\"    \"campaign\"    \"pdays\"       \"previous\"   \n",
       "[11] \"ID\"          \"y\"           \"job_1\"       \"job_2\"       \"job_3\"      \n",
       "[16] \"job_4\"       \"job_5\"       \"job_6\"       \"divorced\"    \"single\"     \n",
       "[21] \"edu_primary\" \"edu_sec\"     \"edu_tert\"    \"co_cellular\" \"co_tel\"     \n",
       "[26] \"month_1\"     \"month_2\"     \"month_3\"     \"month_4\"     \"month_5\"    \n",
       "[31] \"month_6\"     \"poc_success\" \"poc_failure\" \"poc_other\"  "
      ]
     },
     "metadata": {},
     "output_type": "display_data"
    }
   ],
   "source": [
    "colnames(train)"
   ]
  },
  {
   "cell_type": "code",
   "execution_count": 58,
   "id": "741db84c",
   "metadata": {},
   "outputs": [
    {
     "data": {
      "text/html": [
       "<style>\n",
       ".list-inline {list-style: none; margin:0; padding: 0}\n",
       ".list-inline>li {display: inline-block}\n",
       ".list-inline>li:not(:last-child)::after {content: \"\\00b7\"; padding: 0 .5ex}\n",
       "</style>\n",
       "<ol class=list-inline><li>'age'</li><li>'default'</li><li>'balance'</li><li>'housing'</li><li>'loan'</li><li>'day'</li><li>'duration'</li><li>'campaign'</li><li>'pdays'</li><li>'previous'</li><li>'ID'</li><li>'y'</li><li>'job_1'</li><li>'job_2'</li><li>'job_3'</li><li>'job_4'</li><li>'job_5'</li><li>'job_6'</li><li>'divorced'</li><li>'single'</li><li>'edu_primary'</li><li>'edu_tert'</li><li>'co_cellular'</li><li>'co_tel'</li><li>'month_1'</li><li>'month_2'</li><li>'month_3'</li><li>'month_4'</li><li>'month_5'</li><li>'month_6'</li><li>'poc_success'</li><li>'poc_failure'</li><li>'poc_other'</li></ol>\n"
      ],
      "text/latex": [
       "\\begin{enumerate*}\n",
       "\\item 'age'\n",
       "\\item 'default'\n",
       "\\item 'balance'\n",
       "\\item 'housing'\n",
       "\\item 'loan'\n",
       "\\item 'day'\n",
       "\\item 'duration'\n",
       "\\item 'campaign'\n",
       "\\item 'pdays'\n",
       "\\item 'previous'\n",
       "\\item 'ID'\n",
       "\\item 'y'\n",
       "\\item 'job\\_1'\n",
       "\\item 'job\\_2'\n",
       "\\item 'job\\_3'\n",
       "\\item 'job\\_4'\n",
       "\\item 'job\\_5'\n",
       "\\item 'job\\_6'\n",
       "\\item 'divorced'\n",
       "\\item 'single'\n",
       "\\item 'edu\\_primary'\n",
       "\\item 'edu\\_tert'\n",
       "\\item 'co\\_cellular'\n",
       "\\item 'co\\_tel'\n",
       "\\item 'month\\_1'\n",
       "\\item 'month\\_2'\n",
       "\\item 'month\\_3'\n",
       "\\item 'month\\_4'\n",
       "\\item 'month\\_5'\n",
       "\\item 'month\\_6'\n",
       "\\item 'poc\\_success'\n",
       "\\item 'poc\\_failure'\n",
       "\\item 'poc\\_other'\n",
       "\\end{enumerate*}\n"
      ],
      "text/markdown": [
       "1. 'age'\n",
       "2. 'default'\n",
       "3. 'balance'\n",
       "4. 'housing'\n",
       "5. 'loan'\n",
       "6. 'day'\n",
       "7. 'duration'\n",
       "8. 'campaign'\n",
       "9. 'pdays'\n",
       "10. 'previous'\n",
       "11. 'ID'\n",
       "12. 'y'\n",
       "13. 'job_1'\n",
       "14. 'job_2'\n",
       "15. 'job_3'\n",
       "16. 'job_4'\n",
       "17. 'job_5'\n",
       "18. 'job_6'\n",
       "19. 'divorced'\n",
       "20. 'single'\n",
       "21. 'edu_primary'\n",
       "22. 'edu_tert'\n",
       "23. 'co_cellular'\n",
       "24. 'co_tel'\n",
       "25. 'month_1'\n",
       "26. 'month_2'\n",
       "27. 'month_3'\n",
       "28. 'month_4'\n",
       "29. 'month_5'\n",
       "30. 'month_6'\n",
       "31. 'poc_success'\n",
       "32. 'poc_failure'\n",
       "33. 'poc_other'\n",
       "\n",
       "\n"
      ],
      "text/plain": [
       " [1] \"age\"         \"default\"     \"balance\"     \"housing\"     \"loan\"       \n",
       " [6] \"day\"         \"duration\"    \"campaign\"    \"pdays\"       \"previous\"   \n",
       "[11] \"ID\"          \"y\"           \"job_1\"       \"job_2\"       \"job_3\"      \n",
       "[16] \"job_4\"       \"job_5\"       \"job_6\"       \"divorced\"    \"single\"     \n",
       "[21] \"edu_primary\" \"edu_tert\"    \"co_cellular\" \"co_tel\"      \"month_1\"    \n",
       "[26] \"month_2\"     \"month_3\"     \"month_4\"     \"month_5\"     \"month_6\"    \n",
       "[31] \"poc_success\" \"poc_failure\" \"poc_other\"  "
      ]
     },
     "metadata": {},
     "output_type": "display_data"
    }
   ],
   "source": [
    "fit_train=train %>% \n",
    "  select(-edu_sec)\n",
    "#1 omited\n",
    "colnames(fit_train) #33var including target(y)"
   ]
  },
  {
   "cell_type": "markdown",
   "id": "00557e5f",
   "metadata": {},
   "source": [
    "Lets build model on fit_train dataset:"
   ]
  },
  {
   "cell_type": "code",
   "execution_count": 59,
   "id": "4db2c694",
   "metadata": {},
   "outputs": [
    {
     "data": {
      "text/plain": [
       "\n",
       "Call:\n",
       "glm(formula = y ~ ., family = \"binomial\", data = fit_train)\n",
       "\n",
       "Coefficients:\n",
       "              Estimate Std. Error z value Pr(>|z|)    \n",
       "(Intercept) -6.010e+00  1.709e-01 -35.168  < 2e-16 ***\n",
       "age          4.180e-05  2.644e-03   0.016 0.987386    \n",
       "default      8.625e-02  2.144e-01   0.402 0.687500    \n",
       "balance      1.259e-05  6.196e-06   2.032 0.042187 *  \n",
       "housing     -4.787e-01  5.322e-02  -8.996  < 2e-16 ***\n",
       "loan        -2.255e-01  7.184e-02  -3.139 0.001694 ** \n",
       "day          5.060e-03  2.797e-03   1.809 0.070439 .  \n",
       "duration     4.532e-03  8.160e-05  55.535  < 2e-16 ***\n",
       "campaign    -5.043e-02  1.200e-02  -4.202 2.64e-05 ***\n",
       "pdays       -2.180e-04  3.477e-04  -0.627 0.530631    \n",
       "previous     3.051e-03  7.611e-03   0.401 0.688524    \n",
       "ID           1.008e-04  3.054e-06  32.991  < 2e-16 ***\n",
       "job_1        4.729e-02  6.733e-02   0.702 0.482426    \n",
       "job_2       -1.003e-01  7.675e-02  -1.307 0.191191    \n",
       "job_3        1.267e-01  7.742e-02   1.637 0.101638    \n",
       "job_4        2.036e-01  1.211e-01   1.681 0.092807 .  \n",
       "job_5        1.966e-01  1.100e-01   1.787 0.073887 .  \n",
       "job_6       -1.221e-01  1.309e-01  -0.933 0.350734    \n",
       "divorced     2.563e-01  7.198e-02   3.561 0.000369 ***\n",
       "single       2.173e-01  5.616e-02   3.869 0.000109 ***\n",
       "edu_primary -2.708e-01  7.517e-02  -3.603 0.000315 ***\n",
       "edu_tert     7.046e-02  6.031e-02   1.168 0.242691    \n",
       "co_cellular -8.455e-01  8.821e-02  -9.586  < 2e-16 ***\n",
       "co_tel      -1.047e+00  1.227e-01  -8.530  < 2e-16 ***\n",
       "month_1      4.834e-01  6.624e-02   7.298 2.92e-13 ***\n",
       "month_2      5.866e-01  1.197e-01   4.902 9.49e-07 ***\n",
       "month_3      2.151e+00  1.420e-01  15.148  < 2e-16 ***\n",
       "month_4      1.014e+00  1.217e-01   8.334  < 2e-16 ***\n",
       "month_5      6.524e-01  8.433e-02   7.736 1.02e-14 ***\n",
       "month_6      6.471e-01  9.788e-02   6.611 3.81e-11 ***\n",
       "poc_success  1.561e+00  1.019e-01  15.323  < 2e-16 ***\n",
       "poc_failure -3.769e-01  1.087e-01  -3.468 0.000524 ***\n",
       "poc_other   -2.204e-01  1.256e-01  -1.755 0.079330 .  \n",
       "---\n",
       "Signif. codes:  0 '***' 0.001 '**' 0.01 '*' 0.05 '.' 0.1 ' ' 1\n",
       "\n",
       "(Dispersion parameter for binomial family taken to be 1)\n",
       "\n",
       "    Null deviance: 22913  on 31646  degrees of freedom\n",
       "Residual deviance: 14282  on 31614  degrees of freedom\n",
       "AIC: 14348\n",
       "\n",
       "Number of Fisher Scoring iterations: 6\n"
      ]
     },
     "metadata": {},
     "output_type": "display_data"
    }
   ],
   "source": [
    "fit=glm(y~.,family = \"binomial\",data=fit_train) #32 predictor var\n",
    "summary(fit) #we get aic:14348"
   ]
  },
  {
   "cell_type": "markdown",
   "id": "8cbdfcee",
   "metadata": {},
   "source": [
    "Now lets remove all variables whose p value is >0.05 using step function."
   ]
  },
  {
   "cell_type": "code",
   "execution_count": 60,
   "id": "dcc4f33e",
   "metadata": {},
   "outputs": [
    {
     "name": "stdout",
     "output_type": "stream",
     "text": [
      "Start:  AIC=14348.09\n",
      "y ~ age + default + balance + housing + loan + day + duration + \n",
      "    campaign + pdays + previous + ID + job_1 + job_2 + job_3 + \n",
      "    job_4 + job_5 + job_6 + divorced + single + edu_primary + \n",
      "    edu_tert + co_cellular + co_tel + month_1 + month_2 + month_3 + \n",
      "    month_4 + month_5 + month_6 + poc_success + poc_failure + \n",
      "    poc_other\n",
      "\n",
      "              Df Deviance   AIC\n",
      "- age          1    14282 14346\n",
      "- previous     1    14282 14346\n",
      "- default      1    14282 14346\n",
      "- pdays        1    14282 14346\n",
      "- job_1        1    14283 14347\n",
      "- job_6        1    14283 14347\n",
      "- edu_tert     1    14284 14348\n",
      "- job_2        1    14284 14348\n",
      "<none>              14282 14348\n",
      "- job_3        1    14285 14349\n",
      "- job_4        1    14285 14349\n",
      "- poc_other    1    14285 14349\n",
      "- job_5        1    14285 14349\n",
      "- day          1    14285 14349\n",
      "- balance      1    14286 14350\n",
      "- loan         1    14292 14356\n",
      "- poc_failure  1    14294 14358\n",
      "- divorced     1    14294 14358\n",
      "- edu_primary  1    14295 14359\n",
      "- single       1    14297 14361\n",
      "- campaign     1    14302 14366\n",
      "- month_2      1    14306 14370\n",
      "- month_6      1    14325 14389\n",
      "- month_1      1    14336 14400\n",
      "- month_5      1    14340 14404\n",
      "- month_4      1    14350 14414\n",
      "- co_tel       1    14357 14421\n",
      "- housing      1    14364 14428\n",
      "- co_cellular  1    14370 14434\n",
      "- month_3      1    14500 14564\n",
      "- poc_success  1    14524 14588\n",
      "- ID           1    15382 15446\n",
      "- duration     1    18490 18554\n",
      "\n",
      "Step:  AIC=14346.09\n",
      "y ~ default + balance + housing + loan + day + duration + campaign + \n",
      "    pdays + previous + ID + job_1 + job_2 + job_3 + job_4 + job_5 + \n",
      "    job_6 + divorced + single + edu_primary + edu_tert + co_cellular + \n",
      "    co_tel + month_1 + month_2 + month_3 + month_4 + month_5 + \n",
      "    month_6 + poc_success + poc_failure + poc_other\n",
      "\n",
      "              Df Deviance   AIC\n",
      "- previous     1    14282 14344\n",
      "- default      1    14282 14344\n",
      "- pdays        1    14282 14344\n",
      "- job_1        1    14283 14345\n",
      "- job_6        1    14283 14345\n",
      "- edu_tert     1    14284 14346\n",
      "- job_2        1    14284 14346\n",
      "<none>              14282 14346\n",
      "- job_3        1    14285 14347\n",
      "- job_4        1    14285 14347\n",
      "- poc_other    1    14285 14347\n",
      "- day          1    14285 14347\n",
      "- balance      1    14286 14348\n",
      "- job_5        1    14286 14348\n",
      "- loan         1    14292 14354\n",
      "- poc_failure  1    14294 14356\n",
      "- divorced     1    14295 14357\n",
      "- edu_primary  1    14296 14358\n",
      "- single       1    14300 14362\n",
      "- campaign     1    14302 14364\n",
      "- month_2      1    14306 14368\n",
      "- month_6      1    14325 14387\n",
      "- month_1      1    14336 14398\n",
      "- month_5      1    14340 14402\n",
      "- month_4      1    14350 14412\n",
      "- co_tel       1    14358 14420\n",
      "- housing      1    14365 14427\n",
      "- co_cellular  1    14370 14432\n",
      "- month_3      1    14501 14563\n",
      "- poc_success  1    14524 14586\n",
      "- ID           1    15383 15445\n",
      "- duration     1    18491 18553\n",
      "\n",
      "Step:  AIC=14344.23\n",
      "y ~ default + balance + housing + loan + day + duration + campaign + \n",
      "    pdays + ID + job_1 + job_2 + job_3 + job_4 + job_5 + job_6 + \n",
      "    divorced + single + edu_primary + edu_tert + co_cellular + \n",
      "    co_tel + month_1 + month_2 + month_3 + month_4 + month_5 + \n",
      "    month_6 + poc_success + poc_failure + poc_other\n",
      "\n",
      "              Df Deviance   AIC\n",
      "- default      1    14282 14342\n",
      "- pdays        1    14283 14343\n",
      "- job_1        1    14283 14343\n",
      "- job_6        1    14283 14343\n",
      "- edu_tert     1    14284 14344\n",
      "- job_2        1    14284 14344\n",
      "<none>              14282 14344\n",
      "- job_3        1    14285 14345\n",
      "- job_4        1    14285 14345\n",
      "- poc_other    1    14285 14345\n",
      "- day          1    14286 14346\n",
      "- balance      1    14286 14346\n",
      "- job_5        1    14286 14346\n",
      "- loan         1    14292 14352\n",
      "- poc_failure  1    14294 14354\n",
      "- divorced     1    14295 14355\n",
      "- edu_primary  1    14296 14356\n",
      "- single       1    14300 14360\n",
      "- campaign     1    14302 14362\n",
      "- month_2      1    14306 14366\n",
      "- month_6      1    14325 14385\n",
      "- month_1      1    14337 14397\n",
      "- month_5      1    14341 14401\n",
      "- month_4      1    14350 14410\n",
      "- co_tel       1    14358 14418\n",
      "- housing      1    14365 14425\n",
      "- co_cellular  1    14370 14430\n",
      "- month_3      1    14501 14561\n",
      "- poc_success  1    14542 14602\n",
      "- ID           1    15384 15444\n",
      "- duration     1    18491 18551\n",
      "\n",
      "Step:  AIC=14342.39\n",
      "y ~ balance + housing + loan + day + duration + campaign + pdays + \n",
      "    ID + job_1 + job_2 + job_3 + job_4 + job_5 + job_6 + divorced + \n",
      "    single + edu_primary + edu_tert + co_cellular + co_tel + \n",
      "    month_1 + month_2 + month_3 + month_4 + month_5 + month_6 + \n",
      "    poc_success + poc_failure + poc_other\n",
      "\n",
      "              Df Deviance   AIC\n",
      "- pdays        1    14283 14341\n",
      "- job_1        1    14283 14341\n",
      "- job_6        1    14283 14341\n",
      "- edu_tert     1    14284 14342\n",
      "- job_2        1    14284 14342\n",
      "<none>              14282 14342\n",
      "- job_3        1    14285 14343\n",
      "- job_4        1    14285 14343\n",
      "- poc_other    1    14285 14343\n",
      "- day          1    14286 14344\n",
      "- balance      1    14286 14344\n",
      "- job_5        1    14287 14345\n",
      "- loan         1    14292 14350\n",
      "- poc_failure  1    14295 14353\n",
      "- divorced     1    14295 14353\n",
      "- edu_primary  1    14296 14354\n",
      "- single       1    14300 14358\n",
      "- campaign     1    14302 14360\n",
      "- month_2      1    14306 14364\n",
      "- month_6      1    14325 14383\n",
      "- month_1      1    14337 14395\n",
      "- month_5      1    14341 14399\n",
      "- month_4      1    14350 14408\n",
      "- co_tel       1    14358 14416\n",
      "- housing      1    14365 14423\n",
      "- co_cellular  1    14370 14428\n",
      "- month_3      1    14501 14559\n",
      "- poc_success  1    14542 14600\n",
      "- ID           1    15385 15443\n",
      "- duration     1    18491 18549\n",
      "\n",
      "Step:  AIC=14340.79\n",
      "y ~ balance + housing + loan + day + duration + campaign + ID + \n",
      "    job_1 + job_2 + job_3 + job_4 + job_5 + job_6 + divorced + \n",
      "    single + edu_primary + edu_tert + co_cellular + co_tel + \n",
      "    month_1 + month_2 + month_3 + month_4 + month_5 + month_6 + \n",
      "    poc_success + poc_failure + poc_other\n",
      "\n",
      "              Df Deviance   AIC\n",
      "- job_1        1    14283 14339\n",
      "- job_6        1    14284 14340\n",
      "- edu_tert     1    14284 14340\n",
      "- job_2        1    14284 14340\n",
      "<none>              14283 14341\n",
      "- job_3        1    14286 14342\n",
      "- job_4        1    14286 14342\n",
      "- day          1    14286 14342\n",
      "- balance      1    14287 14343\n",
      "- job_5        1    14287 14343\n",
      "- poc_other    1    14290 14346\n",
      "- loan         1    14293 14349\n",
      "- divorced     1    14295 14351\n",
      "- edu_primary  1    14296 14352\n",
      "- single       1    14301 14357\n",
      "- campaign     1    14302 14358\n",
      "- month_2      1    14306 14362\n",
      "- poc_failure  1    14321 14377\n",
      "- month_6      1    14326 14382\n",
      "- month_1      1    14338 14394\n",
      "- month_5      1    14341 14397\n",
      "- month_4      1    14352 14408\n",
      "- co_tel       1    14358 14414\n",
      "- housing      1    14367 14423\n",
      "- co_cellular  1    14370 14426\n",
      "- month_3      1    14502 14558\n",
      "- poc_success  1    14645 14701\n",
      "- ID           1    15386 15442\n",
      "- duration     1    18492 18548\n",
      "\n",
      "Step:  AIC=14339.32\n",
      "y ~ balance + housing + loan + day + duration + campaign + ID + \n",
      "    job_2 + job_3 + job_4 + job_5 + job_6 + divorced + single + \n",
      "    edu_primary + edu_tert + co_cellular + co_tel + month_1 + \n",
      "    month_2 + month_3 + month_4 + month_5 + month_6 + poc_success + \n",
      "    poc_failure + poc_other\n",
      "\n",
      "              Df Deviance   AIC\n",
      "- job_6        1    14285 14339\n",
      "- edu_tert     1    14285 14339\n",
      "<none>              14283 14339\n",
      "- job_3        1    14286 14340\n",
      "- job_4        1    14286 14340\n",
      "- job_2        1    14286 14340\n",
      "- day          1    14287 14341\n",
      "- job_5        1    14287 14341\n",
      "- balance      1    14287 14341\n",
      "- poc_other    1    14291 14345\n",
      "- loan         1    14294 14348\n",
      "- divorced     1    14296 14350\n",
      "- edu_primary  1    14298 14352\n",
      "- single       1    14301 14355\n",
      "- campaign     1    14303 14357\n",
      "- month_2      1    14307 14361\n",
      "- poc_failure  1    14321 14375\n",
      "- month_6      1    14327 14381\n",
      "- month_1      1    14340 14394\n",
      "- month_5      1    14342 14396\n",
      "- month_4      1    14352 14406\n",
      "- co_tel       1    14358 14412\n",
      "- housing      1    14369 14423\n",
      "- co_cellular  1    14370 14424\n",
      "- month_3      1    14503 14557\n",
      "- poc_success  1    14646 14700\n",
      "- ID           1    15386 15440\n",
      "- duration     1    18494 18548\n",
      "\n",
      "Step:  AIC=14338.63\n",
      "y ~ balance + housing + loan + day + duration + campaign + ID + \n",
      "    job_2 + job_3 + job_4 + job_5 + divorced + single + edu_primary + \n",
      "    edu_tert + co_cellular + co_tel + month_1 + month_2 + month_3 + \n",
      "    month_4 + month_5 + month_6 + poc_success + poc_failure + \n",
      "    poc_other\n",
      "\n",
      "              Df Deviance   AIC\n",
      "- edu_tert     1    14286 14338\n",
      "<none>              14285 14339\n",
      "- job_2        1    14287 14339\n",
      "- job_3        1    14287 14339\n",
      "- job_4        1    14288 14340\n",
      "- day          1    14288 14340\n",
      "- balance      1    14289 14341\n",
      "- job_5        1    14289 14341\n",
      "- poc_other    1    14292 14344\n",
      "- loan         1    14295 14347\n",
      "- divorced     1    14297 14349\n",
      "- edu_primary  1    14300 14352\n",
      "- single       1    14302 14354\n",
      "- campaign     1    14304 14356\n",
      "- month_2      1    14308 14360\n",
      "- poc_failure  1    14322 14374\n",
      "- month_6      1    14327 14379\n",
      "- month_1      1    14340 14392\n",
      "- month_5      1    14343 14395\n",
      "- month_4      1    14354 14406\n",
      "- co_tel       1    14360 14412\n",
      "- housing      1    14369 14421\n",
      "- co_cellular  1    14371 14423\n",
      "- month_3      1    14504 14556\n",
      "- poc_success  1    14647 14699\n",
      "- ID           1    15386 15438\n",
      "- duration     1    18494 18546\n",
      "\n",
      "Step:  AIC=14338.38\n",
      "y ~ balance + housing + loan + day + duration + campaign + ID + \n",
      "    job_2 + job_3 + job_4 + job_5 + divorced + single + edu_primary + \n",
      "    co_cellular + co_tel + month_1 + month_2 + month_3 + month_4 + \n",
      "    month_5 + month_6 + poc_success + poc_failure + poc_other\n",
      "\n",
      "              Df Deviance   AIC\n",
      "<none>              14286 14338\n",
      "- job_2        1    14289 14339\n",
      "- job_4        1    14289 14339\n",
      "- day          1    14290 14340\n",
      "- balance      1    14291 14341\n",
      "- job_5        1    14291 14341\n",
      "- poc_other    1    14294 14344\n",
      "- job_3        1    14294 14344\n",
      "- loan         1    14296 14346\n",
      "- divorced     1    14299 14349\n",
      "- edu_primary  1    14304 14354\n",
      "- campaign     1    14305 14355\n",
      "- single       1    14306 14356\n",
      "- month_2      1    14310 14360\n",
      "- poc_failure  1    14324 14374\n",
      "- month_6      1    14329 14379\n",
      "- month_1      1    14343 14393\n",
      "- month_5      1    14345 14395\n",
      "- month_4      1    14356 14406\n",
      "- co_tel       1    14362 14412\n",
      "- housing      1    14372 14422\n",
      "- co_cellular  1    14373 14423\n",
      "- month_3      1    14507 14557\n",
      "- poc_success  1    14650 14700\n",
      "- ID           1    15390 15440\n",
      "- duration     1    18495 18545\n"
     ]
    }
   ],
   "source": [
    "fit=step(fit)"
   ]
  },
  {
   "cell_type": "markdown",
   "id": "3bb64860",
   "metadata": {},
   "source": [
    "lets check the remaining significant variables"
   ]
  },
  {
   "cell_type": "code",
   "execution_count": 61,
   "id": "e4556d66",
   "metadata": {},
   "outputs": [
    {
     "data": {
      "text/html": [
       "<style>\n",
       ".list-inline {list-style: none; margin:0; padding: 0}\n",
       ".list-inline>li {display: inline-block}\n",
       ".list-inline>li:not(:last-child)::after {content: \"\\00b7\"; padding: 0 .5ex}\n",
       "</style>\n",
       "<ol class=list-inline><li>'(Intercept)'</li><li>'balance'</li><li>'housing'</li><li>'loan'</li><li>'day'</li><li>'duration'</li><li>'campaign'</li><li>'ID'</li><li>'job_2'</li><li>'job_3'</li><li>'job_4'</li><li>'job_5'</li><li>'divorced'</li><li>'single'</li><li>'edu_primary'</li><li>'co_cellular'</li><li>'co_tel'</li><li>'month_1'</li><li>'month_2'</li><li>'month_3'</li><li>'month_4'</li><li>'month_5'</li><li>'month_6'</li><li>'poc_success'</li><li>'poc_failure'</li><li>'poc_other'</li></ol>\n"
      ],
      "text/latex": [
       "\\begin{enumerate*}\n",
       "\\item '(Intercept)'\n",
       "\\item 'balance'\n",
       "\\item 'housing'\n",
       "\\item 'loan'\n",
       "\\item 'day'\n",
       "\\item 'duration'\n",
       "\\item 'campaign'\n",
       "\\item 'ID'\n",
       "\\item 'job\\_2'\n",
       "\\item 'job\\_3'\n",
       "\\item 'job\\_4'\n",
       "\\item 'job\\_5'\n",
       "\\item 'divorced'\n",
       "\\item 'single'\n",
       "\\item 'edu\\_primary'\n",
       "\\item 'co\\_cellular'\n",
       "\\item 'co\\_tel'\n",
       "\\item 'month\\_1'\n",
       "\\item 'month\\_2'\n",
       "\\item 'month\\_3'\n",
       "\\item 'month\\_4'\n",
       "\\item 'month\\_5'\n",
       "\\item 'month\\_6'\n",
       "\\item 'poc\\_success'\n",
       "\\item 'poc\\_failure'\n",
       "\\item 'poc\\_other'\n",
       "\\end{enumerate*}\n"
      ],
      "text/markdown": [
       "1. '(Intercept)'\n",
       "2. 'balance'\n",
       "3. 'housing'\n",
       "4. 'loan'\n",
       "5. 'day'\n",
       "6. 'duration'\n",
       "7. 'campaign'\n",
       "8. 'ID'\n",
       "9. 'job_2'\n",
       "10. 'job_3'\n",
       "11. 'job_4'\n",
       "12. 'job_5'\n",
       "13. 'divorced'\n",
       "14. 'single'\n",
       "15. 'edu_primary'\n",
       "16. 'co_cellular'\n",
       "17. 'co_tel'\n",
       "18. 'month_1'\n",
       "19. 'month_2'\n",
       "20. 'month_3'\n",
       "21. 'month_4'\n",
       "22. 'month_5'\n",
       "23. 'month_6'\n",
       "24. 'poc_success'\n",
       "25. 'poc_failure'\n",
       "26. 'poc_other'\n",
       "\n",
       "\n"
      ],
      "text/plain": [
       " [1] \"(Intercept)\" \"balance\"     \"housing\"     \"loan\"        \"day\"        \n",
       " [6] \"duration\"    \"campaign\"    \"ID\"          \"job_2\"       \"job_3\"      \n",
       "[11] \"job_4\"       \"job_5\"       \"divorced\"    \"single\"      \"edu_primary\"\n",
       "[16] \"co_cellular\" \"co_tel\"      \"month_1\"     \"month_2\"     \"month_3\"    \n",
       "[21] \"month_4\"     \"month_5\"     \"month_6\"     \"poc_success\" \"poc_failure\"\n",
       "[26] \"poc_other\"  "
      ]
     },
     "metadata": {},
     "output_type": "display_data"
    }
   ],
   "source": [
    "names(fit$coefficients)"
   ]
  },
  {
   "cell_type": "markdown",
   "id": "9f186834",
   "metadata": {},
   "source": [
    "lets build final logistic model on significant variables on dataset fit_train"
   ]
  },
  {
   "cell_type": "code",
   "execution_count": 62,
   "id": "41d7ed55",
   "metadata": {},
   "outputs": [],
   "source": [
    "fit_final=glm(y~balance + housing + loan + duration + campaign + ID + \n",
    "                job_3 + job_5 + divorced + single + edu_primary + \n",
    "                co_cellular + co_tel + month_1 + month_2 + month_3 + month_4 + \n",
    "                month_5 + month_6 + poc_success + poc_failure + poc_other ,data=fit_train,family=\"binomial\")"
   ]
  },
  {
   "cell_type": "code",
   "execution_count": 63,
   "id": "44bdd163",
   "metadata": {},
   "outputs": [
    {
     "data": {
      "text/plain": [
       "\n",
       "Call:\n",
       "glm(formula = y ~ balance + housing + loan + duration + campaign + \n",
       "    ID + job_3 + job_5 + divorced + single + edu_primary + co_cellular + \n",
       "    co_tel + month_1 + month_2 + month_3 + month_4 + month_5 + \n",
       "    month_6 + poc_success + poc_failure + poc_other, family = \"binomial\", \n",
       "    data = fit_train)\n",
       "\n",
       "Coefficients:\n",
       "              Estimate Std. Error z value Pr(>|z|)    \n",
       "(Intercept) -5.931e+00  1.206e-01 -49.168  < 2e-16 ***\n",
       "balance      1.298e-05  6.148e-06   2.112 0.034726 *  \n",
       "housing     -4.967e-01  5.208e-02  -9.536  < 2e-16 ***\n",
       "loan        -2.323e-01  7.149e-02  -3.249 0.001158 ** \n",
       "duration     4.522e-03  8.147e-05  55.508  < 2e-16 ***\n",
       "campaign    -4.798e-02  1.194e-02  -4.017 5.89e-05 ***\n",
       "ID           1.005e-04  3.012e-06  33.366  < 2e-16 ***\n",
       "job_3        1.661e-01  5.339e-02   3.112 0.001860 ** \n",
       "job_5        2.068e-01  8.908e-02   2.322 0.020243 *  \n",
       "divorced     2.567e-01  7.169e-02   3.581 0.000343 ***\n",
       "single       2.502e-01  4.948e-02   5.057 4.26e-07 ***\n",
       "edu_primary -3.026e-01  7.263e-02  -4.167 3.09e-05 ***\n",
       "co_cellular -8.257e-01  8.748e-02  -9.439  < 2e-16 ***\n",
       "co_tel      -1.033e+00  1.215e-01  -8.503  < 2e-16 ***\n",
       "month_1      4.945e-01  6.585e-02   7.510 5.90e-14 ***\n",
       "month_2      5.873e-01  1.195e-01   4.915 8.89e-07 ***\n",
       "month_3      2.161e+00  1.415e-01  15.270  < 2e-16 ***\n",
       "month_4      1.044e+00  1.208e-01   8.638  < 2e-16 ***\n",
       "month_5      6.734e-01  8.355e-02   8.061 7.59e-16 ***\n",
       "month_6      6.057e-01  9.448e-02   6.410 1.45e-10 ***\n",
       "poc_success  1.540e+00  8.219e-02  18.739  < 2e-16 ***\n",
       "poc_failure -4.203e-01  6.926e-02  -6.069 1.29e-09 ***\n",
       "poc_other   -2.482e-01  9.551e-02  -2.599 0.009359 ** \n",
       "---\n",
       "Signif. codes:  0 '***' 0.001 '**' 0.01 '*' 0.05 '.' 0.1 ' ' 1\n",
       "\n",
       "(Dispersion parameter for binomial family taken to be 1)\n",
       "\n",
       "    Null deviance: 22913  on 31646  degrees of freedom\n",
       "Residual deviance: 14295  on 31624  degrees of freedom\n",
       "AIC: 14341\n",
       "\n",
       "Number of Fisher Scoring iterations: 6\n"
      ]
     },
     "metadata": {},
     "output_type": "display_data"
    }
   ],
   "source": [
    "summary(fit_final)"
   ]
  },
  {
   "cell_type": "code",
   "execution_count": 64,
   "id": "1e46b0b7",
   "metadata": {},
   "outputs": [
    {
     "data": {
      "text/html": [
       "<style>\n",
       ".list-inline {list-style: none; margin:0; padding: 0}\n",
       ".list-inline>li {display: inline-block}\n",
       ".list-inline>li:not(:last-child)::after {content: \"\\00b7\"; padding: 0 .5ex}\n",
       "</style>\n",
       "<ol class=list-inline><li>'(Intercept)'</li><li>'balance'</li><li>'housing'</li><li>'loan'</li><li>'duration'</li><li>'campaign'</li><li>'ID'</li><li>'job_3'</li><li>'job_5'</li><li>'divorced'</li><li>'single'</li><li>'edu_primary'</li><li>'co_cellular'</li><li>'co_tel'</li><li>'month_1'</li><li>'month_2'</li><li>'month_3'</li><li>'month_4'</li><li>'month_5'</li><li>'month_6'</li><li>'poc_success'</li><li>'poc_failure'</li><li>'poc_other'</li></ol>\n"
      ],
      "text/latex": [
       "\\begin{enumerate*}\n",
       "\\item '(Intercept)'\n",
       "\\item 'balance'\n",
       "\\item 'housing'\n",
       "\\item 'loan'\n",
       "\\item 'duration'\n",
       "\\item 'campaign'\n",
       "\\item 'ID'\n",
       "\\item 'job\\_3'\n",
       "\\item 'job\\_5'\n",
       "\\item 'divorced'\n",
       "\\item 'single'\n",
       "\\item 'edu\\_primary'\n",
       "\\item 'co\\_cellular'\n",
       "\\item 'co\\_tel'\n",
       "\\item 'month\\_1'\n",
       "\\item 'month\\_2'\n",
       "\\item 'month\\_3'\n",
       "\\item 'month\\_4'\n",
       "\\item 'month\\_5'\n",
       "\\item 'month\\_6'\n",
       "\\item 'poc\\_success'\n",
       "\\item 'poc\\_failure'\n",
       "\\item 'poc\\_other'\n",
       "\\end{enumerate*}\n"
      ],
      "text/markdown": [
       "1. '(Intercept)'\n",
       "2. 'balance'\n",
       "3. 'housing'\n",
       "4. 'loan'\n",
       "5. 'duration'\n",
       "6. 'campaign'\n",
       "7. 'ID'\n",
       "8. 'job_3'\n",
       "9. 'job_5'\n",
       "10. 'divorced'\n",
       "11. 'single'\n",
       "12. 'edu_primary'\n",
       "13. 'co_cellular'\n",
       "14. 'co_tel'\n",
       "15. 'month_1'\n",
       "16. 'month_2'\n",
       "17. 'month_3'\n",
       "18. 'month_4'\n",
       "19. 'month_5'\n",
       "20. 'month_6'\n",
       "21. 'poc_success'\n",
       "22. 'poc_failure'\n",
       "23. 'poc_other'\n",
       "\n",
       "\n"
      ],
      "text/plain": [
       " [1] \"(Intercept)\" \"balance\"     \"housing\"     \"loan\"        \"duration\"   \n",
       " [6] \"campaign\"    \"ID\"          \"job_3\"       \"job_5\"       \"divorced\"   \n",
       "[11] \"single\"      \"edu_primary\" \"co_cellular\" \"co_tel\"      \"month_1\"    \n",
       "[16] \"month_2\"     \"month_3\"     \"month_4\"     \"month_5\"     \"month_6\"    \n",
       "[21] \"poc_success\" \"poc_failure\" \"poc_other\"  "
      ]
     },
     "metadata": {},
     "output_type": "display_data"
    }
   ],
   "source": [
    "names(fit_final$coefficients) "
   ]
  },
  {
   "cell_type": "markdown",
   "id": "ead73197",
   "metadata": {},
   "source": [
    "it shows: aic:14341 and 22 significant var in final model\n",
    "\n",
    "#### Thus logistic regression model is successfully built."
   ]
  },
  {
   "cell_type": "markdown",
   "id": "6fa5924e",
   "metadata": {},
   "source": [
    "### Now lets make predict scores"
   ]
  },
  {
   "cell_type": "code",
   "execution_count": 67,
   "id": "a71a770d",
   "metadata": {},
   "outputs": [],
   "source": [
    "train$score=predict(fit_final,newdata = train,type=\"response\")\n",
    "#score means Pi"
   ]
  },
  {
   "cell_type": "markdown",
   "id": "000940be",
   "metadata": {},
   "source": [
    "lets see how the score (Pi ) behaves."
   ]
  },
  {
   "cell_type": "code",
   "execution_count": 68,
   "id": "bfdc2fea",
   "metadata": {},
   "outputs": [
    {
     "name": "stderr",
     "output_type": "stream",
     "text": [
      "Installing package into 'C:/Users/HomePC/AppData/Local/R/win-library/4.4'\n",
      "(as 'lib' is unspecified)\n",
      "\n",
      "also installing the dependencies 'gtable', 'isoband'\n",
      "\n",
      "\n"
     ]
    },
    {
     "name": "stdout",
     "output_type": "stream",
     "text": [
      "package 'gtable' successfully unpacked and MD5 sums checked\n",
      "package 'isoband' successfully unpacked and MD5 sums checked\n",
      "package 'ggplot2' successfully unpacked and MD5 sums checked\n",
      "\n",
      "The downloaded binary packages are in\n",
      "\tC:\\Users\\HomePC\\AppData\\Local\\Temp\\RtmpMXhJFu\\downloaded_packages\n"
     ]
    }
   ],
   "source": [
    "install.packages(\"ggplot2\")"
   ]
  },
  {
   "cell_type": "code",
   "execution_count": 69,
   "id": "9e69a37a",
   "metadata": {},
   "outputs": [
    {
     "data": {
      "image/png": "[encoded data removed]",
      "text/plain": [
       "plot without title"
      ]
     },
     "metadata": {
      "image/png": {
       "height": 420,
       "width": 420
      }
     },
     "output_type": "display_data"
    }
   ],
   "source": [
    "library(ggplot2)\n",
    "ggplot(train,aes(y=y,x=score,color=factor(y)))+\n",
    "  geom_point()+geom_jitter()"
   ]
  },
  {
   "cell_type": "markdown",
   "id": "9873a170",
   "metadata": {},
   "source": [
    "### 4.Finding Cutoff value and Perfomance measurements of the model."
   ]
  },
  {
   "cell_type": "markdown",
   "id": "ba3563aa",
   "metadata": {},
   "source": [
    "lets find cutoff based on these probability scores."
   ]
  },
  {
   "cell_type": "code",
   "execution_count": 70,
   "id": "17a89ac3",
   "metadata": {},
   "outputs": [],
   "source": [
    "cutoff_data=data.frame(cutoff=0,TP=0,FP=0,FN=0,TN=0)\n",
    "cutoffs=seq(0,1,length=100)"
   ]
  },
  {
   "cell_type": "code",
   "execution_count": 71,
   "id": "9b78b3b6",
   "metadata": {},
   "outputs": [],
   "source": [
    "for (i in cutoffs){\n",
    "  predicted=as.numeric(train$score>i)\n",
    "  \n",
    "  TP=sum(predicted==1 & train$y==1)\n",
    "  FP=sum(predicted==1 & train$y==0)\n",
    "  FN=sum(predicted==0 & train$y==1)\n",
    "  TN=sum(predicted==0 & train$y==0)\n",
    "  cutoff_data=rbind(cutoff_data,c(i,TP,FP,FN,TN))\n",
    "}\n",
    "## lets remove the dummy data cotaining top row in data frame cutoff_data\n",
    "cutoff_data=cutoff_data[-1,]\n",
    "#we now have 100 obs in df cutoff_data"
   ]
  },
  {
   "cell_type": "markdown",
   "id": "5f1bd79c",
   "metadata": {},
   "source": [
    "lets calculate the performance measures:sensitivity,specificity,accuracy, KS and precision."
   ]
  },
  {
   "cell_type": "code",
   "execution_count": 72,
   "id": "8eee4488",
   "metadata": {},
   "outputs": [],
   "source": [
    "cutoff_data=cutoff_data %>%\n",
    "  mutate(P=FN+TP,N=TN+FP, #total positives and negatives\n",
    "         Sn=TP/P, #sensitivity\n",
    "         Sp=TN/N, #specificity\n",
    "         KS=abs((TP/P)-(FP/N)),\n",
    "         Accuracy=(TP+TN)/(P+N),\n",
    "         Lift=(TP/P)/((TP+FP)/(P+N)),\n",
    "         Precision=TP/(TP+FP),\n",
    "         Recall=TP/P\n",
    "  ) %>% \n",
    "  select(-P,-N)"
   ]
  },
  {
   "cell_type": "markdown",
   "id": "80e24cd1",
   "metadata": {},
   "source": [
    "lets view cutoff dataset:"
   ]
  },
  {
   "cell_type": "markdown",
   "id": "7ed56e8e",
   "metadata": {},
   "source": [
    "### Lets find cutoff value based on ks MAXIMUM."
   ]
  },
  {
   "cell_type": "code",
   "execution_count": 73,
   "id": "63805e30",
   "metadata": {},
   "outputs": [
    {
     "data": {
      "text/html": [
       "0.111111111111111"
      ],
      "text/latex": [
       "0.111111111111111"
      ],
      "text/markdown": [
       "0.111111111111111"
      ],
      "text/plain": [
       "[1] 0.1111111"
      ]
     },
     "metadata": {},
     "output_type": "display_data"
    }
   ],
   "source": [
    "KS_cutoff=cutoff_data$cutoff[which.max(cutoff_data$KS)]\n",
    "KS_cutoff"
   ]
  },
  {
   "cell_type": "markdown",
   "id": "7c4ee882",
   "metadata": {},
   "source": [
    "#### hence 0.1111111 is the cutoff value by ks max method."
   ]
  },
  {
   "cell_type": "markdown",
   "id": "24ebafd3",
   "metadata": {},
   "source": [
    "### 5.Predict the final output on test dataset.(whether the client subscribe or no to term deposit)"
   ]
  },
  {
   "cell_type": "markdown",
   "id": "de427812",
   "metadata": {},
   "source": [
    "lets predict test scores"
   ]
  },
  {
   "cell_type": "code",
   "execution_count": 92,
   "id": "dd620400",
   "metadata": {},
   "outputs": [],
   "source": [
    "library(dplyr)\n",
    "library(car)\n",
    "library(ggplot2)\n",
    "library(pROC)"
   ]
  },
  {
   "cell_type": "code",
   "execution_count": 102,
   "id": "8d69a989",
   "metadata": {},
   "outputs": [],
   "source": [
    "test$score=predict(fit_final,newdata =test,type = \"response\")#on final test dataset."
   ]
  },
  {
   "cell_type": "markdown",
   "id": "cf20e022",
   "metadata": {},
   "source": [
    "Predicting whether the client has subscribed or no in final test dataset."
   ]
  },
  {
   "cell_type": "code",
   "execution_count": 104,
   "id": "9c14be75",
   "metadata": {},
   "outputs": [
    {
     "data": {
      "text/plain": [
       "\n",
       "    0     1 \n",
       "10168  3396 "
      ]
     },
     "metadata": {},
     "output_type": "display_data"
    }
   ],
   "source": [
    "test$left=as.numeric(test$score>KS_cutoff)#if score is greater dan cutoff then true(1) else false(0)\n",
    "table(test$left)"
   ]
  },
  {
   "cell_type": "markdown",
   "id": "2985e011",
   "metadata": {},
   "source": [
    "Thus final prediction is as follows:"
   ]
  },
  {
   "cell_type": "code",
   "execution_count": 76,
   "id": "8158057e",
   "metadata": {},
   "outputs": [
    {
     "data": {
      "text/plain": [
       "\n",
       "   no   yes \n",
       "10168  3396 "
      ]
     },
     "metadata": {},
     "output_type": "display_data"
    }
   ],
   "source": [
    "test$leftfinal=factor(test$left,levels = c(0,1),labels=c(\"no\",\"yes\"))\n",
    "table(test$leftfinal)"
   ]
  },
  {
   "cell_type": "markdown",
   "id": "ffada251",
   "metadata": {},
   "source": [
    "writing into csv file final output test$leftfinal"
   ]
  },
  {
   "cell_type": "markdown",
   "id": "bd93819d",
   "metadata": {},
   "source": [
    "Thus 3396 customers out of 13564 subscribe to term deposit according to the model."
   ]
  },
  {
   "cell_type": "code",
   "execution_count": 106,
   "id": "5fa003bf",
   "metadata": {},
   "outputs": [],
   "source": [
    "write.csv(test$leftfinal,\"P5_sub_1.csv\")"
   ]
  },
  {
   "cell_type": "markdown",
   "id": "54640d39",
   "metadata": {},
   "source": [
    "### Creating confusion matrix and find how good our model is (by predicting on test_25 dataset)"
   ]
  },
  {
   "cell_type": "code",
   "execution_count": 77,
   "id": "551e9432",
   "metadata": {},
   "outputs": [],
   "source": [
    "test_25$score=predict(fit_final,newdata =test_25,type = \"response\")"
   ]
  },
  {
   "cell_type": "code",
   "execution_count": 78,
   "id": "f4e118aa",
   "metadata": {},
   "outputs": [
    {
     "data": {
      "text/plain": [
       "   \n",
       "       0    1\n",
       "  0 5740 1238\n",
       "  1  105  829"
      ]
     },
     "metadata": {},
     "output_type": "display_data"
    }
   ],
   "source": [
    "table(test_25$y,as.numeric(test_25$score>KS_cutoff))"
   ]
  },
  {
   "cell_type": "code",
   "execution_count": 79,
   "id": "ed35444e",
   "metadata": {},
   "outputs": [
    {
     "data": {
      "text/plain": [
       "\n",
       "   0    1 \n",
       "6978  934 "
      ]
     },
     "metadata": {},
     "output_type": "display_data"
    }
   ],
   "source": [
    "table(test_25$y)"
   ]
  },
  {
   "cell_type": "markdown",
   "id": "e4f398ef",
   "metadata": {},
   "source": [
    "here TP=770,TN=5888,FP=,FN=\n",
    "Accuracy=(TP+TN)/(P+N):"
   ]
  },
  {
   "cell_type": "code",
   "execution_count": 80,
   "id": "9b601c3e",
   "metadata": {},
   "outputs": [
    {
     "data": {
      "text/html": [
       "0.841506572295248"
      ],
      "text/latex": [
       "0.841506572295248"
      ],
      "text/markdown": [
       "0.841506572295248"
      ],
      "text/plain": [
       "[1] 0.8415066"
      ]
     },
     "metadata": {},
     "output_type": "display_data"
    }
   ],
   "source": [
    "a=(770+5888)/7912\n",
    "a"
   ]
  },
  {
   "cell_type": "markdown",
   "id": "e188ea6c",
   "metadata": {},
   "source": [
    "Hence error will be:"
   ]
  },
  {
   "cell_type": "code",
   "execution_count": 81,
   "id": "b6ad0cda",
   "metadata": {},
   "outputs": [
    {
     "data": {
      "text/html": [
       "0.158493427704752"
      ],
      "text/latex": [
       "0.158493427704752"
      ],
      "text/markdown": [
       "0.158493427704752"
      ],
      "text/plain": [
       "[1] 0.1584934"
      ]
     },
     "metadata": {},
     "output_type": "display_data"
    }
   ],
   "source": [
    "1-a"
   ]
  },
  {
   "cell_type": "markdown",
   "id": "e4083c18",
   "metadata": {},
   "source": [
    "Error is 15.85%.(according to ks method)\n",
    "\n",
    "Lets plot the ROC curve:"
   ]
  },
  {
   "cell_type": "code",
   "execution_count": 85,
   "id": "bc7f123d",
   "metadata": {},
   "outputs": [
    {
     "name": "stderr",
     "output_type": "stream",
     "text": [
      "Installing package into 'C:/Users/HomePC/AppData/Local/R/win-library/4.4'\n",
      "(as 'lib' is unspecified)\n",
      "\n",
      "also installing the dependency 'plyr'\n",
      "\n",
      "\n"
     ]
    },
    {
     "name": "stdout",
     "output_type": "stream",
     "text": [
      "package 'plyr' successfully unpacked and MD5 sums checked\n",
      "package 'pROC' successfully unpacked and MD5 sums checked\n",
      "\n",
      "The downloaded binary packages are in\n",
      "\tC:\\Users\\HomePC\\AppData\\Local\\Temp\\RtmpMXhJFu\\downloaded_packages\n"
     ]
    }
   ],
   "source": [
    "install.packages(\"pROC\")\n"
   ]
  },
  {
   "cell_type": "code",
   "execution_count": 86,
   "id": "126e0e48",
   "metadata": {},
   "outputs": [
    {
     "name": "stderr",
     "output_type": "stream",
     "text": [
      "Type 'citation(\"pROC\")' for a citation.\n",
      "\n",
      "\n",
      "Attaching package: 'pROC'\n",
      "\n",
      "\n",
      "The following objects are masked from 'package:stats':\n",
      "\n",
      "    cov, smooth, var\n",
      "\n",
      "\n"
     ]
    }
   ],
   "source": [
    "library(pROC)"
   ]
  },
  {
   "cell_type": "code",
   "execution_count": 87,
   "id": "375d86f6",
   "metadata": {},
   "outputs": [
    {
     "name": "stderr",
     "output_type": "stream",
     "text": [
      "Setting levels: control = 0, case = 1\n",
      "\n",
      "Setting direction: controls < cases\n",
      "\n"
     ]
    },
    {
     "data": {
      "image/png": "[encoded data removed]",
      "text/plain": [
       "plot without title"
      ]
     },
     "metadata": {
      "image/png": {
       "height": 420,
       "width": 420
      }
     },
     "output_type": "display_data"
    }
   ],
   "source": [
    "roccurve=roc(test_25$y,test_25$score) #real outcome and predicted score is plotted\n",
    "plot(roccurve)"
   ]
  },
  {
   "cell_type": "markdown",
   "id": "9d4043ec",
   "metadata": {},
   "source": [
    "Thus area under the ROC curve is:"
   ]
  },
  {
   "cell_type": "code",
   "execution_count": 88,
   "id": "9a166c59",
   "metadata": {},
   "outputs": [
    {
     "data": {
      "text/html": [
       "0.925108309198134"
      ],
      "text/latex": [
       "0.925108309198134"
      ],
      "text/markdown": [
       "0.925108309198134"
      ],
      "text/plain": [
       "Area under the curve: 0.9251"
      ]
     },
     "metadata": {},
     "output_type": "display_data"
    }
   ],
   "source": [
    "auc(roccurve)"
   ]
  },
  {
   "cell_type": "markdown",
   "id": "5fbb6706",
   "metadata": {},
   "source": [
    "#### Conclusion:\n",
    "Thus the target no. of customers to be focused upon for term deposits by the bank are predicted successfully using logistic regression model with an accuracy of 84.15% using KS method. The KS score examined came out to be: 0.72/1.00."
   ]
  }
 ],
 "metadata": {
  "kernelspec": {
   "display_name": "R",
   "language": "R",
   "name": "ir"
  },
  "language_info": {
   "codemirror_mode": "r",
   "file_extension": ".r",
   "mimetype": "text/x-r-source",
   "name": "R",
   "pygments_lexer": "r",
   "version": "4.4.0"
  }
 },
 "nbformat": 4,
 "nbformat_minor": 5
}
